{
    "nbformat_minor": 1, 
    "cells": [
        {
            "source": "Segmenting and Clustering Neighborhoods in Toronto\n\nFor this assignment, you will be required to explore and cluster the neighborhoods in Toronto.\n\nStart by creating a new Notebook for this assignment. Use the Notebook to build the code to scrape the following Wikipedia page, https://en.wikipedia.org/wiki/List_of_postal_codes_of_Canada:_M, in order to obtain the data that is in the table of postal codes and to transform the data into a pandas dataframe like the one shown below.", 
            "cell_type": "markdown", 
            "metadata": {
                "collapsed": true
            }
        }, 
        {
            "source": "Import libraries", 
            "cell_type": "markdown", 
            "metadata": {}
        }, 
        {
            "execution_count": 1, 
            "cell_type": "code", 
            "metadata": {}, 
            "outputs": [
                {
                    "ename": "ImportError", 
                    "evalue": "No module named 'folium'", 
                    "traceback": [
                        "\u001b[0;31m---------------------------------------------------------------------------\u001b[0m", 
                        "\u001b[0;31mImportError\u001b[0m                               Traceback (most recent call last)", 
                        "\u001b[0;32m<ipython-input-1-515ae7aea00f>\u001b[0m in \u001b[0;36m<module>\u001b[0;34m()\u001b[0m\n\u001b[1;32m     17\u001b[0m \u001b[0;32mimport\u001b[0m \u001b[0mmatplotlib\u001b[0m\u001b[0;34m.\u001b[0m\u001b[0mcm\u001b[0m \u001b[0;32mas\u001b[0m \u001b[0mcm\u001b[0m\u001b[0;34m\u001b[0m\u001b[0m\n\u001b[1;32m     18\u001b[0m \u001b[0;32mimport\u001b[0m \u001b[0mmatplotlib\u001b[0m\u001b[0;34m.\u001b[0m\u001b[0mcolors\u001b[0m \u001b[0;32mas\u001b[0m \u001b[0mcolors\u001b[0m\u001b[0;34m\u001b[0m\u001b[0m\n\u001b[0;32m---> 19\u001b[0;31m \u001b[0;32mimport\u001b[0m \u001b[0mfolium\u001b[0m\u001b[0;34m\u001b[0m\u001b[0m\n\u001b[0m\u001b[1;32m     20\u001b[0m \u001b[0;34m\u001b[0m\u001b[0m\n\u001b[1;32m     21\u001b[0m \u001b[0;31m#kmeans clustering\u001b[0m\u001b[0;34m\u001b[0m\u001b[0;34m\u001b[0m\u001b[0m\n", 
                        "\u001b[0;31mImportError\u001b[0m: No module named 'folium'"
                    ], 
                    "output_type": "error"
                }
            ], 
            "source": "import pandas as pd\nimport numpy as np\n\n#json tools\nimport json\nfrom pandas.io.json import json_normalize\n\n#scraping\nimport requests\nfrom urllib.request import urlopen\nfrom bs4 import BeautifulSoup\n\n#geocoders\nfrom geopy.geocoders import Nominatim\n\n#visualization libraries\nimport matplotlib.cm as cm\nimport matplotlib.colors as colors\nimport folium\n\n#kmeans clustering\nfrom sklearn.cluster import KMeans\n\nprint('Done!')"
        }, 
        {
            "source": "Task 1 - Scraping Wikipedia page, creating Pandas DF, cleaning data", 
            "cell_type": "markdown", 
            "metadata": {}
        }, 
        {
            "source": "Using BeautifulSoup and URLopen libraries", 
            "cell_type": "markdown", 
            "metadata": {}
        }, 
        {
            "execution_count": 2, 
            "cell_type": "code", 
            "metadata": {}, 
            "outputs": [], 
            "source": "wlink = 'https://en.wikipedia.org/wiki/List_of_postal_codes_of_Canada:_M'\nraw_page = urlopen(wlink).read().decode('utf-8')\npage = BeautifulSoup(raw_page, 'html.parser')\ntable = page.body.table.tbody"
        }, 
        {
            "source": "Next, transforming the table data to Pandas Dataframe", 
            "cell_type": "markdown", 
            "metadata": {}
        }, 
        {
            "execution_count": 3, 
            "cell_type": "code", 
            "metadata": {}, 
            "outputs": [], 
            "source": "#functions for getting cell and row data\n\ndef table_cell(i):\n    cells = i.find_all('td')\n    row = []\n    \n    for cell in cells:\n        if cell.a:            \n            if (cell.a.text):\n                row.append(cell.a.text)\n                continue\n        row.append(cell.string.strip())\n        \n    return row\n\ndef table_row():    \n    data = []  \n    \n    for tr in table.find_all('tr'):\n        row = table_cell(tr)\n        if len(row) != 3:\n            continue\n        data.append(row)        \n    \n    return data"
        }, 
        {
            "execution_count": 4, 
            "cell_type": "code", 
            "metadata": {}, 
            "outputs": [
                {
                    "execution_count": 4, 
                    "metadata": {}, 
                    "data": {
                        "text/html": "<div>\n<style scoped>\n    .dataframe tbody tr th:only-of-type {\n        vertical-align: middle;\n    }\n\n    .dataframe tbody tr th {\n        vertical-align: top;\n    }\n\n    .dataframe thead th {\n        text-align: right;\n    }\n</style>\n<table border=\"1\" class=\"dataframe\">\n  <thead>\n    <tr style=\"text-align: right;\">\n      <th></th>\n      <th>Postcode</th>\n      <th>Borough</th>\n      <th>Neighbourhood</th>\n    </tr>\n  </thead>\n  <tbody>\n    <tr>\n      <th>0</th>\n      <td>M1A</td>\n      <td>Not assigned</td>\n      <td>Not assigned</td>\n    </tr>\n    <tr>\n      <th>1</th>\n      <td>M2A</td>\n      <td>Not assigned</td>\n      <td>Not assigned</td>\n    </tr>\n    <tr>\n      <th>2</th>\n      <td>M3A</td>\n      <td>North York</td>\n      <td>Parkwoods</td>\n    </tr>\n    <tr>\n      <th>3</th>\n      <td>M4A</td>\n      <td>North York</td>\n      <td>Victoria Village</td>\n    </tr>\n    <tr>\n      <th>4</th>\n      <td>M5A</td>\n      <td>Downtown Toronto</td>\n      <td>Harbourfront</td>\n    </tr>\n  </tbody>\n</table>\n</div>", 
                        "text/plain": "  Postcode           Borough     Neighbourhood\n0      M1A      Not assigned      Not assigned\n1      M2A      Not assigned      Not assigned\n2      M3A        North York         Parkwoods\n3      M4A        North York  Victoria Village\n4      M5A  Downtown Toronto      Harbourfront"
                    }, 
                    "output_type": "execute_result"
                }
            ], 
            "source": "#writing into pandas dataframe\ndata = table_row()\ncolumns = ['Postcode', 'Borough', 'Neighbourhood']\ndf = pd.DataFrame(data, columns=columns)\ndf.head()"
        }, 
        {
            "source": "Cleaning the data:\n1.Only process the cells that have an assigned borough. Ignore cells with a borough that is Not assigned.\n2.More than one neighborhood can exist in one postal code area. For example, in the table on the Wikipedia page, you will notice that M5A is listed twice and has two neighborhoods: Harbourfront and Regent Park. These two rows will be combined into one row with the neighborhoods separated with a comma as shown in row 11 in the above table.\n3.If a cell has a borough but a Not assigned neighborhood, then the neighborhood will be the same as the borough. So for the 9th cell in the table on the Wikipedia page, the value of the Borough and the Neighborhood columns will be Queen's Park.\n4.Clean your Notebook and add Markdown cells to explain your work and any assumptions you are making.\n5.In the last cell of your notebook, use the .shape method to print the number of rows of your dataframe.", 
            "cell_type": "markdown", 
            "metadata": {}
        }, 
        {
            "execution_count": 5, 
            "cell_type": "code", 
            "metadata": {}, 
            "outputs": [
                {
                    "execution_count": 5, 
                    "metadata": {}, 
                    "data": {
                        "text/html": "<div>\n<style scoped>\n    .dataframe tbody tr th:only-of-type {\n        vertical-align: middle;\n    }\n\n    .dataframe tbody tr th {\n        vertical-align: top;\n    }\n\n    .dataframe thead th {\n        text-align: right;\n    }\n</style>\n<table border=\"1\" class=\"dataframe\">\n  <thead>\n    <tr style=\"text-align: right;\">\n      <th></th>\n      <th>Postcode</th>\n      <th>Borough</th>\n      <th>Neighbourhood</th>\n    </tr>\n  </thead>\n  <tbody>\n    <tr>\n      <th>0</th>\n      <td>M1B</td>\n      <td>Scarborough</td>\n      <td>Rouge</td>\n    </tr>\n    <tr>\n      <th>1</th>\n      <td>M1B</td>\n      <td>Scarborough</td>\n      <td>Malvern</td>\n    </tr>\n    <tr>\n      <th>2</th>\n      <td>M1C</td>\n      <td>Scarborough</td>\n      <td>Highland Creek</td>\n    </tr>\n    <tr>\n      <th>3</th>\n      <td>M1C</td>\n      <td>Scarborough</td>\n      <td>Rouge Hill</td>\n    </tr>\n    <tr>\n      <th>4</th>\n      <td>M1C</td>\n      <td>Scarborough</td>\n      <td>Port Union</td>\n    </tr>\n  </tbody>\n</table>\n</div>", 
                        "text/plain": "  Postcode      Borough   Neighbourhood\n0      M1B  Scarborough           Rouge\n1      M1B  Scarborough         Malvern\n2      M1C  Scarborough  Highland Creek\n3      M1C  Scarborough      Rouge Hill\n4      M1C  Scarborough      Port Union"
                    }, 
                    "output_type": "execute_result"
                }
            ], 
            "source": "#dropping the \"Not Assigned\" borough\ndf1 = df[df.Borough != 'Not assigned']\ndf1 = df1.sort_values(by=['Postcode','Borough'])\n\ndf1.reset_index(inplace=True)\ndf1.drop('index',axis=1,inplace=True)\ndf1.head()"
        }, 
        {
            "execution_count": 6, 
            "cell_type": "code", 
            "metadata": {}, 
            "outputs": [
                {
                    "execution_count": 6, 
                    "metadata": {}, 
                    "data": {
                        "text/html": "<div>\n<style scoped>\n    .dataframe tbody tr th:only-of-type {\n        vertical-align: middle;\n    }\n\n    .dataframe tbody tr th {\n        vertical-align: top;\n    }\n\n    .dataframe thead th {\n        text-align: right;\n    }\n</style>\n<table border=\"1\" class=\"dataframe\">\n  <thead>\n    <tr style=\"text-align: right;\">\n      <th></th>\n      <th>Postcode</th>\n      <th>Borough</th>\n      <th>Neighbourhood</th>\n    </tr>\n  </thead>\n  <tbody>\n    <tr>\n      <th>0</th>\n      <td>M1B</td>\n      <td>Scarborough</td>\n      <td>Rouge,Malvern</td>\n    </tr>\n    <tr>\n      <th>1</th>\n      <td>M1C</td>\n      <td>Scarborough</td>\n      <td>Highland Creek,Rouge Hill,Port Union</td>\n    </tr>\n    <tr>\n      <th>2</th>\n      <td>M1E</td>\n      <td>Scarborough</td>\n      <td>Guildwood,Morningside,West Hill</td>\n    </tr>\n    <tr>\n      <th>3</th>\n      <td>M1G</td>\n      <td>Scarborough</td>\n      <td>Woburn</td>\n    </tr>\n    <tr>\n      <th>4</th>\n      <td>M1H</td>\n      <td>Scarborough</td>\n      <td>Cedarbrae</td>\n    </tr>\n  </tbody>\n</table>\n</div>", 
                        "text/plain": "  Postcode      Borough                         Neighbourhood\n0      M1B  Scarborough                         Rouge,Malvern\n1      M1C  Scarborough  Highland Creek,Rouge Hill,Port Union\n2      M1E  Scarborough       Guildwood,Morningside,West Hill\n3      M1G  Scarborough                                Woburn\n4      M1H  Scarborough                             Cedarbrae"
                    }, 
                    "output_type": "execute_result"
                }
            ], 
            "source": "#Consolidating the neighbourhoods that share the postcode\n\ndf_postcodes = df1['Postcode']\ndf_postcodes.drop_duplicates(inplace=True)\ndf2 = pd.DataFrame(df_postcodes)\ndf2['Borough'] = '';\ndf2['Neighbourhood'] = '';\n\n\ndf2.reset_index(inplace=True)\ndf2.drop('index', axis=1, inplace=True)\ndf1.reset_index(inplace=True)\ndf1.drop('index', axis=1, inplace=True)\n\nfor i in df2.index:\n    for j in df1.index:\n        if df2.iloc[i, 0] == df1.iloc[j, 0]:\n            df2.iloc[i, 1] = df1.iloc[j, 1]\n            df2.iloc[i, 2] = df2.iloc[i, 2] + ',' + df1.iloc[j, 2]\n            \nfor i in df2.index:\n    s = df2.iloc[i, 2]\n    if s[0] == ',':\n        s =s [1:]\n    df2.iloc[i,2 ] = s\n    \ndf2.head()"
        }, 
        {
            "execution_count": 7, 
            "cell_type": "code", 
            "metadata": {}, 
            "outputs": [
                {
                    "execution_count": 7, 
                    "metadata": {}, 
                    "data": {
                        "text/plain": "(103, 3)"
                    }, 
                    "output_type": "execute_result"
                }
            ], 
            "source": "#Checking dataframe shape\ndf2.shape"
        }, 
        {
            "source": "Task 2 - Get Coordinates", 
            "cell_type": "markdown", 
            "metadata": {}
        }, 
        {
            "source": "Now that you have built a dataframe of the postal code of each neighborhood along with the borough name and neighborhood name, in order to utilize the Foursquare location data, we need to get the latitude and the longitude coordinates of each neighborhood.", 
            "cell_type": "markdown", 
            "metadata": {}
        }, 
        {
            "source": "Using the provided Geospatial_Coordinates.csv file to get the coordinates:", 
            "cell_type": "markdown", 
            "metadata": {}
        }, 
        {
            "execution_count": 8, 
            "cell_type": "code", 
            "metadata": {}, 
            "outputs": [], 
            "source": "\n#reading the file to coord dataframe\ndf2['Latitude'] = '0';\ndf2['Longitude'] = '0';\n\ncoord = pd.read_csv('https://cocl.us/Geospatial_data')"
        }, 
        {
            "execution_count": 9, 
            "cell_type": "code", 
            "metadata": {}, 
            "outputs": [
                {
                    "execution_count": 9, 
                    "metadata": {}, 
                    "data": {
                        "text/html": "<div>\n<style scoped>\n    .dataframe tbody tr th:only-of-type {\n        vertical-align: middle;\n    }\n\n    .dataframe tbody tr th {\n        vertical-align: top;\n    }\n\n    .dataframe thead th {\n        text-align: right;\n    }\n</style>\n<table border=\"1\" class=\"dataframe\">\n  <thead>\n    <tr style=\"text-align: right;\">\n      <th></th>\n      <th>Postcode</th>\n      <th>Borough</th>\n      <th>Neighbourhood</th>\n      <th>Latitude</th>\n      <th>Longitude</th>\n    </tr>\n  </thead>\n  <tbody>\n    <tr>\n      <th>0</th>\n      <td>M1B</td>\n      <td>Scarborough</td>\n      <td>Rouge,Malvern</td>\n      <td>43.8067</td>\n      <td>-79.1944</td>\n    </tr>\n    <tr>\n      <th>1</th>\n      <td>M1C</td>\n      <td>Scarborough</td>\n      <td>Highland Creek,Rouge Hill,Port Union</td>\n      <td>43.7845</td>\n      <td>-79.1605</td>\n    </tr>\n    <tr>\n      <th>2</th>\n      <td>M1E</td>\n      <td>Scarborough</td>\n      <td>Guildwood,Morningside,West Hill</td>\n      <td>43.7636</td>\n      <td>-79.1887</td>\n    </tr>\n    <tr>\n      <th>3</th>\n      <td>M1G</td>\n      <td>Scarborough</td>\n      <td>Woburn</td>\n      <td>43.771</td>\n      <td>-79.2169</td>\n    </tr>\n    <tr>\n      <th>4</th>\n      <td>M1H</td>\n      <td>Scarborough</td>\n      <td>Cedarbrae</td>\n      <td>43.7731</td>\n      <td>-79.2395</td>\n    </tr>\n  </tbody>\n</table>\n</div>", 
                        "text/plain": "  Postcode      Borough                         Neighbourhood Latitude  \\\n0      M1B  Scarborough                         Rouge,Malvern  43.8067   \n1      M1C  Scarborough  Highland Creek,Rouge Hill,Port Union  43.7845   \n2      M1E  Scarborough       Guildwood,Morningside,West Hill  43.7636   \n3      M1G  Scarborough                                Woburn   43.771   \n4      M1H  Scarborough                             Cedarbrae  43.7731   \n\n  Longitude  \n0  -79.1944  \n1  -79.1605  \n2  -79.1887  \n3  -79.2169  \n4  -79.2395  "
                    }, 
                    "output_type": "execute_result"
                }
            ], 
            "source": "\n#merging dataframe that contain coordinates with the one that contains borough names\nfor i in df2.index:\n    for j in coord.index:\n        if df2.iloc[i, 0] == coord.iloc[j, 0]:\n            df2.iloc[i, 3] = coord.iloc[j, 1]\n            df2.iloc[i, 4] = coord.iloc[j, 2]\n\n#checking the results            \ndf2.head()"
        }, 
        {
            "source": "Task 3 - Analysis", 
            "cell_type": "markdown", 
            "metadata": {}
        }, 
        {
            "source": "\nExplore and cluster the neighborhoods in Toronto. You can decide to work with only boroughs that contain the word Toronto and then replicate the same analysis we did to the New York City data. It is up to you.", 
            "cell_type": "markdown", 
            "metadata": {}
        }, 
        {
            "source": "Just make sure:", 
            "cell_type": "markdown", 
            "metadata": {}
        }, 
        {
            "source": "1.To add enough Markdown cells to explain what you decided to do and to report any observations you make.\n\n2.To generate maps to visualize your neighborhoods and how they cluster together.", 
            "cell_type": "markdown", 
            "metadata": {}
        }, 
        {
            "source": "3.1 Select only the neighbourhoods of Downtown Toronto", 
            "cell_type": "markdown", 
            "metadata": {}
        }, 
        {
            "source": "Choose the neighbourhoods that contain word \" Downtown Toronto\"", 
            "cell_type": "markdown", 
            "metadata": {}
        }, 
        {
            "execution_count": 10, 
            "cell_type": "code", 
            "metadata": {}, 
            "outputs": [
                {
                    "execution_count": 10, 
                    "metadata": {}, 
                    "data": {
                        "text/html": "<div>\n<style scoped>\n    .dataframe tbody tr th:only-of-type {\n        vertical-align: middle;\n    }\n\n    .dataframe tbody tr th {\n        vertical-align: top;\n    }\n\n    .dataframe thead th {\n        text-align: right;\n    }\n</style>\n<table border=\"1\" class=\"dataframe\">\n  <thead>\n    <tr style=\"text-align: right;\">\n      <th></th>\n      <th>Postcode</th>\n      <th>Borough</th>\n      <th>Neighbourhood</th>\n      <th>Latitude</th>\n      <th>Longitude</th>\n    </tr>\n  </thead>\n  <tbody>\n    <tr>\n      <th>0</th>\n      <td>M4W</td>\n      <td>Downtown Toronto</td>\n      <td>Rosedale</td>\n      <td>43.6796</td>\n      <td>-79.3775</td>\n    </tr>\n    <tr>\n      <th>1</th>\n      <td>M4X</td>\n      <td>Downtown Toronto</td>\n      <td>Cabbagetown,St. James Town</td>\n      <td>43.668</td>\n      <td>-79.3677</td>\n    </tr>\n    <tr>\n      <th>2</th>\n      <td>M4Y</td>\n      <td>Downtown Toronto</td>\n      <td>Church and Wellesley</td>\n      <td>43.6659</td>\n      <td>-79.3832</td>\n    </tr>\n    <tr>\n      <th>3</th>\n      <td>M5A</td>\n      <td>Downtown Toronto</td>\n      <td>Harbourfront,Regent Park</td>\n      <td>43.6543</td>\n      <td>-79.3606</td>\n    </tr>\n    <tr>\n      <th>4</th>\n      <td>M5B</td>\n      <td>Downtown Toronto</td>\n      <td>Ryerson,Garden District</td>\n      <td>43.6572</td>\n      <td>-79.3789</td>\n    </tr>\n  </tbody>\n</table>\n</div>", 
                        "text/plain": "  Postcode           Borough               Neighbourhood Latitude Longitude\n0      M4W  Downtown Toronto                    Rosedale  43.6796  -79.3775\n1      M4X  Downtown Toronto  Cabbagetown,St. James Town   43.668  -79.3677\n2      M4Y  Downtown Toronto        Church and Wellesley  43.6659  -79.3832\n3      M5A  Downtown Toronto    Harbourfront,Regent Park  43.6543  -79.3606\n4      M5B  Downtown Toronto     Ryerson,Garden District  43.6572  -79.3789"
                    }, 
                    "output_type": "execute_result"
                }
            ], 
            "source": "toronto = df2[df2['Borough'] == 'Downtown Toronto'].reset_index(drop=True)\ntoronto.head()"
        }, 
        {
            "execution_count": 11, 
            "cell_type": "code", 
            "metadata": {}, 
            "outputs": [
                {
                    "output_type": "stream", 
                    "name": "stdout", 
                    "text": "The geograpical coordinates of Toronto are 43.653963, -79.387207.\n"
                }
            ], 
            "source": "#get the coordinates for Toronto\naddress = 'Toronto, Canada'\n\ngeolocator = Nominatim(user_agent=\"ny_explorer\")\nlocation = geolocator.geocode(address)\nlatitude = location.latitude\nlongitude = location.longitude\nprint('The geograpical coordinates of Toronto are {}, {}.'.format(latitude, longitude))"
        }, 
        {
            "execution_count": 12, 
            "cell_type": "code", 
            "metadata": {}, 
            "outputs": [
                {
                    "ename": "NameError", 
                    "evalue": "name 'folium' is not defined", 
                    "traceback": [
                        "\u001b[0;31m---------------------------------------------------------------------------\u001b[0m", 
                        "\u001b[0;31mNameError\u001b[0m                                 Traceback (most recent call last)", 
                        "\u001b[0;32m<ipython-input-12-15befa2ab8de>\u001b[0m in \u001b[0;36m<module>\u001b[0;34m()\u001b[0m\n\u001b[1;32m      1\u001b[0m \u001b[0;31m#create the Folium map of Downtown Toronto\u001b[0m\u001b[0;34m\u001b[0m\u001b[0;34m\u001b[0m\u001b[0m\n\u001b[0;32m----> 2\u001b[0;31m \u001b[0mmap_toronto\u001b[0m \u001b[0;34m=\u001b[0m \u001b[0mfolium\u001b[0m\u001b[0;34m.\u001b[0m\u001b[0mMap\u001b[0m\u001b[0;34m(\u001b[0m\u001b[0mlocation\u001b[0m\u001b[0;34m=\u001b[0m\u001b[0;34m[\u001b[0m\u001b[0mlatitude\u001b[0m\u001b[0;34m,\u001b[0m \u001b[0mlongitude\u001b[0m\u001b[0;34m]\u001b[0m\u001b[0;34m,\u001b[0m \u001b[0mzoom_start\u001b[0m\u001b[0;34m=\u001b[0m\u001b[0;36m13\u001b[0m\u001b[0;34m)\u001b[0m\u001b[0;34m\u001b[0m\u001b[0m\n\u001b[0m\u001b[1;32m      3\u001b[0m \u001b[0;34m\u001b[0m\u001b[0m\n\u001b[1;32m      4\u001b[0m \u001b[0;31m# add markers to map\u001b[0m\u001b[0;34m\u001b[0m\u001b[0;34m\u001b[0m\u001b[0m\n\u001b[1;32m      5\u001b[0m \u001b[0;32mfor\u001b[0m \u001b[0mlat\u001b[0m\u001b[0;34m,\u001b[0m \u001b[0mlng\u001b[0m\u001b[0;34m,\u001b[0m \u001b[0mlabel\u001b[0m \u001b[0;32min\u001b[0m \u001b[0mzip\u001b[0m\u001b[0;34m(\u001b[0m\u001b[0mtoronto\u001b[0m\u001b[0;34m[\u001b[0m\u001b[0;34m'Latitude'\u001b[0m\u001b[0;34m]\u001b[0m\u001b[0;34m,\u001b[0m \u001b[0mtoronto\u001b[0m\u001b[0;34m[\u001b[0m\u001b[0;34m'Longitude'\u001b[0m\u001b[0;34m]\u001b[0m\u001b[0;34m,\u001b[0m \u001b[0mtoronto\u001b[0m\u001b[0;34m[\u001b[0m\u001b[0;34m'Neighbourhood'\u001b[0m\u001b[0;34m]\u001b[0m\u001b[0;34m)\u001b[0m\u001b[0;34m:\u001b[0m\u001b[0;34m\u001b[0m\u001b[0m\n", 
                        "\u001b[0;31mNameError\u001b[0m: name 'folium' is not defined"
                    ], 
                    "output_type": "error"
                }
            ], 
            "source": "#create the Folium map of Downtown Toronto\nmap_toronto = folium.Map(location=[latitude, longitude], zoom_start=13)\n\n# add markers to map\nfor lat, lng, label in zip(toronto['Latitude'], toronto['Longitude'], toronto['Neighbourhood']):\n    label = folium.Popup(label, parse_html=True)\n    folium.CircleMarker(\n        [lat, lng],\n        radius=5,\n        popup=label,\n        color='blue',\n        fill=True,\n        fill_color='#3186cc',\n        fill_opacity=0.7,\n        parse_html=False).add_to(map_toronto)  \n    \nmap_toronto"
        }, 
        {
            "source": "3.2 Utilizing the Foursquare API to get top 100 venues in Downtown Toronto", 
            "cell_type": "markdown", 
            "metadata": {}
        }, 
        {
            "execution_count": 13, 
            "cell_type": "code", 
            "metadata": {}, 
            "outputs": [], 
            "source": "#set credintials\nCLIENT_ID = 'IPTYUZQHVW5OCDTT331BXA1SFQCJ3QCNQ2NVFZHQI5M4ZJLY' # your Foursquare ID\nCLIENT_SECRET = '4ARF5SHATZIHJ2FJURJBFIUBZWYKR0UZ4FP5XHAGRE4BCZJ1' # your Foursquare Secret\nVERSION = '20190323' # Foursquare API version"
        }, 
        {
            "source": "Borrowing the function from the lab to get Top 100 venues in Downtown Toronto within a radius of 500m:", 
            "cell_type": "markdown", 
            "metadata": {}
        }, 
        {
            "execution_count": 14, 
            "cell_type": "code", 
            "metadata": {}, 
            "outputs": [], 
            "source": "def getNearbyVenues(names, latitudes, longitudes, radius=500):\n    \n    venues_list=[]\n    for name, lat, lng in zip(names, latitudes, longitudes):\n        print(name)\n            \n        # create the API request URL\n        url = 'https://api.foursquare.com/v2/venues/explore?&client_id={}&client_secret={}&v={}&ll={},{}&radius={}&limit={}'.format(\n            CLIENT_ID, \n            CLIENT_SECRET, \n            VERSION, \n            lat, \n            lng, \n            radius, \n            LIMIT)\n            \n        # make the GET request\n        results = requests.get(url).json()[\"response\"]['groups'][0]['items']\n        \n        # return only relevant information for each nearby venue\n        venues_list.append([(\n            name, \n            lat, \n            lng, \n            v['venue']['name'], \n            v['venue']['location']['lat'], \n            v['venue']['location']['lng'],  \n            v['venue']['categories'][0]['name']) for v in results])\n\n    nearby_venues = pd.DataFrame([item for venue_list in venues_list for item in venue_list])\n    nearby_venues.columns = ['Neighborhood', \n                  'Neighborhood Latitude', \n                  'Neighborhood Longitude', \n                  'Venue', \n                  'Venue Latitude', \n                  'Venue Longitude', \n                  'Venue Category']\n    \n    return(nearby_venues)"
        }, 
        {
            "source": "Now write the code to run the above function on each neighborhood and create a new dataframe called manhattan_venues.", 
            "cell_type": "markdown", 
            "metadata": {}
        }, 
        {
            "execution_count": 15, 
            "cell_type": "code", 
            "metadata": {}, 
            "outputs": [
                {
                    "output_type": "stream", 
                    "name": "stdout", 
                    "text": "Rosedale\nCabbagetown,St. James Town\nChurch and Wellesley\nHarbourfront,Regent Park\nRyerson,Garden District\nSt. James Town\nBerczy Park\nCentral Bay Street\nAdelaide,King,Richmond\nHarbourfront East,Toronto Islands,Union Station\nDesign Exchange,Toronto Dominion Centre\nCommerce Court,Victoria Hotel\nHarbord,University of Toronto\nChinatown,Grange Park,Kensington Market\nCN Tower,Bathurst Quay,Island airport,Harbourfront West,King and Spadina,Railway Lands,South Niagara\nStn A PO Boxes 25 The Esplanade\nFirst Canadian Place,Underground city\nChristie\n"
                }
            ], 
            "source": "LIMIT = 100 # limit of number of venues returned by Foursquare API\n\ndowntown_venues = getNearbyVenues(names=toronto['Neighbourhood'],\n                                   latitudes=toronto['Latitude'],\n                                   longitudes=toronto['Longitude']\n                                  )"
        }, 
        {
            "execution_count": 16, 
            "cell_type": "code", 
            "metadata": {}, 
            "outputs": [
                {
                    "execution_count": 16, 
                    "metadata": {}, 
                    "data": {
                        "text/plain": "(1281, 7)"
                    }, 
                    "output_type": "execute_result"
                }
            ], 
            "source": "#checking the size of venues dataframe\ndowntown_venues.shape"
        }, 
        {
            "execution_count": 17, 
            "cell_type": "code", 
            "metadata": {}, 
            "outputs": [
                {
                    "output_type": "stream", 
                    "name": "stdout", 
                    "text": "There are 207 unique categories.\n"
                }
            ], 
            "source": "#checking how many unique categories of venues are there\nprint('There are {} unique categories.'.format(len(downtown_venues['Venue Category'].unique())))"
        }, 
        {
            "source": "3.3 Analyze each neighbourhood", 
            "cell_type": "markdown", 
            "metadata": {}
        }, 
        {
            "execution_count": 18, 
            "cell_type": "code", 
            "metadata": {}, 
            "outputs": [
                {
                    "execution_count": 18, 
                    "metadata": {}, 
                    "data": {
                        "text/html": "<div>\n<style scoped>\n    .dataframe tbody tr th:only-of-type {\n        vertical-align: middle;\n    }\n\n    .dataframe tbody tr th {\n        vertical-align: top;\n    }\n\n    .dataframe thead th {\n        text-align: right;\n    }\n</style>\n<table border=\"1\" class=\"dataframe\">\n  <thead>\n    <tr style=\"text-align: right;\">\n      <th></th>\n      <th>Yoga Studio</th>\n      <th>Adult Boutique</th>\n      <th>Afghan Restaurant</th>\n      <th>Airport</th>\n      <th>Airport Food Court</th>\n      <th>Airport Gate</th>\n      <th>Airport Lounge</th>\n      <th>Airport Service</th>\n      <th>Airport Terminal</th>\n      <th>American Restaurant</th>\n      <th>...</th>\n      <th>Thrift / Vintage Store</th>\n      <th>Toy / Game Store</th>\n      <th>Trail</th>\n      <th>Train Station</th>\n      <th>Vegetarian / Vegan Restaurant</th>\n      <th>Video Game Store</th>\n      <th>Vietnamese Restaurant</th>\n      <th>Wine Bar</th>\n      <th>Wings Joint</th>\n      <th>Women's Store</th>\n    </tr>\n  </thead>\n  <tbody>\n    <tr>\n      <th>0</th>\n      <td>0</td>\n      <td>0</td>\n      <td>0</td>\n      <td>0</td>\n      <td>0</td>\n      <td>0</td>\n      <td>0</td>\n      <td>0</td>\n      <td>0</td>\n      <td>0</td>\n      <td>...</td>\n      <td>0</td>\n      <td>0</td>\n      <td>0</td>\n      <td>0</td>\n      <td>0</td>\n      <td>0</td>\n      <td>0</td>\n      <td>0</td>\n      <td>0</td>\n      <td>0</td>\n    </tr>\n    <tr>\n      <th>1</th>\n      <td>0</td>\n      <td>0</td>\n      <td>0</td>\n      <td>0</td>\n      <td>0</td>\n      <td>0</td>\n      <td>0</td>\n      <td>0</td>\n      <td>0</td>\n      <td>0</td>\n      <td>...</td>\n      <td>0</td>\n      <td>0</td>\n      <td>0</td>\n      <td>0</td>\n      <td>0</td>\n      <td>0</td>\n      <td>0</td>\n      <td>0</td>\n      <td>0</td>\n      <td>0</td>\n    </tr>\n    <tr>\n      <th>2</th>\n      <td>0</td>\n      <td>0</td>\n      <td>0</td>\n      <td>0</td>\n      <td>0</td>\n      <td>0</td>\n      <td>0</td>\n      <td>0</td>\n      <td>0</td>\n      <td>0</td>\n      <td>...</td>\n      <td>0</td>\n      <td>0</td>\n      <td>0</td>\n      <td>0</td>\n      <td>0</td>\n      <td>0</td>\n      <td>0</td>\n      <td>0</td>\n      <td>0</td>\n      <td>0</td>\n    </tr>\n    <tr>\n      <th>3</th>\n      <td>0</td>\n      <td>0</td>\n      <td>0</td>\n      <td>0</td>\n      <td>0</td>\n      <td>0</td>\n      <td>0</td>\n      <td>0</td>\n      <td>0</td>\n      <td>0</td>\n      <td>...</td>\n      <td>0</td>\n      <td>0</td>\n      <td>1</td>\n      <td>0</td>\n      <td>0</td>\n      <td>0</td>\n      <td>0</td>\n      <td>0</td>\n      <td>0</td>\n      <td>0</td>\n    </tr>\n    <tr>\n      <th>4</th>\n      <td>0</td>\n      <td>0</td>\n      <td>0</td>\n      <td>0</td>\n      <td>0</td>\n      <td>0</td>\n      <td>0</td>\n      <td>0</td>\n      <td>0</td>\n      <td>0</td>\n      <td>...</td>\n      <td>0</td>\n      <td>0</td>\n      <td>0</td>\n      <td>0</td>\n      <td>0</td>\n      <td>0</td>\n      <td>0</td>\n      <td>0</td>\n      <td>0</td>\n      <td>0</td>\n    </tr>\n  </tbody>\n</table>\n<p>5 rows \u00d7 207 columns</p>\n</div>", 
                        "text/plain": "   Yoga Studio  Adult Boutique  Afghan Restaurant  Airport  \\\n0            0               0                  0        0   \n1            0               0                  0        0   \n2            0               0                  0        0   \n3            0               0                  0        0   \n4            0               0                  0        0   \n\n   Airport Food Court  Airport Gate  Airport Lounge  Airport Service  \\\n0                   0             0               0                0   \n1                   0             0               0                0   \n2                   0             0               0                0   \n3                   0             0               0                0   \n4                   0             0               0                0   \n\n   Airport Terminal  American Restaurant      ...        \\\n0                 0                    0      ...         \n1                 0                    0      ...         \n2                 0                    0      ...         \n3                 0                    0      ...         \n4                 0                    0      ...         \n\n   Thrift / Vintage Store  Toy / Game Store  Trail  Train Station  \\\n0                       0                 0      0              0   \n1                       0                 0      0              0   \n2                       0                 0      0              0   \n3                       0                 0      1              0   \n4                       0                 0      0              0   \n\n   Vegetarian / Vegan Restaurant  Video Game Store  Vietnamese Restaurant  \\\n0                              0                 0                      0   \n1                              0                 0                      0   \n2                              0                 0                      0   \n3                              0                 0                      0   \n4                              0                 0                      0   \n\n   Wine Bar  Wings Joint  Women's Store  \n0         0            0              0  \n1         0            0              0  \n2         0            0              0  \n3         0            0              0  \n4         0            0              0  \n\n[5 rows x 207 columns]"
                    }, 
                    "output_type": "execute_result"
                }
            ], 
            "source": "# one hot encoding\ndt_onehot = pd.get_dummies(downtown_venues[['Venue Category']], prefix=\"\", prefix_sep=\"\")\n\n# add neighborhood column back to dataframe\ndt_onehot['Neighborhood'] = downtown_venues['Neighborhood'] \n\n# move neighborhood column to the first column\nfixed_columns = [dt_onehot.columns[-1]] + list(dt_onehot.columns[:-1])\ndt_onehot = dt_onehot[fixed_columns]\n\ndt_onehot.head()"
        }, 
        {
            "execution_count": 19, 
            "cell_type": "code", 
            "metadata": {}, 
            "outputs": [
                {
                    "execution_count": 19, 
                    "metadata": {}, 
                    "data": {
                        "text/plain": "(1281, 207)"
                    }, 
                    "output_type": "execute_result"
                }
            ], 
            "source": "#checking the dataframe size\ndt_onehot.shape"
        }, 
        {
            "source": "Gouping rows by neighborhood and by taking the mean of the frequency of occurrence of each category:", 
            "cell_type": "markdown", 
            "metadata": {}
        }, 
        {
            "execution_count": 20, 
            "cell_type": "code", 
            "metadata": {}, 
            "outputs": [
                {
                    "execution_count": 20, 
                    "metadata": {}, 
                    "data": {
                        "text/html": "<div>\n<style scoped>\n    .dataframe tbody tr th:only-of-type {\n        vertical-align: middle;\n    }\n\n    .dataframe tbody tr th {\n        vertical-align: top;\n    }\n\n    .dataframe thead th {\n        text-align: right;\n    }\n</style>\n<table border=\"1\" class=\"dataframe\">\n  <thead>\n    <tr style=\"text-align: right;\">\n      <th></th>\n      <th>Neighborhood</th>\n      <th>Yoga Studio</th>\n      <th>Adult Boutique</th>\n      <th>Afghan Restaurant</th>\n      <th>Airport</th>\n      <th>Airport Food Court</th>\n      <th>Airport Gate</th>\n      <th>Airport Lounge</th>\n      <th>Airport Service</th>\n      <th>Airport Terminal</th>\n      <th>...</th>\n      <th>Thrift / Vintage Store</th>\n      <th>Toy / Game Store</th>\n      <th>Trail</th>\n      <th>Train Station</th>\n      <th>Vegetarian / Vegan Restaurant</th>\n      <th>Video Game Store</th>\n      <th>Vietnamese Restaurant</th>\n      <th>Wine Bar</th>\n      <th>Wings Joint</th>\n      <th>Women's Store</th>\n    </tr>\n  </thead>\n  <tbody>\n    <tr>\n      <th>0</th>\n      <td>Adelaide,King,Richmond</td>\n      <td>0.000000</td>\n      <td>0.000000</td>\n      <td>0.000000</td>\n      <td>0.000000</td>\n      <td>0.000000</td>\n      <td>0.000000</td>\n      <td>0.000000</td>\n      <td>0.000000</td>\n      <td>0.000000</td>\n      <td>...</td>\n      <td>0.00</td>\n      <td>0.00</td>\n      <td>0.00</td>\n      <td>0.00</td>\n      <td>0.010000</td>\n      <td>0.000000</td>\n      <td>0.000000</td>\n      <td>0.010000</td>\n      <td>0.000000</td>\n      <td>0.00</td>\n    </tr>\n    <tr>\n      <th>1</th>\n      <td>Berczy Park</td>\n      <td>0.000000</td>\n      <td>0.000000</td>\n      <td>0.000000</td>\n      <td>0.000000</td>\n      <td>0.000000</td>\n      <td>0.000000</td>\n      <td>0.000000</td>\n      <td>0.000000</td>\n      <td>0.000000</td>\n      <td>...</td>\n      <td>0.00</td>\n      <td>0.00</td>\n      <td>0.00</td>\n      <td>0.00</td>\n      <td>0.018182</td>\n      <td>0.000000</td>\n      <td>0.000000</td>\n      <td>0.000000</td>\n      <td>0.000000</td>\n      <td>0.00</td>\n    </tr>\n    <tr>\n      <th>2</th>\n      <td>CN Tower,Bathurst Quay,Island airport,Harbourf...</td>\n      <td>0.000000</td>\n      <td>0.000000</td>\n      <td>0.000000</td>\n      <td>0.071429</td>\n      <td>0.071429</td>\n      <td>0.071429</td>\n      <td>0.142857</td>\n      <td>0.214286</td>\n      <td>0.142857</td>\n      <td>...</td>\n      <td>0.00</td>\n      <td>0.00</td>\n      <td>0.00</td>\n      <td>0.00</td>\n      <td>0.000000</td>\n      <td>0.000000</td>\n      <td>0.000000</td>\n      <td>0.000000</td>\n      <td>0.000000</td>\n      <td>0.00</td>\n    </tr>\n    <tr>\n      <th>3</th>\n      <td>Cabbagetown,St. James Town</td>\n      <td>0.000000</td>\n      <td>0.000000</td>\n      <td>0.000000</td>\n      <td>0.000000</td>\n      <td>0.000000</td>\n      <td>0.000000</td>\n      <td>0.000000</td>\n      <td>0.000000</td>\n      <td>0.000000</td>\n      <td>...</td>\n      <td>0.00</td>\n      <td>0.00</td>\n      <td>0.00</td>\n      <td>0.00</td>\n      <td>0.000000</td>\n      <td>0.000000</td>\n      <td>0.000000</td>\n      <td>0.000000</td>\n      <td>0.000000</td>\n      <td>0.00</td>\n    </tr>\n    <tr>\n      <th>4</th>\n      <td>Central Bay Street</td>\n      <td>0.011364</td>\n      <td>0.000000</td>\n      <td>0.000000</td>\n      <td>0.000000</td>\n      <td>0.000000</td>\n      <td>0.000000</td>\n      <td>0.000000</td>\n      <td>0.000000</td>\n      <td>0.000000</td>\n      <td>...</td>\n      <td>0.00</td>\n      <td>0.00</td>\n      <td>0.00</td>\n      <td>0.00</td>\n      <td>0.011364</td>\n      <td>0.000000</td>\n      <td>0.000000</td>\n      <td>0.011364</td>\n      <td>0.000000</td>\n      <td>0.00</td>\n    </tr>\n    <tr>\n      <th>5</th>\n      <td>Chinatown,Grange Park,Kensington Market</td>\n      <td>0.000000</td>\n      <td>0.000000</td>\n      <td>0.000000</td>\n      <td>0.000000</td>\n      <td>0.000000</td>\n      <td>0.000000</td>\n      <td>0.000000</td>\n      <td>0.000000</td>\n      <td>0.000000</td>\n      <td>...</td>\n      <td>0.01</td>\n      <td>0.01</td>\n      <td>0.00</td>\n      <td>0.00</td>\n      <td>0.060000</td>\n      <td>0.000000</td>\n      <td>0.030000</td>\n      <td>0.010000</td>\n      <td>0.000000</td>\n      <td>0.00</td>\n    </tr>\n    <tr>\n      <th>6</th>\n      <td>Christie</td>\n      <td>0.000000</td>\n      <td>0.000000</td>\n      <td>0.000000</td>\n      <td>0.000000</td>\n      <td>0.000000</td>\n      <td>0.000000</td>\n      <td>0.000000</td>\n      <td>0.000000</td>\n      <td>0.000000</td>\n      <td>...</td>\n      <td>0.00</td>\n      <td>0.00</td>\n      <td>0.00</td>\n      <td>0.00</td>\n      <td>0.000000</td>\n      <td>0.000000</td>\n      <td>0.000000</td>\n      <td>0.000000</td>\n      <td>0.000000</td>\n      <td>0.00</td>\n    </tr>\n    <tr>\n      <th>7</th>\n      <td>Church and Wellesley</td>\n      <td>0.011364</td>\n      <td>0.011364</td>\n      <td>0.011364</td>\n      <td>0.000000</td>\n      <td>0.000000</td>\n      <td>0.000000</td>\n      <td>0.000000</td>\n      <td>0.000000</td>\n      <td>0.000000</td>\n      <td>...</td>\n      <td>0.00</td>\n      <td>0.00</td>\n      <td>0.00</td>\n      <td>0.00</td>\n      <td>0.000000</td>\n      <td>0.011364</td>\n      <td>0.011364</td>\n      <td>0.000000</td>\n      <td>0.011364</td>\n      <td>0.00</td>\n    </tr>\n    <tr>\n      <th>8</th>\n      <td>Commerce Court,Victoria Hotel</td>\n      <td>0.000000</td>\n      <td>0.000000</td>\n      <td>0.000000</td>\n      <td>0.000000</td>\n      <td>0.000000</td>\n      <td>0.000000</td>\n      <td>0.000000</td>\n      <td>0.000000</td>\n      <td>0.000000</td>\n      <td>...</td>\n      <td>0.00</td>\n      <td>0.00</td>\n      <td>0.00</td>\n      <td>0.00</td>\n      <td>0.010000</td>\n      <td>0.000000</td>\n      <td>0.000000</td>\n      <td>0.010000</td>\n      <td>0.000000</td>\n      <td>0.00</td>\n    </tr>\n    <tr>\n      <th>9</th>\n      <td>Design Exchange,Toronto Dominion Centre</td>\n      <td>0.000000</td>\n      <td>0.000000</td>\n      <td>0.000000</td>\n      <td>0.000000</td>\n      <td>0.000000</td>\n      <td>0.000000</td>\n      <td>0.000000</td>\n      <td>0.000000</td>\n      <td>0.000000</td>\n      <td>...</td>\n      <td>0.00</td>\n      <td>0.00</td>\n      <td>0.00</td>\n      <td>0.01</td>\n      <td>0.010000</td>\n      <td>0.000000</td>\n      <td>0.000000</td>\n      <td>0.010000</td>\n      <td>0.000000</td>\n      <td>0.00</td>\n    </tr>\n    <tr>\n      <th>10</th>\n      <td>First Canadian Place,Underground city</td>\n      <td>0.000000</td>\n      <td>0.000000</td>\n      <td>0.000000</td>\n      <td>0.000000</td>\n      <td>0.000000</td>\n      <td>0.000000</td>\n      <td>0.000000</td>\n      <td>0.000000</td>\n      <td>0.000000</td>\n      <td>...</td>\n      <td>0.00</td>\n      <td>0.00</td>\n      <td>0.00</td>\n      <td>0.01</td>\n      <td>0.010000</td>\n      <td>0.000000</td>\n      <td>0.000000</td>\n      <td>0.010000</td>\n      <td>0.000000</td>\n      <td>0.00</td>\n    </tr>\n    <tr>\n      <th>11</th>\n      <td>Harbord,University of Toronto</td>\n      <td>0.028571</td>\n      <td>0.000000</td>\n      <td>0.000000</td>\n      <td>0.000000</td>\n      <td>0.000000</td>\n      <td>0.000000</td>\n      <td>0.000000</td>\n      <td>0.000000</td>\n      <td>0.000000</td>\n      <td>...</td>\n      <td>0.00</td>\n      <td>0.00</td>\n      <td>0.00</td>\n      <td>0.00</td>\n      <td>0.000000</td>\n      <td>0.028571</td>\n      <td>0.000000</td>\n      <td>0.000000</td>\n      <td>0.000000</td>\n      <td>0.00</td>\n    </tr>\n    <tr>\n      <th>12</th>\n      <td>Harbourfront East,Toronto Islands,Union Station</td>\n      <td>0.000000</td>\n      <td>0.000000</td>\n      <td>0.000000</td>\n      <td>0.000000</td>\n      <td>0.000000</td>\n      <td>0.000000</td>\n      <td>0.000000</td>\n      <td>0.000000</td>\n      <td>0.000000</td>\n      <td>...</td>\n      <td>0.00</td>\n      <td>0.00</td>\n      <td>0.00</td>\n      <td>0.01</td>\n      <td>0.010000</td>\n      <td>0.000000</td>\n      <td>0.000000</td>\n      <td>0.010000</td>\n      <td>0.000000</td>\n      <td>0.00</td>\n    </tr>\n    <tr>\n      <th>13</th>\n      <td>Harbourfront,Regent Park</td>\n      <td>0.022222</td>\n      <td>0.000000</td>\n      <td>0.000000</td>\n      <td>0.000000</td>\n      <td>0.000000</td>\n      <td>0.000000</td>\n      <td>0.000000</td>\n      <td>0.000000</td>\n      <td>0.000000</td>\n      <td>...</td>\n      <td>0.00</td>\n      <td>0.00</td>\n      <td>0.00</td>\n      <td>0.00</td>\n      <td>0.000000</td>\n      <td>0.000000</td>\n      <td>0.000000</td>\n      <td>0.000000</td>\n      <td>0.000000</td>\n      <td>0.00</td>\n    </tr>\n    <tr>\n      <th>14</th>\n      <td>Rosedale</td>\n      <td>0.000000</td>\n      <td>0.000000</td>\n      <td>0.000000</td>\n      <td>0.000000</td>\n      <td>0.000000</td>\n      <td>0.000000</td>\n      <td>0.000000</td>\n      <td>0.000000</td>\n      <td>0.000000</td>\n      <td>...</td>\n      <td>0.00</td>\n      <td>0.00</td>\n      <td>0.25</td>\n      <td>0.00</td>\n      <td>0.000000</td>\n      <td>0.000000</td>\n      <td>0.000000</td>\n      <td>0.000000</td>\n      <td>0.000000</td>\n      <td>0.00</td>\n    </tr>\n    <tr>\n      <th>15</th>\n      <td>Ryerson,Garden District</td>\n      <td>0.000000</td>\n      <td>0.000000</td>\n      <td>0.000000</td>\n      <td>0.000000</td>\n      <td>0.000000</td>\n      <td>0.000000</td>\n      <td>0.000000</td>\n      <td>0.000000</td>\n      <td>0.000000</td>\n      <td>...</td>\n      <td>0.00</td>\n      <td>0.01</td>\n      <td>0.00</td>\n      <td>0.00</td>\n      <td>0.010000</td>\n      <td>0.010000</td>\n      <td>0.010000</td>\n      <td>0.010000</td>\n      <td>0.000000</td>\n      <td>0.00</td>\n    </tr>\n    <tr>\n      <th>16</th>\n      <td>St. James Town</td>\n      <td>0.000000</td>\n      <td>0.000000</td>\n      <td>0.000000</td>\n      <td>0.000000</td>\n      <td>0.000000</td>\n      <td>0.000000</td>\n      <td>0.000000</td>\n      <td>0.000000</td>\n      <td>0.000000</td>\n      <td>...</td>\n      <td>0.00</td>\n      <td>0.00</td>\n      <td>0.00</td>\n      <td>0.00</td>\n      <td>0.010000</td>\n      <td>0.000000</td>\n      <td>0.000000</td>\n      <td>0.000000</td>\n      <td>0.000000</td>\n      <td>0.01</td>\n    </tr>\n    <tr>\n      <th>17</th>\n      <td>Stn A PO Boxes 25 The Esplanade</td>\n      <td>0.000000</td>\n      <td>0.000000</td>\n      <td>0.000000</td>\n      <td>0.000000</td>\n      <td>0.000000</td>\n      <td>0.000000</td>\n      <td>0.000000</td>\n      <td>0.000000</td>\n      <td>0.000000</td>\n      <td>...</td>\n      <td>0.00</td>\n      <td>0.00</td>\n      <td>0.00</td>\n      <td>0.00</td>\n      <td>0.010638</td>\n      <td>0.000000</td>\n      <td>0.000000</td>\n      <td>0.000000</td>\n      <td>0.000000</td>\n      <td>0.00</td>\n    </tr>\n  </tbody>\n</table>\n<p>18 rows \u00d7 207 columns</p>\n</div>", 
                        "text/plain": "                                         Neighborhood  Yoga Studio  \\\n0                              Adelaide,King,Richmond     0.000000   \n1                                         Berczy Park     0.000000   \n2   CN Tower,Bathurst Quay,Island airport,Harbourf...     0.000000   \n3                          Cabbagetown,St. James Town     0.000000   \n4                                  Central Bay Street     0.011364   \n5             Chinatown,Grange Park,Kensington Market     0.000000   \n6                                            Christie     0.000000   \n7                                Church and Wellesley     0.011364   \n8                       Commerce Court,Victoria Hotel     0.000000   \n9             Design Exchange,Toronto Dominion Centre     0.000000   \n10              First Canadian Place,Underground city     0.000000   \n11                      Harbord,University of Toronto     0.028571   \n12    Harbourfront East,Toronto Islands,Union Station     0.000000   \n13                           Harbourfront,Regent Park     0.022222   \n14                                           Rosedale     0.000000   \n15                            Ryerson,Garden District     0.000000   \n16                                     St. James Town     0.000000   \n17                    Stn A PO Boxes 25 The Esplanade     0.000000   \n\n    Adult Boutique  Afghan Restaurant   Airport  Airport Food Court  \\\n0         0.000000           0.000000  0.000000            0.000000   \n1         0.000000           0.000000  0.000000            0.000000   \n2         0.000000           0.000000  0.071429            0.071429   \n3         0.000000           0.000000  0.000000            0.000000   \n4         0.000000           0.000000  0.000000            0.000000   \n5         0.000000           0.000000  0.000000            0.000000   \n6         0.000000           0.000000  0.000000            0.000000   \n7         0.011364           0.011364  0.000000            0.000000   \n8         0.000000           0.000000  0.000000            0.000000   \n9         0.000000           0.000000  0.000000            0.000000   \n10        0.000000           0.000000  0.000000            0.000000   \n11        0.000000           0.000000  0.000000            0.000000   \n12        0.000000           0.000000  0.000000            0.000000   \n13        0.000000           0.000000  0.000000            0.000000   \n14        0.000000           0.000000  0.000000            0.000000   \n15        0.000000           0.000000  0.000000            0.000000   \n16        0.000000           0.000000  0.000000            0.000000   \n17        0.000000           0.000000  0.000000            0.000000   \n\n    Airport Gate  Airport Lounge  Airport Service  Airport Terminal  \\\n0       0.000000        0.000000         0.000000          0.000000   \n1       0.000000        0.000000         0.000000          0.000000   \n2       0.071429        0.142857         0.214286          0.142857   \n3       0.000000        0.000000         0.000000          0.000000   \n4       0.000000        0.000000         0.000000          0.000000   \n5       0.000000        0.000000         0.000000          0.000000   \n6       0.000000        0.000000         0.000000          0.000000   \n7       0.000000        0.000000         0.000000          0.000000   \n8       0.000000        0.000000         0.000000          0.000000   \n9       0.000000        0.000000         0.000000          0.000000   \n10      0.000000        0.000000         0.000000          0.000000   \n11      0.000000        0.000000         0.000000          0.000000   \n12      0.000000        0.000000         0.000000          0.000000   \n13      0.000000        0.000000         0.000000          0.000000   \n14      0.000000        0.000000         0.000000          0.000000   \n15      0.000000        0.000000         0.000000          0.000000   \n16      0.000000        0.000000         0.000000          0.000000   \n17      0.000000        0.000000         0.000000          0.000000   \n\n        ...        Thrift / Vintage Store  Toy / Game Store  Trail  \\\n0       ...                          0.00              0.00   0.00   \n1       ...                          0.00              0.00   0.00   \n2       ...                          0.00              0.00   0.00   \n3       ...                          0.00              0.00   0.00   \n4       ...                          0.00              0.00   0.00   \n5       ...                          0.01              0.01   0.00   \n6       ...                          0.00              0.00   0.00   \n7       ...                          0.00              0.00   0.00   \n8       ...                          0.00              0.00   0.00   \n9       ...                          0.00              0.00   0.00   \n10      ...                          0.00              0.00   0.00   \n11      ...                          0.00              0.00   0.00   \n12      ...                          0.00              0.00   0.00   \n13      ...                          0.00              0.00   0.00   \n14      ...                          0.00              0.00   0.25   \n15      ...                          0.00              0.01   0.00   \n16      ...                          0.00              0.00   0.00   \n17      ...                          0.00              0.00   0.00   \n\n    Train Station  Vegetarian / Vegan Restaurant  Video Game Store  \\\n0            0.00                       0.010000          0.000000   \n1            0.00                       0.018182          0.000000   \n2            0.00                       0.000000          0.000000   \n3            0.00                       0.000000          0.000000   \n4            0.00                       0.011364          0.000000   \n5            0.00                       0.060000          0.000000   \n6            0.00                       0.000000          0.000000   \n7            0.00                       0.000000          0.011364   \n8            0.00                       0.010000          0.000000   \n9            0.01                       0.010000          0.000000   \n10           0.01                       0.010000          0.000000   \n11           0.00                       0.000000          0.028571   \n12           0.01                       0.010000          0.000000   \n13           0.00                       0.000000          0.000000   \n14           0.00                       0.000000          0.000000   \n15           0.00                       0.010000          0.010000   \n16           0.00                       0.010000          0.000000   \n17           0.00                       0.010638          0.000000   \n\n    Vietnamese Restaurant  Wine Bar  Wings Joint  Women's Store  \n0                0.000000  0.010000     0.000000           0.00  \n1                0.000000  0.000000     0.000000           0.00  \n2                0.000000  0.000000     0.000000           0.00  \n3                0.000000  0.000000     0.000000           0.00  \n4                0.000000  0.011364     0.000000           0.00  \n5                0.030000  0.010000     0.000000           0.00  \n6                0.000000  0.000000     0.000000           0.00  \n7                0.011364  0.000000     0.011364           0.00  \n8                0.000000  0.010000     0.000000           0.00  \n9                0.000000  0.010000     0.000000           0.00  \n10               0.000000  0.010000     0.000000           0.00  \n11               0.000000  0.000000     0.000000           0.00  \n12               0.000000  0.010000     0.000000           0.00  \n13               0.000000  0.000000     0.000000           0.00  \n14               0.000000  0.000000     0.000000           0.00  \n15               0.010000  0.010000     0.000000           0.00  \n16               0.000000  0.000000     0.000000           0.01  \n17               0.000000  0.000000     0.000000           0.00  \n\n[18 rows x 207 columns]"
                    }, 
                    "output_type": "execute_result"
                }
            ], 
            "source": "dt_grouped = dt_onehot.groupby('Neighborhood').mean().reset_index()\ndt_grouped"
        }, 
        {
            "execution_count": 21, 
            "cell_type": "code", 
            "metadata": {}, 
            "outputs": [
                {
                    "execution_count": 21, 
                    "metadata": {}, 
                    "data": {
                        "text/plain": "(18, 207)"
                    }, 
                    "output_type": "execute_result"
                }
            ], 
            "source": "#checking the grouped dataframe size\ndt_grouped.shape"
        }, 
        {
            "source": "Printing out each neighborhood along with the top 5 most common venues in it:", 
            "cell_type": "markdown", 
            "metadata": {}
        }, 
        {
            "execution_count": 22, 
            "cell_type": "code", 
            "metadata": {}, 
            "outputs": [
                {
                    "output_type": "stream", 
                    "name": "stdout", 
                    "text": "----Adelaide,King,Richmond----\n                 venue  freq\n0          Coffee Shop  0.06\n1                 Caf\u00e9  0.05\n2      Thai Restaurant  0.04\n3                  Bar  0.04\n4  American Restaurant  0.04\n\n\n----Berczy Park----\n          venue  freq\n0   Coffee Shop  0.07\n1  Cocktail Bar  0.05\n2    Restaurant  0.04\n3          Caf\u00e9  0.04\n4        Bakery  0.04\n\n\n----CN Tower,Bathurst Quay,Island airport,Harbourfront West,King and Spadina,Railway Lands,South Niagara----\n              venue  freq\n0   Airport Service  0.21\n1    Airport Lounge  0.14\n2  Airport Terminal  0.14\n3   Harbor / Marina  0.07\n4  Sculpture Garden  0.07\n\n\n----Cabbagetown,St. James Town----\n                venue  freq\n0         Coffee Shop  0.10\n1                Caf\u00e9  0.05\n2  Italian Restaurant  0.05\n3                 Pub  0.05\n4         Pizza Place  0.05\n\n\n----Central Bay Street----\n                venue  freq\n0         Coffee Shop  0.16\n1                Caf\u00e9  0.06\n2  Italian Restaurant  0.05\n3        Burger Joint  0.03\n4      Sandwich Place  0.03\n\n\n----Chinatown,Grange Park,Kensington Market----\n                           venue  freq\n0                           Caf\u00e9  0.08\n1  Vegetarian / Vegan Restaurant  0.06\n2             Mexican Restaurant  0.04\n3            Dumpling Restaurant  0.04\n4                    Coffee Shop  0.04\n\n\n----Christie----\n           venue  freq\n0           Caf\u00e9  0.19\n1  Grocery Store  0.19\n2           Park  0.12\n3          Diner  0.06\n4      Nightclub  0.06\n\n\n----Church and Wellesley----\n                 venue  freq\n0          Coffee Shop  0.07\n1  Japanese Restaurant  0.07\n2     Sushi Restaurant  0.06\n3           Restaurant  0.03\n4              Gay Bar  0.03\n\n\n----Commerce Court,Victoria Hotel----\n                 venue  freq\n0          Coffee Shop  0.11\n1                 Caf\u00e9  0.07\n2                Hotel  0.06\n3           Restaurant  0.05\n4  American Restaurant  0.04\n\n\n----Design Exchange,Toronto Dominion Centre----\n                venue  freq\n0         Coffee Shop  0.12\n1               Hotel  0.07\n2                Caf\u00e9  0.07\n3          Restaurant  0.05\n4  Italian Restaurant  0.03\n\n\n----First Canadian Place,Underground city----\n         venue  freq\n0  Coffee Shop  0.09\n1         Caf\u00e9  0.09\n2        Hotel  0.04\n3          Bar  0.03\n4   Steakhouse  0.03\n\n\n----Harbord,University of Toronto----\n                 venue  freq\n0                 Caf\u00e9  0.11\n1   Italian Restaurant  0.06\n2               Bakery  0.06\n3  Japanese Restaurant  0.06\n4            Bookstore  0.06\n\n\n----Harbourfront East,Toronto Islands,Union Station----\n                venue  freq\n0         Coffee Shop  0.12\n1               Hotel  0.05\n2            Aquarium  0.05\n3  Italian Restaurant  0.04\n4                Caf\u00e9  0.04\n\n\n----Harbourfront,Regent Park----\n            venue  freq\n0     Coffee Shop  0.16\n1          Bakery  0.07\n2            Park  0.07\n3         Theater  0.04\n4  Breakfast Spot  0.04\n\n\n----Rosedale----\n           venue  freq\n0           Park  0.50\n1     Playground  0.25\n2          Trail  0.25\n3    Yoga Studio  0.00\n4  Movie Theater  0.00\n\n\n----Ryerson,Garden District----\n                       venue  freq\n0                Coffee Shop  0.10\n1             Clothing Store  0.06\n2                       Caf\u00e9  0.04\n3             Cosmetics Shop  0.04\n4  Middle Eastern Restaurant  0.03\n\n\n----St. James Town----\n            venue  freq\n0     Coffee Shop  0.07\n1            Caf\u00e9  0.06\n2      Restaurant  0.05\n3           Hotel  0.05\n4  Cosmetics Shop  0.04\n\n\n----Stn A PO Boxes 25 The Esplanade----\n                venue  freq\n0         Coffee Shop  0.11\n1          Restaurant  0.04\n2                Caf\u00e9  0.04\n3  Seafood Restaurant  0.03\n4        Cocktail Bar  0.03\n\n\n"
                }
            ], 
            "source": "num_top_venues = 5\n\nfor hood in dt_grouped['Neighborhood']:\n    print(\"----\"+hood+\"----\")\n    temp = dt_grouped[dt_grouped['Neighborhood'] == hood].T.reset_index()\n    temp.columns = ['venue','freq']\n    temp = temp.iloc[1:]\n    temp['freq'] = temp['freq'].astype(float)\n    temp = temp.round({'freq': 2})\n    print(temp.sort_values('freq', ascending=False).reset_index(drop=True).head(num_top_venues))\n    print('\\n')"
        }, 
        {
            "source": "Converting the results to Pandas dataframe:", 
            "cell_type": "markdown", 
            "metadata": {}
        }, 
        {
            "execution_count": 23, 
            "cell_type": "code", 
            "metadata": {}, 
            "outputs": [], 
            "source": "#function to sort the venues in descending order:\n\ndef return_most_common_venues(row, num_top_venues):\n    row_categories = row.iloc[1:]\n    row_categories_sorted = row_categories.sort_values(ascending=False)\n    \n    return row_categories_sorted.index.values[0:num_top_venues]"
        }, 
        {
            "execution_count": 24, 
            "cell_type": "code", 
            "metadata": {}, 
            "outputs": [
                {
                    "execution_count": 24, 
                    "metadata": {}, 
                    "data": {
                        "text/html": "<div>\n<style scoped>\n    .dataframe tbody tr th:only-of-type {\n        vertical-align: middle;\n    }\n\n    .dataframe tbody tr th {\n        vertical-align: top;\n    }\n\n    .dataframe thead th {\n        text-align: right;\n    }\n</style>\n<table border=\"1\" class=\"dataframe\">\n  <thead>\n    <tr style=\"text-align: right;\">\n      <th></th>\n      <th>Neighborhood</th>\n      <th>1st Most Common Venue</th>\n      <th>2nd Most Common Venue</th>\n      <th>3rd Most Common Venue</th>\n      <th>4th Most Common Venue</th>\n      <th>5th Most Common Venue</th>\n      <th>6th Most Common Venue</th>\n      <th>7th Most Common Venue</th>\n      <th>8th Most Common Venue</th>\n      <th>9th Most Common Venue</th>\n      <th>10th Most Common Venue</th>\n    </tr>\n  </thead>\n  <tbody>\n    <tr>\n      <th>0</th>\n      <td>Adelaide,King,Richmond</td>\n      <td>Coffee Shop</td>\n      <td>Caf\u00e9</td>\n      <td>American Restaurant</td>\n      <td>Bar</td>\n      <td>Steakhouse</td>\n      <td>Thai Restaurant</td>\n      <td>Hotel</td>\n      <td>Cosmetics Shop</td>\n      <td>Bakery</td>\n      <td>Burger Joint</td>\n    </tr>\n    <tr>\n      <th>1</th>\n      <td>Berczy Park</td>\n      <td>Coffee Shop</td>\n      <td>Cocktail Bar</td>\n      <td>Farmers Market</td>\n      <td>Italian Restaurant</td>\n      <td>Restaurant</td>\n      <td>Cheese Shop</td>\n      <td>Beer Bar</td>\n      <td>Seafood Restaurant</td>\n      <td>Bakery</td>\n      <td>Steakhouse</td>\n    </tr>\n    <tr>\n      <th>2</th>\n      <td>CN Tower,Bathurst Quay,Island airport,Harbourf...</td>\n      <td>Airport Service</td>\n      <td>Airport Terminal</td>\n      <td>Airport Lounge</td>\n      <td>Harbor / Marina</td>\n      <td>Sculpture Garden</td>\n      <td>Airport</td>\n      <td>Airport Food Court</td>\n      <td>Airport Gate</td>\n      <td>Boutique</td>\n      <td>Boat or Ferry</td>\n    </tr>\n    <tr>\n      <th>3</th>\n      <td>Cabbagetown,St. James Town</td>\n      <td>Coffee Shop</td>\n      <td>Caf\u00e9</td>\n      <td>Pizza Place</td>\n      <td>Bakery</td>\n      <td>Restaurant</td>\n      <td>Pub</td>\n      <td>Italian Restaurant</td>\n      <td>Park</td>\n      <td>Deli / Bodega</td>\n      <td>General Entertainment</td>\n    </tr>\n    <tr>\n      <th>4</th>\n      <td>Central Bay Street</td>\n      <td>Coffee Shop</td>\n      <td>Caf\u00e9</td>\n      <td>Italian Restaurant</td>\n      <td>Burger Joint</td>\n      <td>Sandwich Place</td>\n      <td>Spa</td>\n      <td>Indian Restaurant</td>\n      <td>Japanese Restaurant</td>\n      <td>Sushi Restaurant</td>\n      <td>Middle Eastern Restaurant</td>\n    </tr>\n  </tbody>\n</table>\n</div>", 
                        "text/plain": "                                        Neighborhood 1st Most Common Venue  \\\n0                             Adelaide,King,Richmond           Coffee Shop   \n1                                        Berczy Park           Coffee Shop   \n2  CN Tower,Bathurst Quay,Island airport,Harbourf...       Airport Service   \n3                         Cabbagetown,St. James Town           Coffee Shop   \n4                                 Central Bay Street           Coffee Shop   \n\n  2nd Most Common Venue 3rd Most Common Venue 4th Most Common Venue  \\\n0                  Caf\u00e9   American Restaurant                   Bar   \n1          Cocktail Bar        Farmers Market    Italian Restaurant   \n2      Airport Terminal        Airport Lounge       Harbor / Marina   \n3                  Caf\u00e9           Pizza Place                Bakery   \n4                  Caf\u00e9    Italian Restaurant          Burger Joint   \n\n  5th Most Common Venue 6th Most Common Venue 7th Most Common Venue  \\\n0            Steakhouse       Thai Restaurant                 Hotel   \n1            Restaurant           Cheese Shop              Beer Bar   \n2      Sculpture Garden               Airport    Airport Food Court   \n3            Restaurant                   Pub    Italian Restaurant   \n4        Sandwich Place                   Spa     Indian Restaurant   \n\n  8th Most Common Venue 9th Most Common Venue     10th Most Common Venue  \n0        Cosmetics Shop                Bakery               Burger Joint  \n1    Seafood Restaurant                Bakery                 Steakhouse  \n2          Airport Gate              Boutique              Boat or Ferry  \n3                  Park         Deli / Bodega      General Entertainment  \n4   Japanese Restaurant      Sushi Restaurant  Middle Eastern Restaurant  "
                    }, 
                    "output_type": "execute_result"
                }
            ], 
            "source": "#create the new dataframe and display the top 10 venues for each neighborhood:\n\nnum_top_venues = 10\n\nindicators = ['st', 'nd', 'rd']\n\n# create columns according to number of top venues\ncolumns = ['Neighborhood']\nfor ind in np.arange(num_top_venues):\n    try:\n        columns.append('{}{} Most Common Venue'.format(ind+1, indicators[ind]))\n    except:\n        columns.append('{}th Most Common Venue'.format(ind+1))\n\n# create a new dataframe\nneighborhoods_venues_sorted = pd.DataFrame(columns=columns)\nneighborhoods_venues_sorted['Neighborhood'] = dt_grouped['Neighborhood']\n\nfor ind in np.arange(dt_grouped.shape[0]):\n    neighborhoods_venues_sorted.iloc[ind, 1:] = return_most_common_venues(dt_grouped.iloc[ind, :], num_top_venues)\n\nneighborhoods_venues_sorted.head()"
        }, 
        {
            "source": "3.4 Cluster Neighborhoods", 
            "cell_type": "markdown", 
            "metadata": {}
        }, 
        {
            "source": "Run k-means to cluster the neighborhood into 5 clusters.", 
            "cell_type": "markdown", 
            "metadata": {}
        }, 
        {
            "execution_count": 25, 
            "cell_type": "code", 
            "metadata": {}, 
            "outputs": [
                {
                    "ename": "NameError", 
                    "evalue": "name 'KMeans' is not defined", 
                    "traceback": [
                        "\u001b[0;31m---------------------------------------------------------------------------\u001b[0m", 
                        "\u001b[0;31mNameError\u001b[0m                                 Traceback (most recent call last)", 
                        "\u001b[0;32m<ipython-input-25-8657146a2d41>\u001b[0m in \u001b[0;36m<module>\u001b[0;34m()\u001b[0m\n\u001b[1;32m      5\u001b[0m \u001b[0;34m\u001b[0m\u001b[0m\n\u001b[1;32m      6\u001b[0m \u001b[0;31m# run k-means clustering\u001b[0m\u001b[0;34m\u001b[0m\u001b[0;34m\u001b[0m\u001b[0m\n\u001b[0;32m----> 7\u001b[0;31m \u001b[0mkmeans\u001b[0m \u001b[0;34m=\u001b[0m \u001b[0mKMeans\u001b[0m\u001b[0;34m(\u001b[0m\u001b[0mn_clusters\u001b[0m\u001b[0;34m=\u001b[0m\u001b[0mkclusters\u001b[0m\u001b[0;34m,\u001b[0m \u001b[0mrandom_state\u001b[0m\u001b[0;34m=\u001b[0m\u001b[0;36m0\u001b[0m\u001b[0;34m)\u001b[0m\u001b[0;34m.\u001b[0m\u001b[0mfit\u001b[0m\u001b[0;34m(\u001b[0m\u001b[0mdt_grouped_clustering\u001b[0m\u001b[0;34m)\u001b[0m\u001b[0;34m\u001b[0m\u001b[0m\n\u001b[0m\u001b[1;32m      8\u001b[0m \u001b[0;34m\u001b[0m\u001b[0m\n\u001b[1;32m      9\u001b[0m \u001b[0;31m# check cluster labels generated for each row in the dataframe\u001b[0m\u001b[0;34m\u001b[0m\u001b[0;34m\u001b[0m\u001b[0m\n", 
                        "\u001b[0;31mNameError\u001b[0m: name 'KMeans' is not defined"
                    ], 
                    "output_type": "error"
                }
            ], 
            "source": "# set number of clusters\nkclusters = 4\n\ndt_grouped_clustering = dt_grouped.drop('Neighborhood', 1)\n\n# run k-means clustering\nkmeans = KMeans(n_clusters=kclusters, random_state=0).fit(dt_grouped_clustering)\n\n# check cluster labels generated for each row in the dataframe\nkmeans.labels_[0:10]"
        }, 
        {
            "execution_count": 26, 
            "cell_type": "code", 
            "metadata": {}, 
            "outputs": [
                {
                    "ename": "NameError", 
                    "evalue": "name 'kmeans' is not defined", 
                    "traceback": [
                        "\u001b[0;31m---------------------------------------------------------------------------\u001b[0m", 
                        "\u001b[0;31mNameError\u001b[0m                                 Traceback (most recent call last)", 
                        "\u001b[0;32m<ipython-input-26-ca9af0969c80>\u001b[0m in \u001b[0;36m<module>\u001b[0;34m()\u001b[0m\n\u001b[1;32m      1\u001b[0m \u001b[0;31m# add clustering labels\u001b[0m\u001b[0;34m\u001b[0m\u001b[0;34m\u001b[0m\u001b[0m\n\u001b[0;32m----> 2\u001b[0;31m \u001b[0mneighborhoods_venues_sorted\u001b[0m\u001b[0;34m.\u001b[0m\u001b[0minsert\u001b[0m\u001b[0;34m(\u001b[0m\u001b[0;36m0\u001b[0m\u001b[0;34m,\u001b[0m \u001b[0;34m'Labels'\u001b[0m\u001b[0;34m,\u001b[0m \u001b[0mkmeans\u001b[0m\u001b[0;34m.\u001b[0m\u001b[0mlabels_\u001b[0m\u001b[0;34m)\u001b[0m\u001b[0;34m\u001b[0m\u001b[0m\n\u001b[0m\u001b[1;32m      3\u001b[0m \u001b[0;34m\u001b[0m\u001b[0m\n\u001b[1;32m      4\u001b[0m \u001b[0mdt_merged\u001b[0m \u001b[0;34m=\u001b[0m \u001b[0mtoronto\u001b[0m\u001b[0;34m\u001b[0m\u001b[0m\n\u001b[1;32m      5\u001b[0m \u001b[0;34m\u001b[0m\u001b[0m\n", 
                        "\u001b[0;31mNameError\u001b[0m: name 'kmeans' is not defined"
                    ], 
                    "output_type": "error"
                }
            ], 
            "source": "# add clustering labels\nneighborhoods_venues_sorted.insert(0, 'Labels', kmeans.labels_)\n\ndt_merged = toronto\n\n# merge downtown_grouped with toronto data to add latitude/longitude for each neighborhood\n# I realized that I've misspelled the NeighboUrhood column name in Toronto dataframe. oops...\ndt_merged = dt_merged.join(neighborhoods_venues_sorted.set_index('Neighborhood'), on='Neighbourhood')\n\ndt_merged.head()"
        }, 
        {
            "execution_count": 27, 
            "cell_type": "code", 
            "metadata": {}, 
            "outputs": [
                {
                    "ename": "NameError", 
                    "evalue": "name 'folium' is not defined", 
                    "traceback": [
                        "\u001b[0;31m---------------------------------------------------------------------------\u001b[0m", 
                        "\u001b[0;31mNameError\u001b[0m                                 Traceback (most recent call last)", 
                        "\u001b[0;32m<ipython-input-27-72fcec938691>\u001b[0m in \u001b[0;36m<module>\u001b[0;34m()\u001b[0m\n\u001b[1;32m      1\u001b[0m \u001b[0;31m# create map\u001b[0m\u001b[0;34m\u001b[0m\u001b[0;34m\u001b[0m\u001b[0m\n\u001b[0;32m----> 2\u001b[0;31m \u001b[0mmap_clusters\u001b[0m \u001b[0;34m=\u001b[0m \u001b[0mfolium\u001b[0m\u001b[0;34m.\u001b[0m\u001b[0mMap\u001b[0m\u001b[0;34m(\u001b[0m\u001b[0mlocation\u001b[0m\u001b[0;34m=\u001b[0m\u001b[0;34m[\u001b[0m\u001b[0mlatitude\u001b[0m\u001b[0;34m,\u001b[0m \u001b[0mlongitude\u001b[0m\u001b[0;34m]\u001b[0m\u001b[0;34m,\u001b[0m \u001b[0mzoom_start\u001b[0m\u001b[0;34m=\u001b[0m\u001b[0;36m13\u001b[0m\u001b[0;34m)\u001b[0m\u001b[0;34m\u001b[0m\u001b[0m\n\u001b[0m\u001b[1;32m      3\u001b[0m \u001b[0;34m\u001b[0m\u001b[0m\n\u001b[1;32m      4\u001b[0m \u001b[0;31m# set color scheme for the clusters\u001b[0m\u001b[0;34m\u001b[0m\u001b[0;34m\u001b[0m\u001b[0m\n\u001b[1;32m      5\u001b[0m \u001b[0mx\u001b[0m \u001b[0;34m=\u001b[0m \u001b[0mnp\u001b[0m\u001b[0;34m.\u001b[0m\u001b[0marange\u001b[0m\u001b[0;34m(\u001b[0m\u001b[0mkclusters\u001b[0m\u001b[0;34m)\u001b[0m\u001b[0;34m\u001b[0m\u001b[0m\n", 
                        "\u001b[0;31mNameError\u001b[0m: name 'folium' is not defined"
                    ], 
                    "output_type": "error"
                }
            ], 
            "source": "# create map\nmap_clusters = folium.Map(location=[latitude, longitude], zoom_start=13)\n\n# set color scheme for the clusters\nx = np.arange(kclusters)\nys = [i + x + (i*x)**2 for i in range(kclusters)]\ncolors_array = cm.rainbow(np.linspace(0, 1, len(ys)))\nrainbow = [colors.rgb2hex(i) for i in colors_array]\n\n# add markers to the map\nmarkers_colors = []\nfor lat, lon, poi, cluster in zip(dt_merged['Latitude'], dt_merged['Longitude'], dt_merged['Neighbourhood'], dt_merged['Labels']):\n    label = folium.Popup(str(poi) + ' Cluster ' + str(cluster), parse_html=True)\n    folium.CircleMarker(\n        [lat, lon],\n        radius=9,\n        popup=label,\n        color=rainbow[cluster-1],\n        fill=True,\n        fill_color=rainbow[cluster-1],\n        fill_opacity=0.7).add_to(map_clusters)\n       \nmap_clusters"
        }, 
        {
            "source": "3.5 Examine the clusters", 
            "cell_type": "markdown", 
            "metadata": {}
        }, 
        {
            "execution_count": 28, 
            "cell_type": "code", 
            "metadata": {}, 
            "outputs": [
                {
                    "ename": "NameError", 
                    "evalue": "name 'dt_merged' is not defined", 
                    "traceback": [
                        "\u001b[0;31m---------------------------------------------------------------------------\u001b[0m", 
                        "\u001b[0;31mNameError\u001b[0m                                 Traceback (most recent call last)", 
                        "\u001b[0;32m<ipython-input-28-1dc951579307>\u001b[0m in \u001b[0;36m<module>\u001b[0;34m()\u001b[0m\n\u001b[1;32m      1\u001b[0m \u001b[0;31m#Cluster 1\u001b[0m\u001b[0;34m\u001b[0m\u001b[0;34m\u001b[0m\u001b[0m\n\u001b[0;32m----> 2\u001b[0;31m \u001b[0mdt_merged\u001b[0m\u001b[0;34m.\u001b[0m\u001b[0mloc\u001b[0m\u001b[0;34m[\u001b[0m\u001b[0mdt_merged\u001b[0m\u001b[0;34m[\u001b[0m\u001b[0;34m'Labels'\u001b[0m\u001b[0;34m]\u001b[0m \u001b[0;34m==\u001b[0m \u001b[0;36m0\u001b[0m\u001b[0;34m,\u001b[0m \u001b[0mdt_merged\u001b[0m\u001b[0;34m.\u001b[0m\u001b[0mcolumns\u001b[0m\u001b[0;34m[\u001b[0m\u001b[0;34m[\u001b[0m\u001b[0;36m1\u001b[0m\u001b[0;34m]\u001b[0m \u001b[0;34m+\u001b[0m \u001b[0mlist\u001b[0m\u001b[0;34m(\u001b[0m\u001b[0mrange\u001b[0m\u001b[0;34m(\u001b[0m\u001b[0;36m5\u001b[0m\u001b[0;34m,\u001b[0m \u001b[0mdt_merged\u001b[0m\u001b[0;34m.\u001b[0m\u001b[0mshape\u001b[0m\u001b[0;34m[\u001b[0m\u001b[0;36m1\u001b[0m\u001b[0;34m]\u001b[0m\u001b[0;34m)\u001b[0m\u001b[0;34m)\u001b[0m\u001b[0;34m]\u001b[0m\u001b[0;34m]\u001b[0m\u001b[0;34m\u001b[0m\u001b[0m\n\u001b[0m", 
                        "\u001b[0;31mNameError\u001b[0m: name 'dt_merged' is not defined"
                    ], 
                    "output_type": "error"
                }
            ], 
            "source": "#Cluster 1\ndt_merged.loc[dt_merged['Labels'] == 0, dt_merged.columns[[1] + list(range(5, dt_merged.shape[1]))]]"
        }, 
        {
            "execution_count": 29, 
            "cell_type": "code", 
            "metadata": {}, 
            "outputs": [
                {
                    "ename": "NameError", 
                    "evalue": "name 'dt_merged' is not defined", 
                    "traceback": [
                        "\u001b[0;31m---------------------------------------------------------------------------\u001b[0m", 
                        "\u001b[0;31mNameError\u001b[0m                                 Traceback (most recent call last)", 
                        "\u001b[0;32m<ipython-input-29-acc15424be26>\u001b[0m in \u001b[0;36m<module>\u001b[0;34m()\u001b[0m\n\u001b[1;32m      1\u001b[0m \u001b[0;31m#Cluster 2\u001b[0m\u001b[0;34m\u001b[0m\u001b[0;34m\u001b[0m\u001b[0m\n\u001b[0;32m----> 2\u001b[0;31m \u001b[0mdt_merged\u001b[0m\u001b[0;34m.\u001b[0m\u001b[0mloc\u001b[0m\u001b[0;34m[\u001b[0m\u001b[0mdt_merged\u001b[0m\u001b[0;34m[\u001b[0m\u001b[0;34m'Labels'\u001b[0m\u001b[0;34m]\u001b[0m \u001b[0;34m==\u001b[0m \u001b[0;36m1\u001b[0m\u001b[0;34m,\u001b[0m \u001b[0mdt_merged\u001b[0m\u001b[0;34m.\u001b[0m\u001b[0mcolumns\u001b[0m\u001b[0;34m[\u001b[0m\u001b[0;34m[\u001b[0m\u001b[0;36m1\u001b[0m\u001b[0;34m]\u001b[0m \u001b[0;34m+\u001b[0m \u001b[0mlist\u001b[0m\u001b[0;34m(\u001b[0m\u001b[0mrange\u001b[0m\u001b[0;34m(\u001b[0m\u001b[0;36m5\u001b[0m\u001b[0;34m,\u001b[0m \u001b[0mdt_merged\u001b[0m\u001b[0;34m.\u001b[0m\u001b[0mshape\u001b[0m\u001b[0;34m[\u001b[0m\u001b[0;36m1\u001b[0m\u001b[0;34m]\u001b[0m\u001b[0;34m)\u001b[0m\u001b[0;34m)\u001b[0m\u001b[0;34m]\u001b[0m\u001b[0;34m]\u001b[0m\u001b[0;34m\u001b[0m\u001b[0m\n\u001b[0m", 
                        "\u001b[0;31mNameError\u001b[0m: name 'dt_merged' is not defined"
                    ], 
                    "output_type": "error"
                }
            ], 
            "source": "#Cluster 2\ndt_merged.loc[dt_merged['Labels'] == 1, dt_merged.columns[[1] + list(range(5, dt_merged.shape[1]))]]"
        }, 
        {
            "execution_count": 30, 
            "cell_type": "code", 
            "metadata": {}, 
            "outputs": [
                {
                    "ename": "NameError", 
                    "evalue": "name 'dt_merged' is not defined", 
                    "traceback": [
                        "\u001b[0;31m---------------------------------------------------------------------------\u001b[0m", 
                        "\u001b[0;31mNameError\u001b[0m                                 Traceback (most recent call last)", 
                        "\u001b[0;32m<ipython-input-30-fb4b92e10055>\u001b[0m in \u001b[0;36m<module>\u001b[0;34m()\u001b[0m\n\u001b[1;32m      1\u001b[0m \u001b[0;31m#Cluster 3\u001b[0m\u001b[0;34m\u001b[0m\u001b[0;34m\u001b[0m\u001b[0m\n\u001b[0;32m----> 2\u001b[0;31m \u001b[0mdt_merged\u001b[0m\u001b[0;34m.\u001b[0m\u001b[0mloc\u001b[0m\u001b[0;34m[\u001b[0m\u001b[0mdt_merged\u001b[0m\u001b[0;34m[\u001b[0m\u001b[0;34m'Labels'\u001b[0m\u001b[0;34m]\u001b[0m \u001b[0;34m==\u001b[0m \u001b[0;36m2\u001b[0m\u001b[0;34m,\u001b[0m \u001b[0mdt_merged\u001b[0m\u001b[0;34m.\u001b[0m\u001b[0mcolumns\u001b[0m\u001b[0;34m[\u001b[0m\u001b[0;34m[\u001b[0m\u001b[0;36m1\u001b[0m\u001b[0;34m]\u001b[0m \u001b[0;34m+\u001b[0m \u001b[0mlist\u001b[0m\u001b[0;34m(\u001b[0m\u001b[0mrange\u001b[0m\u001b[0;34m(\u001b[0m\u001b[0;36m5\u001b[0m\u001b[0;34m,\u001b[0m \u001b[0mdt_merged\u001b[0m\u001b[0;34m.\u001b[0m\u001b[0mshape\u001b[0m\u001b[0;34m[\u001b[0m\u001b[0;36m1\u001b[0m\u001b[0;34m]\u001b[0m\u001b[0;34m)\u001b[0m\u001b[0;34m)\u001b[0m\u001b[0;34m]\u001b[0m\u001b[0;34m]\u001b[0m\u001b[0;34m\u001b[0m\u001b[0m\n\u001b[0m", 
                        "\u001b[0;31mNameError\u001b[0m: name 'dt_merged' is not defined"
                    ], 
                    "output_type": "error"
                }
            ], 
            "source": "#Cluster 3\ndt_merged.loc[dt_merged['Labels'] == 2, dt_merged.columns[[1] + list(range(5, dt_merged.shape[1]))]]"
        }, 
        {
            "execution_count": 31, 
            "cell_type": "code", 
            "metadata": {}, 
            "outputs": [
                {
                    "ename": "NameError", 
                    "evalue": "name 'dt_merged' is not defined", 
                    "traceback": [
                        "\u001b[0;31m---------------------------------------------------------------------------\u001b[0m", 
                        "\u001b[0;31mNameError\u001b[0m                                 Traceback (most recent call last)", 
                        "\u001b[0;32m<ipython-input-31-8491edbfccff>\u001b[0m in \u001b[0;36m<module>\u001b[0;34m()\u001b[0m\n\u001b[1;32m      1\u001b[0m \u001b[0;31m#Cluster 4\u001b[0m\u001b[0;34m\u001b[0m\u001b[0;34m\u001b[0m\u001b[0m\n\u001b[0;32m----> 2\u001b[0;31m \u001b[0mdt_merged\u001b[0m\u001b[0;34m.\u001b[0m\u001b[0mloc\u001b[0m\u001b[0;34m[\u001b[0m\u001b[0mdt_merged\u001b[0m\u001b[0;34m[\u001b[0m\u001b[0;34m'Labels'\u001b[0m\u001b[0;34m]\u001b[0m \u001b[0;34m==\u001b[0m \u001b[0;36m3\u001b[0m\u001b[0;34m,\u001b[0m \u001b[0mdt_merged\u001b[0m\u001b[0;34m.\u001b[0m\u001b[0mcolumns\u001b[0m\u001b[0;34m[\u001b[0m\u001b[0;34m[\u001b[0m\u001b[0;36m1\u001b[0m\u001b[0;34m]\u001b[0m \u001b[0;34m+\u001b[0m \u001b[0mlist\u001b[0m\u001b[0;34m(\u001b[0m\u001b[0mrange\u001b[0m\u001b[0;34m(\u001b[0m\u001b[0;36m5\u001b[0m\u001b[0;34m,\u001b[0m \u001b[0mdt_merged\u001b[0m\u001b[0;34m.\u001b[0m\u001b[0mshape\u001b[0m\u001b[0;34m[\u001b[0m\u001b[0;36m1\u001b[0m\u001b[0;34m]\u001b[0m\u001b[0;34m)\u001b[0m\u001b[0;34m)\u001b[0m\u001b[0;34m]\u001b[0m\u001b[0;34m]\u001b[0m\u001b[0;34m\u001b[0m\u001b[0m\n\u001b[0m", 
                        "\u001b[0;31mNameError\u001b[0m: name 'dt_merged' is not defined"
                    ], 
                    "output_type": "error"
                }
            ], 
            "source": "#Cluster 4\ndt_merged.loc[dt_merged['Labels'] == 3, dt_merged.columns[[1] + list(range(5, dt_merged.shape[1]))]]"
        }, 
        {
            "source": "3.6 Conclusion:", 
            "cell_type": "markdown", 
            "metadata": {}
        }, 
        {
            "source": "As seen from the above dataframes corresponding to each cluster label, the following conclusions can be made:\n\nCluster 1: the most common venue type is Coffee Shop, followed by restaurants and bars.\nCluster 2: the most common venue type is Park or Playground.\nCluster 3: the most common venue type is Airport Lounge.\nCluster 4: the most common venue type is Grocery Store.\nThe most popular venue type in Downtown Toronto is Coffee Shop, containing 16 venues total.", 
            "cell_type": "markdown", 
            "metadata": {}
        }, 
        {
            "source": "1) Introduction/Business Problem\nThe basis of this study is to help a small group of investors planning to open their first U.S. based brewery / restaurant expansion in Toronto. They are interested in building in an area that meets the following criteria:\n\nA neighborhood with an average to above average total population\nAbove average populations of 25-40 year old male and female professionals\nA high concentration of the population having secondary education\nAverage to above average median net household incomes\nThe objective is to locate and recommend to the investors, the target audience, which neighborhood(s) of Toronto will be the best choice to start their international growth plan. The information gained will assist in chosing the right location by providing data about the population of each neighborhood, in addition to other established venues present in these areas.\n\nAdditionally, this information could be of interest to other potential investors looking to open a new restaurant in Toronto.", 
            "cell_type": "markdown", 
            "metadata": {}
        }, 
        {
            "source": "2) Data\nThe necessary information needed by the investing group will come from the following sources:\n\nCity of Toronto Neighborhood Profiles for providing an overview of the neighborhoods in Toronto\nCity of Toronto Open Data Catalogue : The Census of Population is held across Canada every five years (the last being in 2016), and collects data about age and sex, families and households, language, immigration and internal migration, ethnocultural diversity, Aboriginal peoples, housing, education, income, and labour. City of Toronto Neighborhood Profiles use this Census data to provide a portrait of the demographic, social and economic characteristics of the people and households in each City of Toronto neighborhood. The profiles present selected highlights from the data, but these accompanying data files provide the full data set assembled for each neighborhood.\n\nIn these profiles of the City of Toronto's 140 social planning neighbourhoods. These social planning neighbourhoods were developed by the City of Toronto to help government and community organizations with local planning by providing socio-economic data at a meaningful geographic area. The boundaries of these social planning neighbourhoods are consistent over time, allowing for comparison between Census years. Neighbourhood level data from a variety of other sources are also available through the City's Wellbeing Toronto mapping application and here on the Open Data portal.\n\nEach data point in this file is presented for the City's 140 neighbourhoods, as well as for the City of Toronto as a whole. The data is sourced from a number of Census tables released by Statistics Canada. The general Census Profile is the main source table for this data, but other Census tables have also been used to provide additional information. CSV File\n\nCity of Toronto Neighborhood Shapes for mapping : GeoJSON File\nWikipedia for Toronto Neighborhood Borough Designation : Each of the 140 social planning neighborhoods of Toronto reside within a defined borough. While the City of Toronto is by definition a singular municipality, the 140 neighbordhoods are still grouped into six destinct boroughs.\nFoursquare API to collect information on other venues/competitors in the neighborhoods\nTo assess the neighborhoods and provide guidance to the investors, we will be utilizing the data from the 2016 Toronto Census, Toronto Neighborhood shapes to map the neighborhoods, and the Foursquare API to collect information on venues/competitors in the neighborhoods.", 
            "cell_type": "markdown", 
            "metadata": {}
        }, 
        {
            "source": "Import and install the necessary libaries and tools", 
            "cell_type": "markdown", 
            "metadata": {}
        }, 
        {
            "execution_count": 32, 
            "cell_type": "code", 
            "metadata": {}, 
            "outputs": [
                {
                    "output_type": "stream", 
                    "name": "stdout", 
                    "text": "Solving environment: done\n\n## Package Plan ##\n\n  environment location: /opt/conda/envs/DSX-Python35\n\n  added / updated specs: \n    - geopy\n\n\nThe following packages will be downloaded:\n\n    package                    |            build\n    ---------------------------|-----------------\n    certifi-2018.8.24          |        py35_1001         139 KB  conda-forge\n    openssl-1.0.2r             |       h14c3975_0         3.1 MB  conda-forge\n    ca-certificates-2019.3.9   |       hecc5488_0         146 KB  conda-forge\n    geopy-1.20.0               |             py_0          57 KB  conda-forge\n    geographiclib-1.49         |             py_0          32 KB  conda-forge\n    ------------------------------------------------------------\n                                           Total:         3.5 MB\n\nThe following NEW packages will be INSTALLED:\n\n    geographiclib:   1.49-py_0         conda-forge\n    geopy:           1.20.0-py_0       conda-forge\n\nThe following packages will be UPDATED:\n\n    ca-certificates: 2019.1.23-0                   --> 2019.3.9-hecc5488_0 conda-forge\n    certifi:         2018.8.24-py35_1              --> 2018.8.24-py35_1001 conda-forge\n    openssl:         1.0.2r-h7b6447c_0             --> 1.0.2r-h14c3975_0   conda-forge\n\n\nDownloading and Extracting Packages\ncertifi-2018.8.24    | 139 KB    | ##################################### | 100% \nopenssl-1.0.2r       | 3.1 MB    | ##################################### | 100% \nca-certificates-2019 | 146 KB    | ##################################### | 100% \ngeopy-1.20.0         | 57 KB     | ##################################### | 100% \ngeographiclib-1.49   | 32 KB     | ##################################### | 100% \nPreparing transaction: done\nVerifying transaction: done\nExecuting transaction: done\nSolving environment: done\n\n## Package Plan ##\n\n  environment location: /opt/conda/envs/DSX-Python35\n\n  added / updated specs: \n    - folium=0.5.0\n\n\nThe following packages will be downloaded:\n\n    package                    |            build\n    ---------------------------|-----------------\n    altair-2.2.2               |           py35_1         462 KB  conda-forge\n    branca-0.3.1               |             py_0          25 KB  conda-forge\n    vincent-0.4.4              |             py_1          28 KB  conda-forge\n    folium-0.5.0               |             py_0          45 KB  conda-forge\n    ------------------------------------------------------------\n                                           Total:         560 KB\n\nThe following NEW packages will be INSTALLED:\n\n    altair:  2.2.2-py35_1 conda-forge\n    branca:  0.3.1-py_0   conda-forge\n    folium:  0.5.0-py_0   conda-forge\n    vincent: 0.4.4-py_1   conda-forge\n\n\nDownloading and Extracting Packages\naltair-2.2.2         | 462 KB    | ##################################### | 100% \nbranca-0.3.1         | 25 KB     | ##################################### | 100% \nvincent-0.4.4        | 28 KB     | ##################################### | 100% \nfolium-0.5.0         | 45 KB     | ##################################### | 100% \nPreparing transaction: done\nVerifying transaction: done\nExecuting transaction: done\nLibraries imported and loaded.\n"
                }
            ], 
            "source": "import numpy as np\nimport pandas as pd\npd.set_option('display.max_columns', None)\npd.set_option('display.max_rows', None)\n\nimport json\n\n!conda install -c conda-forge geopy --yes \nfrom geopy.geocoders import Nominatim\n\nimport requests\nfrom pandas.io.json import json_normalize\n\nfrom bs4 import BeautifulSoup\nimport xml\n\nimport matplotlib.pyplot as plt\nimport matplotlib.colors as colors\nimport matplotlib.cm as cm\n\nfrom sklearn.cluster import KMeans\n\n!conda install -c conda-forge folium=0.5.0 --yes \nimport folium\n\nprint('Libraries imported and loaded.')"
        }, 
        {
            "source": "Pull in the Toronto Census data file and create a dataframe", 
            "cell_type": "markdown", 
            "metadata": {}
        }, 
        {
            "execution_count": 33, 
            "cell_type": "code", 
            "metadata": {}, 
            "outputs": [
                {
                    "execution_count": 33, 
                    "metadata": {}, 
                    "data": {
                        "text/html": "<div>\n<style scoped>\n    .dataframe tbody tr th:only-of-type {\n        vertical-align: middle;\n    }\n\n    .dataframe tbody tr th {\n        vertical-align: top;\n    }\n\n    .dataframe thead th {\n        text-align: right;\n    }\n</style>\n<table border=\"1\" class=\"dataframe\">\n  <thead>\n    <tr style=\"text-align: right;\">\n      <th></th>\n      <th>Category</th>\n      <th>Topic</th>\n      <th>Data Source</th>\n      <th>Characteristic</th>\n      <th>City of Toronto</th>\n      <th>Agincourt North</th>\n      <th>Agincourt South-Malvern West</th>\n      <th>Alderwood</th>\n      <th>Annex</th>\n      <th>Banbury-Don Mills</th>\n      <th>Bathurst Manor</th>\n      <th>Bay Street Corridor</th>\n      <th>Bayview Village</th>\n      <th>Bayview Woods-Steeles</th>\n      <th>Bedford Park-Nortown</th>\n      <th>Beechborough-Greenbrook</th>\n      <th>Bendale</th>\n      <th>Birchcliffe-Cliffside</th>\n      <th>Black Creek</th>\n      <th>Blake-Jones</th>\n      <th>Briar Hill-Belgravia</th>\n      <th>Bridle Path-Sunnybrook-York Mills</th>\n      <th>Broadview North</th>\n      <th>Brookhaven-Amesbury</th>\n      <th>Cabbagetown-South St. James Town</th>\n      <th>Caledonia-Fairbank</th>\n      <th>Casa Loma</th>\n      <th>Centennial Scarborough</th>\n      <th>Church-Yonge Corridor</th>\n      <th>Clairlea-Birchmount</th>\n      <th>Clanton Park</th>\n      <th>Cliffcrest</th>\n      <th>Corso Italia-Davenport</th>\n      <th>Danforth</th>\n      <th>Danforth East York</th>\n      <th>Don Valley Village</th>\n      <th>Dorset Park</th>\n      <th>Dovercourt-Wallace Emerson-Junction</th>\n      <th>Downsview-Roding-CFB</th>\n      <th>Dufferin Grove</th>\n      <th>East End-Danforth</th>\n      <th>Edenbridge-Humber Valley</th>\n      <th>Eglinton East</th>\n      <th>Elms-Old Rexdale</th>\n      <th>Englemount-Lawrence</th>\n      <th>Eringate-Centennial-West Deane</th>\n      <th>Etobicoke West Mall</th>\n      <th>Flemingdon Park</th>\n      <th>Forest Hill North</th>\n      <th>Forest Hill South</th>\n      <th>Glenfield-Jane Heights</th>\n      <th>Greenwood-Coxwell</th>\n      <th>Guildwood</th>\n      <th>Henry Farm</th>\n      <th>High Park North</th>\n      <th>High Park-Swansea</th>\n      <th>Highland Creek</th>\n      <th>Hillcrest Village</th>\n      <th>Humber Heights-Westmount</th>\n      <th>Humber Summit</th>\n      <th>Humbermede</th>\n      <th>Humewood-Cedarvale</th>\n      <th>Ionview</th>\n      <th>Islington-City Centre West</th>\n      <th>Junction Area</th>\n      <th>Keelesdale-Eglinton West</th>\n      <th>Kennedy Park</th>\n      <th>Kensington-Chinatown</th>\n      <th>Kingsview Village-The Westway</th>\n      <th>Kingsway South</th>\n      <th>Lambton Baby Point</th>\n      <th>L'Amoreaux</th>\n      <th>Lansing-Westgate</th>\n      <th>Lawrence Park North</th>\n      <th>Lawrence Park South</th>\n      <th>Leaside-Bennington</th>\n      <th>Little Portugal</th>\n      <th>Long Branch</th>\n      <th>Malvern</th>\n      <th>Maple Leaf</th>\n      <th>Markland Wood</th>\n      <th>Milliken</th>\n      <th>Mimico (includes Humber Bay Shores)</th>\n      <th>Morningside</th>\n      <th>Moss Park</th>\n      <th>Mount Dennis</th>\n      <th>Mount Olive-Silverstone-Jamestown</th>\n      <th>Mount Pleasant East</th>\n      <th>Mount Pleasant West</th>\n      <th>New Toronto</th>\n      <th>Newtonbrook East</th>\n      <th>Newtonbrook West</th>\n      <th>Niagara</th>\n      <th>North Riverdale</th>\n      <th>North St. James Town</th>\n      <th>Oakridge</th>\n      <th>Oakwood Village</th>\n      <th>O'Connor-Parkview</th>\n      <th>Old East York</th>\n      <th>Palmerston-Little Italy</th>\n      <th>Parkwoods-Donalda</th>\n      <th>Pelmo Park-Humberlea</th>\n      <th>Playter Estates-Danforth</th>\n      <th>Pleasant View</th>\n      <th>Princess-Rosethorn</th>\n      <th>Regent Park</th>\n      <th>Rexdale-Kipling</th>\n      <th>Rockcliffe-Smythe</th>\n      <th>Roncesvalles</th>\n      <th>Rosedale-Moore Park</th>\n      <th>Rouge</th>\n      <th>Runnymede-Bloor West Village</th>\n      <th>Rustic</th>\n      <th>Scarborough Village</th>\n      <th>South Parkdale</th>\n      <th>South Riverdale</th>\n      <th>St.Andrew-Windfields</th>\n      <th>Steeles</th>\n      <th>Stonegate-Queensway</th>\n      <th>Tam O'Shanter-Sullivan</th>\n      <th>Taylor-Massey</th>\n      <th>The Beaches</th>\n      <th>Thistletown-Beaumond Heights</th>\n      <th>Thorncliffe Park</th>\n      <th>Trinity-Bellwoods</th>\n      <th>University</th>\n      <th>Victoria Village</th>\n      <th>Waterfront Communities-The Island</th>\n      <th>West Hill</th>\n      <th>West Humber-Clairville</th>\n      <th>Westminster-Branson</th>\n      <th>Weston</th>\n      <th>Weston-Pelham Park</th>\n      <th>Wexford/Maryvale</th>\n      <th>Willowdale East</th>\n      <th>Willowdale West</th>\n      <th>Willowridge-Martingrove-Richview</th>\n      <th>Woburn</th>\n      <th>Woodbine Corridor</th>\n      <th>Woodbine-Lumsden</th>\n      <th>Wychwood</th>\n      <th>Yonge-Eglinton</th>\n      <th>Yonge-St.Clair</th>\n      <th>York University Heights</th>\n      <th>Yorkdale-Glen Park</th>\n    </tr>\n  </thead>\n  <tbody>\n    <tr>\n      <th>0</th>\n      <td>Neighbourhood Information</td>\n      <td>Neighbourhood Information</td>\n      <td>City of Toronto</td>\n      <td>Neighbourhood Number</td>\n      <td>NaN</td>\n      <td>129</td>\n      <td>128</td>\n      <td>20</td>\n      <td>95</td>\n      <td>42</td>\n      <td>34</td>\n      <td>76</td>\n      <td>52</td>\n      <td>49</td>\n      <td>39</td>\n      <td>112</td>\n      <td>127</td>\n      <td>122</td>\n      <td>24</td>\n      <td>69</td>\n      <td>108</td>\n      <td>41</td>\n      <td>57</td>\n      <td>30</td>\n      <td>71</td>\n      <td>109</td>\n      <td>96</td>\n      <td>133</td>\n      <td>75</td>\n      <td>120</td>\n      <td>33</td>\n      <td>123</td>\n      <td>92</td>\n      <td>66</td>\n      <td>59</td>\n      <td>47</td>\n      <td>126</td>\n      <td>93</td>\n      <td>26</td>\n      <td>83</td>\n      <td>62</td>\n      <td>9</td>\n      <td>138</td>\n      <td>5</td>\n      <td>32</td>\n      <td>11</td>\n      <td>13</td>\n      <td>44</td>\n      <td>102</td>\n      <td>101</td>\n      <td>25</td>\n      <td>65</td>\n      <td>140</td>\n      <td>53</td>\n      <td>88</td>\n      <td>87</td>\n      <td>134</td>\n      <td>48</td>\n      <td>8</td>\n      <td>21</td>\n      <td>22</td>\n      <td>106</td>\n      <td>125</td>\n      <td>14</td>\n      <td>90</td>\n      <td>110</td>\n      <td>124</td>\n      <td>78</td>\n      <td>6</td>\n      <td>15</td>\n      <td>114</td>\n      <td>117</td>\n      <td>38</td>\n      <td>105</td>\n      <td>103</td>\n      <td>56</td>\n      <td>84</td>\n      <td>19</td>\n      <td>132</td>\n      <td>29</td>\n      <td>12</td>\n      <td>130</td>\n      <td>17</td>\n      <td>135</td>\n      <td>73</td>\n      <td>115</td>\n      <td>2</td>\n      <td>99</td>\n      <td>104</td>\n      <td>18</td>\n      <td>50</td>\n      <td>36</td>\n      <td>82</td>\n      <td>68</td>\n      <td>74</td>\n      <td>121</td>\n      <td>107</td>\n      <td>54</td>\n      <td>58</td>\n      <td>80</td>\n      <td>45</td>\n      <td>23</td>\n      <td>67</td>\n      <td>46</td>\n      <td>10</td>\n      <td>72</td>\n      <td>4</td>\n      <td>111</td>\n      <td>86</td>\n      <td>98</td>\n      <td>131</td>\n      <td>89</td>\n      <td>28</td>\n      <td>139</td>\n      <td>85</td>\n      <td>70</td>\n      <td>40</td>\n      <td>116</td>\n      <td>16</td>\n      <td>118</td>\n      <td>61</td>\n      <td>63</td>\n      <td>3</td>\n      <td>55</td>\n      <td>81</td>\n      <td>79</td>\n      <td>43</td>\n      <td>77</td>\n      <td>136</td>\n      <td>1</td>\n      <td>35</td>\n      <td>113</td>\n      <td>91</td>\n      <td>119</td>\n      <td>51</td>\n      <td>37</td>\n      <td>7</td>\n      <td>137</td>\n      <td>64</td>\n      <td>60</td>\n      <td>94</td>\n      <td>100</td>\n      <td>97</td>\n      <td>27</td>\n      <td>31</td>\n    </tr>\n    <tr>\n      <th>1</th>\n      <td>Neighbourhood Information</td>\n      <td>Neighbourhood Information</td>\n      <td>City of Toronto</td>\n      <td>TSNS2020 Designation</td>\n      <td>NaN</td>\n      <td>No Designation</td>\n      <td>No Designation</td>\n      <td>No Designation</td>\n      <td>No Designation</td>\n      <td>No Designation</td>\n      <td>No Designation</td>\n      <td>No Designation</td>\n      <td>No Designation</td>\n      <td>No Designation</td>\n      <td>No Designation</td>\n      <td>NIA</td>\n      <td>No Designation</td>\n      <td>No Designation</td>\n      <td>NIA</td>\n      <td>No Designation</td>\n      <td>No Designation</td>\n      <td>No Designation</td>\n      <td>No Designation</td>\n      <td>No Designation</td>\n      <td>No Designation</td>\n      <td>No Designation</td>\n      <td>No Designation</td>\n      <td>No Designation</td>\n      <td>No Designation</td>\n      <td>No Designation</td>\n      <td>No Designation</td>\n      <td>No Designation</td>\n      <td>No Designation</td>\n      <td>No Designation</td>\n      <td>No Designation</td>\n      <td>No Designation</td>\n      <td>Emerging Neighbourhood</td>\n      <td>No Designation</td>\n      <td>NIA</td>\n      <td>No Designation</td>\n      <td>No Designation</td>\n      <td>No Designation</td>\n      <td>NIA</td>\n      <td>NIA</td>\n      <td>Emerging Neighbourhood</td>\n      <td>No Designation</td>\n      <td>No Designation</td>\n      <td>NIA</td>\n      <td>No Designation</td>\n      <td>No Designation</td>\n      <td>NIA</td>\n      <td>No Designation</td>\n      <td>No Designation</td>\n      <td>No Designation</td>\n      <td>No Designation</td>\n      <td>No Designation</td>\n      <td>No Designation</td>\n      <td>No Designation</td>\n      <td>Emerging Neighbourhood</td>\n      <td>NIA</td>\n      <td>NIA</td>\n      <td>No Designation</td>\n      <td>NIA</td>\n      <td>No Designation</td>\n      <td>No Designation</td>\n      <td>NIA</td>\n      <td>NIA</td>\n      <td>No Designation</td>\n      <td>NIA</td>\n      <td>No Designation</td>\n      <td>No Designation</td>\n      <td>Emerging Neighbourhood</td>\n      <td>No Designation</td>\n      <td>No Designation</td>\n      <td>No Designation</td>\n      <td>No Designation</td>\n      <td>No Designation</td>\n      <td>No Designation</td>\n      <td>Emerging Neighbourhood</td>\n      <td>No Designation</td>\n      <td>No Designation</td>\n      <td>No Designation</td>\n      <td>No Designation</td>\n      <td>NIA</td>\n      <td>No Designation</td>\n      <td>NIA</td>\n      <td>NIA</td>\n      <td>No Designation</td>\n      <td>No Designation</td>\n      <td>No Designation</td>\n      <td>No Designation</td>\n      <td>No Designation</td>\n      <td>No Designation</td>\n      <td>No Designation</td>\n      <td>No Designation</td>\n      <td>NIA</td>\n      <td>No Designation</td>\n      <td>No Designation</td>\n      <td>No Designation</td>\n      <td>No Designation</td>\n      <td>No Designation</td>\n      <td>No Designation</td>\n      <td>No Designation</td>\n      <td>No Designation</td>\n      <td>No Designation</td>\n      <td>NIA</td>\n      <td>No Designation</td>\n      <td>NIA</td>\n      <td>No Designation</td>\n      <td>No Designation</td>\n      <td>No Designation</td>\n      <td>No Designation</td>\n      <td>NIA</td>\n      <td>NIA</td>\n      <td>NIA</td>\n      <td>No Designation</td>\n      <td>No Designation</td>\n      <td>Emerging Neighbourhood</td>\n      <td>No Designation</td>\n      <td>No Designation</td>\n      <td>NIA</td>\n      <td>No Designation</td>\n      <td>NIA</td>\n      <td>NIA</td>\n      <td>No Designation</td>\n      <td>No Designation</td>\n      <td>NIA</td>\n      <td>No Designation</td>\n      <td>NIA</td>\n      <td>No Designation</td>\n      <td>Emerging Neighbourhood</td>\n      <td>NIA</td>\n      <td>NIA</td>\n      <td>No Designation</td>\n      <td>No Designation</td>\n      <td>No Designation</td>\n      <td>No Designation</td>\n      <td>NIA</td>\n      <td>No Designation</td>\n      <td>No Designation</td>\n      <td>No Designation</td>\n      <td>No Designation</td>\n      <td>No Designation</td>\n      <td>NIA</td>\n      <td>Emerging Neighbourhood</td>\n    </tr>\n    <tr>\n      <th>2</th>\n      <td>Population</td>\n      <td>Population and dwellings</td>\n      <td>Census Profile 98-316-X2016001</td>\n      <td>Population, 2016</td>\n      <td>2,731,571</td>\n      <td>29,113</td>\n      <td>23,757</td>\n      <td>12,054</td>\n      <td>30,526</td>\n      <td>27,695</td>\n      <td>15,873</td>\n      <td>25,797</td>\n      <td>21,396</td>\n      <td>13,154</td>\n      <td>23,236</td>\n      <td>6,577</td>\n      <td>29,960</td>\n      <td>22,291</td>\n      <td>21,737</td>\n      <td>7,727</td>\n      <td>14,257</td>\n      <td>9,266</td>\n      <td>11,499</td>\n      <td>17,757</td>\n      <td>11,669</td>\n      <td>9,955</td>\n      <td>10,968</td>\n      <td>13,362</td>\n      <td>31,340</td>\n      <td>26,984</td>\n      <td>16,472</td>\n      <td>15,935</td>\n      <td>14,133</td>\n      <td>9,666</td>\n      <td>17,180</td>\n      <td>27,051</td>\n      <td>25,003</td>\n      <td>36,625</td>\n      <td>35,052</td>\n      <td>11,785</td>\n      <td>21,381</td>\n      <td>15,535</td>\n      <td>22,776</td>\n      <td>9,456</td>\n      <td>22,372</td>\n      <td>18,588</td>\n      <td>11,848</td>\n      <td>21,933</td>\n      <td>12,806</td>\n      <td>10,732</td>\n      <td>30,491</td>\n      <td>14,417</td>\n      <td>9,917</td>\n      <td>15,723</td>\n      <td>22,162</td>\n      <td>23,925</td>\n      <td>12,494</td>\n      <td>16,934</td>\n      <td>10,948</td>\n      <td>12,416</td>\n      <td>15,545</td>\n      <td>14,365</td>\n      <td>13,641</td>\n      <td>43,965</td>\n      <td>14,366</td>\n      <td>11,058</td>\n      <td>17,123</td>\n      <td>17,945</td>\n      <td>22,000</td>\n      <td>9,271</td>\n      <td>7,985</td>\n      <td>43,993</td>\n      <td>16,164</td>\n      <td>14,607</td>\n      <td>15,179</td>\n      <td>16,828</td>\n      <td>15,559</td>\n      <td>10,084</td>\n      <td>43,794</td>\n      <td>10,111</td>\n      <td>10,554</td>\n      <td>26,572</td>\n      <td>33,964</td>\n      <td>17,455</td>\n      <td>20,506</td>\n      <td>13,593</td>\n      <td>32,954</td>\n      <td>16,775</td>\n      <td>29,658</td>\n      <td>11,463</td>\n      <td>16,097</td>\n      <td>23,831</td>\n      <td>31,180</td>\n      <td>11,916</td>\n      <td>18,615</td>\n      <td>13,845</td>\n      <td>21,210</td>\n      <td>18,675</td>\n      <td>9,233</td>\n      <td>13,826</td>\n      <td>34,805</td>\n      <td>10,722</td>\n      <td>7,804</td>\n      <td>15,818</td>\n      <td>11,051</td>\n      <td>10,803</td>\n      <td>10,529</td>\n      <td>22,246</td>\n      <td>14,974</td>\n      <td>20,923</td>\n      <td>46,496</td>\n      <td>10,070</td>\n      <td>9,941</td>\n      <td>16,724</td>\n      <td>21,849</td>\n      <td>27,876</td>\n      <td>17,812</td>\n      <td>24,623</td>\n      <td>25,051</td>\n      <td>27,446</td>\n      <td>15,683</td>\n      <td>21,567</td>\n      <td>10,360</td>\n      <td>21,108</td>\n      <td>16,556</td>\n      <td>7,607</td>\n      <td>17,510</td>\n      <td>65,913</td>\n      <td>27,392</td>\n      <td>33,312</td>\n      <td>26,274</td>\n      <td>17,992</td>\n      <td>11,098</td>\n      <td>27,917</td>\n      <td>50,434</td>\n      <td>16,936</td>\n      <td>22,156</td>\n      <td>53,485</td>\n      <td>12,541</td>\n      <td>7,865</td>\n      <td>14,349</td>\n      <td>11,817</td>\n      <td>12,528</td>\n      <td>27,593</td>\n      <td>14,804</td>\n    </tr>\n    <tr>\n      <th>3</th>\n      <td>Population</td>\n      <td>Population and dwellings</td>\n      <td>Census Profile 98-316-X2016001</td>\n      <td>Population, 2011</td>\n      <td>2,615,060</td>\n      <td>30,279</td>\n      <td>21,988</td>\n      <td>11,904</td>\n      <td>29,177</td>\n      <td>26,918</td>\n      <td>15,434</td>\n      <td>19,348</td>\n      <td>17,671</td>\n      <td>13,530</td>\n      <td>23,185</td>\n      <td>6,488</td>\n      <td>27,876</td>\n      <td>21,856</td>\n      <td>22,057</td>\n      <td>7,763</td>\n      <td>14,302</td>\n      <td>8,713</td>\n      <td>11,563</td>\n      <td>17,787</td>\n      <td>12,053</td>\n      <td>9,851</td>\n      <td>10,487</td>\n      <td>13,093</td>\n      <td>28,349</td>\n      <td>24,770</td>\n      <td>14,612</td>\n      <td>15,703</td>\n      <td>13,743</td>\n      <td>9,444</td>\n      <td>16,712</td>\n      <td>26,739</td>\n      <td>24,363</td>\n      <td>34,631</td>\n      <td>34,659</td>\n      <td>11,449</td>\n      <td>20,839</td>\n      <td>14,943</td>\n      <td>22,829</td>\n      <td>9,550</td>\n      <td>22,086</td>\n      <td>18,810</td>\n      <td>10,927</td>\n      <td>22,168</td>\n      <td>12,474</td>\n      <td>10,926</td>\n      <td>31,390</td>\n      <td>14,083</td>\n      <td>9,816</td>\n      <td>11,333</td>\n      <td>21,292</td>\n      <td>21,740</td>\n      <td>13,097</td>\n      <td>17,656</td>\n      <td>10,583</td>\n      <td>12,525</td>\n      <td>15,853</td>\n      <td>14,108</td>\n      <td>13,091</td>\n      <td>38,084</td>\n      <td>14,027</td>\n      <td>10,638</td>\n      <td>17,058</td>\n      <td>18,495</td>\n      <td>21,723</td>\n      <td>9,170</td>\n      <td>7,921</td>\n      <td>44,919</td>\n      <td>14,642</td>\n      <td>14,541</td>\n      <td>15,070</td>\n      <td>17,011</td>\n      <td>12,050</td>\n      <td>9,632</td>\n      <td>45,086</td>\n      <td>10,197</td>\n      <td>10,436</td>\n      <td>27,167</td>\n      <td>26,541</td>\n      <td>17,587</td>\n      <td>16,306</td>\n      <td>13,145</td>\n      <td>32,788</td>\n      <td>15,982</td>\n      <td>28,593</td>\n      <td>10,900</td>\n      <td>16,423</td>\n      <td>23,052</td>\n      <td>21,274</td>\n      <td>12,191</td>\n      <td>17,832</td>\n      <td>13,497</td>\n      <td>21,073</td>\n      <td>18,316</td>\n      <td>9,118</td>\n      <td>13,746</td>\n      <td>34,617</td>\n      <td>8,710</td>\n      <td>7,653</td>\n      <td>16,144</td>\n      <td>11,197</td>\n      <td>10,007</td>\n      <td>10,488</td>\n      <td>22,267</td>\n      <td>15,050</td>\n      <td>20,631</td>\n      <td>45,912</td>\n      <td>9,632</td>\n      <td>9,951</td>\n      <td>16,609</td>\n      <td>21,251</td>\n      <td>25,642</td>\n      <td>17,958</td>\n      <td>25,017</td>\n      <td>24,691</td>\n      <td>27,398</td>\n      <td>15,594</td>\n      <td>21,130</td>\n      <td>10,138</td>\n      <td>19,225</td>\n      <td>16,802</td>\n      <td>7,782</td>\n      <td>17,182</td>\n      <td>43,361</td>\n      <td>26,547</td>\n      <td>34,100</td>\n      <td>25,446</td>\n      <td>18,170</td>\n      <td>12,010</td>\n      <td>27,018</td>\n      <td>45,041</td>\n      <td>15,004</td>\n      <td>21,343</td>\n      <td>53,350</td>\n      <td>11,703</td>\n      <td>7,826</td>\n      <td>13,986</td>\n      <td>10,578</td>\n      <td>11,652</td>\n      <td>27,713</td>\n      <td>14,687</td>\n    </tr>\n    <tr>\n      <th>4</th>\n      <td>Population</td>\n      <td>Population and dwellings</td>\n      <td>Census Profile 98-316-X2016001</td>\n      <td>Population Change 2011-2016</td>\n      <td>4.50%</td>\n      <td>-3.90%</td>\n      <td>8.00%</td>\n      <td>1.30%</td>\n      <td>4.60%</td>\n      <td>2.90%</td>\n      <td>2.80%</td>\n      <td>33.30%</td>\n      <td>21.10%</td>\n      <td>-2.80%</td>\n      <td>0.20%</td>\n      <td>1.40%</td>\n      <td>7.50%</td>\n      <td>2.00%</td>\n      <td>-1.50%</td>\n      <td>-0.50%</td>\n      <td>-0.30%</td>\n      <td>6.30%</td>\n      <td>-0.60%</td>\n      <td>-0.20%</td>\n      <td>-3.20%</td>\n      <td>1.10%</td>\n      <td>4.60%</td>\n      <td>2.10%</td>\n      <td>10.60%</td>\n      <td>8.90%</td>\n      <td>12.70%</td>\n      <td>1.50%</td>\n      <td>2.80%</td>\n      <td>2.40%</td>\n      <td>2.80%</td>\n      <td>1.20%</td>\n      <td>2.60%</td>\n      <td>5.80%</td>\n      <td>1.10%</td>\n      <td>2.90%</td>\n      <td>2.60%</td>\n      <td>4.00%</td>\n      <td>-0.20%</td>\n      <td>-1.00%</td>\n      <td>1.30%</td>\n      <td>-1.20%</td>\n      <td>8.40%</td>\n      <td>-1.10%</td>\n      <td>2.70%</td>\n      <td>-1.80%</td>\n      <td>-2.90%</td>\n      <td>2.40%</td>\n      <td>1.00%</td>\n      <td>38.70%</td>\n      <td>4.10%</td>\n      <td>10.10%</td>\n      <td>-4.60%</td>\n      <td>-4.10%</td>\n      <td>3.40%</td>\n      <td>-0.90%</td>\n      <td>-1.90%</td>\n      <td>1.80%</td>\n      <td>4.20%</td>\n      <td>15.40%</td>\n      <td>2.40%</td>\n      <td>3.90%</td>\n      <td>0.40%</td>\n      <td>-3.00%</td>\n      <td>1.30%</td>\n      <td>1.10%</td>\n      <td>0.80%</td>\n      <td>-2.10%</td>\n      <td>10.40%</td>\n      <td>0.50%</td>\n      <td>0.70%</td>\n      <td>-1.10%</td>\n      <td>29.10%</td>\n      <td>4.70%</td>\n      <td>-2.90%</td>\n      <td>-0.80%</td>\n      <td>1.10%</td>\n      <td>-2.20%</td>\n      <td>28.00%</td>\n      <td>-0.80%</td>\n      <td>25.80%</td>\n      <td>3.40%</td>\n      <td>0.50%</td>\n      <td>5.00%</td>\n      <td>3.70%</td>\n      <td>5.20%</td>\n      <td>-2.00%</td>\n      <td>3.40%</td>\n      <td>46.60%</td>\n      <td>-2.30%</td>\n      <td>4.40%</td>\n      <td>2.60%</td>\n      <td>0.70%</td>\n      <td>2.00%</td>\n      <td>1.30%</td>\n      <td>0.60%</td>\n      <td>0.50%</td>\n      <td>23.10%</td>\n      <td>2.00%</td>\n      <td>-2.00%</td>\n      <td>-1.30%</td>\n      <td>8.00%</td>\n      <td>0.40%</td>\n      <td>-0.10%</td>\n      <td>-0.50%</td>\n      <td>1.40%</td>\n      <td>1.30%</td>\n      <td>4.50%</td>\n      <td>-0.10%</td>\n      <td>0.70%</td>\n      <td>2.80%</td>\n      <td>8.70%</td>\n      <td>-0.80%</td>\n      <td>-1.60%</td>\n      <td>1.50%</td>\n      <td>0.20%</td>\n      <td>0.60%</td>\n      <td>2.10%</td>\n      <td>2.20%</td>\n      <td>9.80%</td>\n      <td>-1.50%</td>\n      <td>-2.20%</td>\n      <td>1.90%</td>\n      <td>52.00%</td>\n      <td>3.20%</td>\n      <td>-2.30%</td>\n      <td>3.30%</td>\n      <td>-1.00%</td>\n      <td>-7.60%</td>\n      <td>3.30%</td>\n      <td>12.00%</td>\n      <td>12.90%</td>\n      <td>3.80%</td>\n      <td>0.30%</td>\n      <td>7.20%</td>\n      <td>0.50%</td>\n      <td>2.60%</td>\n      <td>11.70%</td>\n      <td>7.50%</td>\n      <td>-0.40%</td>\n      <td>0.80%</td>\n    </tr>\n  </tbody>\n</table>\n</div>", 
                        "text/plain": "                    Category                      Topic  \\\n0  Neighbourhood Information  Neighbourhood Information   \n1  Neighbourhood Information  Neighbourhood Information   \n2                 Population   Population and dwellings   \n3                 Population   Population and dwellings   \n4                 Population   Population and dwellings   \n\n                      Data Source               Characteristic  \\\n0                 City of Toronto         Neighbourhood Number   \n1                 City of Toronto         TSNS2020 Designation   \n2  Census Profile 98-316-X2016001             Population, 2016   \n3  Census Profile 98-316-X2016001             Population, 2011   \n4  Census Profile 98-316-X2016001  Population Change 2011-2016   \n\n  City of Toronto Agincourt North Agincourt South-Malvern West  \\\n0             NaN             129                          128   \n1             NaN  No Designation               No Designation   \n2       2,731,571          29,113                       23,757   \n3       2,615,060          30,279                       21,988   \n4           4.50%          -3.90%                        8.00%   \n\n        Alderwood           Annex Banbury-Don Mills  Bathurst Manor  \\\n0              20              95                42              34   \n1  No Designation  No Designation    No Designation  No Designation   \n2          12,054          30,526            27,695          15,873   \n3          11,904          29,177            26,918          15,434   \n4           1.30%           4.60%             2.90%           2.80%   \n\n  Bay Street Corridor Bayview Village Bayview Woods-Steeles  \\\n0                  76              52                    49   \n1      No Designation  No Designation        No Designation   \n2              25,797          21,396                13,154   \n3              19,348          17,671                13,530   \n4              33.30%          21.10%                -2.80%   \n\n  Bedford Park-Nortown Beechborough-Greenbrook         Bendale  \\\n0                   39                     112             127   \n1       No Designation                     NIA  No Designation   \n2               23,236                   6,577          29,960   \n3               23,185                   6,488          27,876   \n4                0.20%                   1.40%           7.50%   \n\n  Birchcliffe-Cliffside Black Creek     Blake-Jones Briar Hill-Belgravia  \\\n0                   122          24              69                  108   \n1        No Designation         NIA  No Designation       No Designation   \n2                22,291      21,737           7,727               14,257   \n3                21,856      22,057           7,763               14,302   \n4                 2.00%      -1.50%          -0.50%               -0.30%   \n\n  Bridle Path-Sunnybrook-York Mills Broadview North Brookhaven-Amesbury  \\\n0                                41              57                  30   \n1                    No Designation  No Designation      No Designation   \n2                             9,266          11,499              17,757   \n3                             8,713          11,563              17,787   \n4                             6.30%          -0.60%              -0.20%   \n\n  Cabbagetown-South St. James Town Caledonia-Fairbank       Casa Loma  \\\n0                               71                109              96   \n1                   No Designation     No Designation  No Designation   \n2                           11,669              9,955          10,968   \n3                           12,053              9,851          10,487   \n4                           -3.20%              1.10%           4.60%   \n\n  Centennial Scarborough Church-Yonge Corridor Clairlea-Birchmount  \\\n0                    133                    75                 120   \n1         No Designation        No Designation      No Designation   \n2                 13,362                31,340              26,984   \n3                 13,093                28,349              24,770   \n4                  2.10%                10.60%               8.90%   \n\n     Clanton Park      Cliffcrest Corso Italia-Davenport        Danforth  \\\n0              33             123                     92              66   \n1  No Designation  No Designation         No Designation  No Designation   \n2          16,472          15,935                 14,133           9,666   \n3          14,612          15,703                 13,743           9,444   \n4          12.70%           1.50%                  2.80%           2.40%   \n\n  Danforth East York Don Valley Village             Dorset Park  \\\n0                 59                 47                     126   \n1     No Designation     No Designation  Emerging Neighbourhood   \n2             17,180             27,051                  25,003   \n3             16,712             26,739                  24,363   \n4              2.80%              1.20%                   2.60%   \n\n  Dovercourt-Wallace Emerson-Junction Downsview-Roding-CFB  Dufferin Grove  \\\n0                                  93                   26              83   \n1                      No Designation                  NIA  No Designation   \n2                              36,625               35,052          11,785   \n3                              34,631               34,659          11,449   \n4                               5.80%                1.10%           2.90%   \n\n  East End-Danforth Edenbridge-Humber Valley Eglinton East Elms-Old Rexdale  \\\n0                62                        9           138                5   \n1    No Designation           No Designation           NIA              NIA   \n2            21,381                   15,535        22,776            9,456   \n3            20,839                   14,943        22,829            9,550   \n4             2.60%                    4.00%        -0.20%           -1.00%   \n\n      Englemount-Lawrence Eringate-Centennial-West Deane Etobicoke West Mall  \\\n0                      32                             11                  13   \n1  Emerging Neighbourhood                 No Designation      No Designation   \n2                  22,372                         18,588              11,848   \n3                  22,086                         18,810              10,927   \n4                   1.30%                         -1.20%               8.40%   \n\n  Flemingdon Park Forest Hill North Forest Hill South Glenfield-Jane Heights  \\\n0              44               102               101                     25   \n1             NIA    No Designation    No Designation                    NIA   \n2          21,933            12,806            10,732                 30,491   \n3          22,168            12,474            10,926                 31,390   \n4          -1.10%             2.70%            -1.80%                 -2.90%   \n\n  Greenwood-Coxwell       Guildwood      Henry Farm High Park North  \\\n0                65             140              53              88   \n1    No Designation  No Designation  No Designation  No Designation   \n2            14,417           9,917          15,723          22,162   \n3            14,083           9,816          11,333          21,292   \n4             2.40%           1.00%          38.70%           4.10%   \n\n  High Park-Swansea  Highland Creek Hillcrest Village  \\\n0                87             134                48   \n1    No Designation  No Designation    No Designation   \n2            23,925          12,494            16,934   \n3            21,740          13,097            17,656   \n4            10.10%          -4.60%            -4.10%   \n\n  Humber Heights-Westmount Humber Summit Humbermede Humewood-Cedarvale  \\\n0                        8            21         22                106   \n1   Emerging Neighbourhood           NIA        NIA     No Designation   \n2                   10,948        12,416     15,545             14,365   \n3                   10,583        12,525     15,853             14,108   \n4                    3.40%        -0.90%     -1.90%              1.80%   \n\n  Ionview Islington-City Centre West   Junction Area Keelesdale-Eglinton West  \\\n0     125                         14              90                      110   \n1     NIA             No Designation  No Designation                      NIA   \n2  13,641                     43,965          14,366                   11,058   \n3  13,091                     38,084          14,027                   10,638   \n4   4.20%                     15.40%           2.40%                    3.90%   \n\n  Kennedy Park Kensington-Chinatown Kingsview Village-The Westway  \\\n0          124                   78                             6   \n1          NIA       No Designation                           NIA   \n2       17,123               17,945                        22,000   \n3       17,058               18,495                        21,723   \n4        0.40%               -3.00%                         1.30%   \n\n   Kingsway South Lambton Baby Point              L'Amoreaux Lansing-Westgate  \\\n0              15                114                     117               38   \n1  No Designation     No Designation  Emerging Neighbourhood   No Designation   \n2           9,271              7,985                  43,993           16,164   \n3           9,170              7,921                  44,919           14,642   \n4           1.10%              0.80%                  -2.10%           10.40%   \n\n  Lawrence Park North Lawrence Park South Leaside-Bennington Little Portugal  \\\n0                 105                 103                 56              84   \n1      No Designation      No Designation     No Designation  No Designation   \n2              14,607              15,179             16,828          15,559   \n3              14,541              15,070             17,011          12,050   \n4               0.50%               0.70%             -1.10%          29.10%   \n\n      Long Branch                 Malvern      Maple Leaf   Markland Wood  \\\n0              19                     132              29              12   \n1  No Designation  Emerging Neighbourhood  No Designation  No Designation   \n2          10,084                  43,794          10,111          10,554   \n3           9,632                  45,086          10,197          10,436   \n4           4.70%                  -2.90%          -0.80%           1.10%   \n\n         Milliken Mimico (includes Humber Bay Shores) Morningside  \\\n0             130                                  17         135   \n1  No Designation                      No Designation         NIA   \n2          26,572                              33,964      17,455   \n3          27,167                              26,541      17,587   \n4          -2.20%                              28.00%      -0.80%   \n\n        Moss Park Mount Dennis Mount Olive-Silverstone-Jamestown  \\\n0              73          115                                 2   \n1  No Designation          NIA                               NIA   \n2          20,506       13,593                            32,954   \n3          16,306       13,145                            32,788   \n4          25.80%        3.40%                             0.50%   \n\n  Mount Pleasant East Mount Pleasant West     New Toronto Newtonbrook East  \\\n0                  99                 104              18               50   \n1      No Designation      No Designation  No Designation   No Designation   \n2              16,775              29,658          11,463           16,097   \n3              15,982              28,593          10,900           16,423   \n4               5.00%               3.70%           5.20%           -2.00%   \n\n  Newtonbrook West         Niagara North Riverdale North St. James Town  \\\n0               36              82              68                   74   \n1   No Designation  No Designation  No Designation       No Designation   \n2           23,831          31,180          11,916               18,615   \n3           23,052          21,274          12,191               17,832   \n4            3.40%          46.60%          -2.30%                4.40%   \n\n  Oakridge Oakwood Village O'Connor-Parkview   Old East York  \\\n0      121             107                54              58   \n1      NIA  No Designation    No Designation  No Designation   \n2   13,845          21,210            18,675           9,233   \n3   13,497          21,073            18,316           9,118   \n4    2.60%           0.70%             2.00%           1.30%   \n\n  Palmerston-Little Italy Parkwoods-Donalda Pelmo Park-Humberlea  \\\n0                      80                45                   23   \n1          No Designation    No Designation       No Designation   \n2                  13,826            34,805               10,722   \n3                  13,746            34,617                8,710   \n4                   0.60%             0.50%               23.10%   \n\n  Playter Estates-Danforth   Pleasant View Princess-Rosethorn Regent Park  \\\n0                       67              46                 10          72   \n1           No Designation  No Designation     No Designation         NIA   \n2                    7,804          15,818             11,051      10,803   \n3                    7,653          16,144             11,197      10,007   \n4                    2.00%          -2.00%             -1.30%       8.00%   \n\n  Rexdale-Kipling Rockcliffe-Smythe    Roncesvalles Rosedale-Moore Park  \\\n0               4               111              86                  98   \n1  No Designation               NIA  No Designation      No Designation   \n2          10,529            22,246          14,974              20,923   \n3          10,488            22,267          15,050              20,631   \n4           0.40%            -0.10%          -0.50%               1.40%   \n\n            Rouge Runnymede-Bloor West Village  Rustic Scarborough Village  \\\n0             131                           89      28                 139   \n1  No Designation               No Designation     NIA                 NIA   \n2          46,496                       10,070   9,941              16,724   \n3          45,912                        9,632   9,951              16,609   \n4           1.30%                        4.50%  -0.10%               0.70%   \n\n  South Parkdale South Riverdale St.Andrew-Windfields                 Steeles  \\\n0             85              70                   40                     116   \n1            NIA  No Designation       No Designation  Emerging Neighbourhood   \n2         21,849          27,876               17,812                  24,623   \n3         21,251          25,642               17,958                  25,017   \n4          2.80%           8.70%               -0.80%                  -1.60%   \n\n  Stonegate-Queensway Tam O'Shanter-Sullivan Taylor-Massey     The Beaches  \\\n0                  16                    118            61              63   \n1      No Designation         No Designation           NIA  No Designation   \n2              25,051                 27,446        15,683          21,567   \n3              24,691                 27,398        15,594          21,130   \n4               1.50%                  0.20%         0.60%           2.10%   \n\n  Thistletown-Beaumond Heights Thorncliffe Park Trinity-Bellwoods  \\\n0                            3               55                81   \n1                          NIA              NIA    No Designation   \n2                       10,360           21,108            16,556   \n3                       10,138           19,225            16,802   \n4                        2.20%            9.80%            -1.50%   \n\n       University Victoria Village Waterfront Communities-The Island  \\\n0              79               43                                77   \n1  No Designation              NIA                    No Designation   \n2           7,607           17,510                            65,913   \n3           7,782           17,182                            43,361   \n4          -2.20%            1.90%                            52.00%   \n\n  West Hill West Humber-Clairville     Westminster-Branson  Weston  \\\n0       136                      1                      35     113   \n1       NIA         No Designation  Emerging Neighbourhood     NIA   \n2    27,392                 33,312                  26,274  17,992   \n3    26,547                 34,100                  25,446  18,170   \n4     3.20%                 -2.30%                   3.30%  -1.00%   \n\n  Weston-Pelham Park Wexford/Maryvale Willowdale East Willowdale West  \\\n0                 91              119              51              37   \n1                NIA   No Designation  No Designation  No Designation   \n2             11,098           27,917          50,434          16,936   \n3             12,010           27,018          45,041          15,004   \n4             -7.60%            3.30%          12.00%          12.90%   \n\n  Willowridge-Martingrove-Richview  Woburn Woodbine Corridor Woodbine-Lumsden  \\\n0                                7     137                64               60   \n1                   No Designation     NIA    No Designation   No Designation   \n2                           22,156  53,485            12,541            7,865   \n3                           21,343  53,350            11,703            7,826   \n4                            3.80%   0.30%             7.20%            0.50%   \n\n         Wychwood  Yonge-Eglinton  Yonge-St.Clair York University Heights  \\\n0              94             100              97                      27   \n1  No Designation  No Designation  No Designation                     NIA   \n2          14,349          11,817          12,528                  27,593   \n3          13,986          10,578          11,652                  27,713   \n4           2.60%          11.70%           7.50%                  -0.40%   \n\n       Yorkdale-Glen Park  \n0                      31  \n1  Emerging Neighbourhood  \n2                  14,804  \n3                  14,687  \n4                   0.80%  "
                    }, 
                    "output_type": "execute_result"
                }
            ], 
            "source": "# City of Toronto Open Data Catalogue - City of Toronto Neighborhoods Profile Census CSV File\n\npath = 'https://www.toronto.ca/ext/open_data/catalog/data_set_files/2016_neighbourhood_profiles.csv'\ndf = pd.read_csv(path,encoding='latin1')\ndf.head()"
        }, 
        {
            "source": "After reviewing the data, create a list of neighbordhoods in Toronto", 
            "cell_type": "markdown", 
            "metadata": {}
        }, 
        {
            "execution_count": 34, 
            "cell_type": "code", 
            "metadata": {}, 
            "outputs": [
                {
                    "output_type": "stream", 
                    "name": "stdout", 
                    "text": "['Agincourt North', 'Agincourt South-Malvern West', 'Alderwood', 'Annex', 'Banbury-Don Mills', 'Bathurst Manor', 'Bay Street Corridor', 'Bayview Village', 'Bayview Woods-Steeles', 'Bedford Park-Nortown', 'Beechborough-Greenbrook', 'Bendale', 'Birchcliffe-Cliffside', 'Black Creek', 'Blake-Jones', 'Briar Hill-Belgravia', 'Bridle Path-Sunnybrook-York Mills', 'Broadview North', 'Brookhaven-Amesbury', 'Cabbagetown-South St. James Town', 'Caledonia-Fairbank', 'Casa Loma', 'Centennial Scarborough', 'Church-Yonge Corridor', 'Clairlea-Birchmount', 'Clanton Park', 'Cliffcrest', 'Corso Italia-Davenport', 'Danforth', 'Danforth East York', 'Don Valley Village', 'Dorset Park', 'Dovercourt-Wallace Emerson-Junction', 'Downsview-Roding-CFB', 'Dufferin Grove', 'East End-Danforth', 'Edenbridge-Humber Valley', 'Eglinton East', 'Elms-Old Rexdale', 'Englemount-Lawrence', 'Eringate-Centennial-West Deane', 'Etobicoke West Mall', 'Flemingdon Park', 'Forest Hill North', 'Forest Hill South', 'Glenfield-Jane Heights', 'Greenwood-Coxwell', 'Guildwood', 'Henry Farm', 'High Park North', 'High Park-Swansea', 'Highland Creek', 'Hillcrest Village', 'Humber Heights-Westmount', 'Humber Summit', 'Humbermede', 'Humewood-Cedarvale', 'Ionview', 'Islington-City Centre West', 'Junction Area', 'Keelesdale-Eglinton West', 'Kennedy Park', 'Kensington-Chinatown', 'Kingsview Village-The Westway', 'Kingsway South', 'Lambton Baby Point', \"L'Amoreaux\", 'Lansing-Westgate', 'Lawrence Park North', 'Lawrence Park South', 'Leaside-Bennington', 'Little Portugal', 'Long Branch', 'Malvern', 'Maple Leaf', 'Markland Wood', 'Milliken', 'Mimico (includes Humber Bay Shores)', 'Morningside', 'Moss Park', 'Mount Dennis', 'Mount Olive-Silverstone-Jamestown', 'Mount Pleasant East', 'Mount Pleasant West', 'New Toronto', 'Newtonbrook East', 'Newtonbrook West', 'Niagara', 'North Riverdale', 'North St. James Town', 'Oakridge', 'Oakwood Village', \"O'Connor-Parkview\", 'Old East York', 'Palmerston-Little Italy', 'Parkwoods-Donalda', 'Pelmo Park-Humberlea', 'Playter Estates-Danforth', 'Pleasant View', 'Princess-Rosethorn', 'Regent Park', 'Rexdale-Kipling', 'Rockcliffe-Smythe', 'Roncesvalles', 'Rosedale-Moore Park', 'Rouge', 'Runnymede-Bloor West Village', 'Rustic', 'Scarborough Village', 'South Parkdale', 'South Riverdale', 'St.Andrew-Windfields', 'Steeles', 'Stonegate-Queensway', \"Tam O'Shanter-Sullivan\", 'Taylor-Massey', 'The Beaches', 'Thistletown-Beaumond Heights', 'Thorncliffe Park', 'Trinity-Bellwoods', 'University', 'Victoria Village', 'Waterfront Communities-The Island', 'West Hill', 'West Humber-Clairville', 'Westminster-Branson', 'Weston', 'Weston-Pelham Park', 'Wexford/Maryvale', 'Willowdale East', 'Willowdale West', 'Willowridge-Martingrove-Richview', 'Woburn', 'Woodbine Corridor', 'Woodbine-Lumsden', 'Wychwood', 'Yonge-Eglinton', 'Yonge-St.Clair', 'York University Heights', 'Yorkdale-Glen Park']\n"
                }
            ], 
            "source": "neighborhoods = list(df.columns.values)\nneighborhoods = neighborhoods[5:]\nprint(neighborhoods)"
        }, 
        {
            "source": "Create dataframe idexing the neighborhoods of Toronto and populate the dataframe with necessary data", 
            "cell_type": "markdown", 
            "metadata": {}
        }, 
        {
            "execution_count": 35, 
            "cell_type": "code", 
            "metadata": {}, 
            "outputs": [
                {
                    "execution_count": 35, 
                    "metadata": {}, 
                    "data": {
                        "text/html": "<div>\n<style scoped>\n    .dataframe tbody tr th:only-of-type {\n        vertical-align: middle;\n    }\n\n    .dataframe tbody tr th {\n        vertical-align: top;\n    }\n\n    .dataframe thead th {\n        text-align: right;\n    }\n</style>\n<table border=\"1\" class=\"dataframe\">\n  <thead>\n    <tr style=\"text-align: right;\">\n      <th></th>\n      <th>index</th>\n      <th>population</th>\n      <th>male</th>\n      <th>female</th>\n      <th>higher_education</th>\n      <th>after_tax_income</th>\n      <th>m2</th>\n      <th>m3</th>\n      <th>m4</th>\n      <th>f2</th>\n      <th>f3</th>\n      <th>f4</th>\n    </tr>\n  </thead>\n  <tbody>\n    <tr>\n      <th>0</th>\n      <td>Agincourt North</td>\n      <td>29,113</td>\n      <td>NaN</td>\n      <td>NaN</td>\n      <td>4240</td>\n      <td>26,955</td>\n      <td>1015</td>\n      <td>835</td>\n      <td>680</td>\n      <td>1005</td>\n      <td>935</td>\n      <td>775</td>\n    </tr>\n    <tr>\n      <th>1</th>\n      <td>Agincourt South-Malvern West</td>\n      <td>23,757</td>\n      <td>NaN</td>\n      <td>NaN</td>\n      <td>4615</td>\n      <td>27,928</td>\n      <td>1045</td>\n      <td>820</td>\n      <td>625</td>\n      <td>975</td>\n      <td>835</td>\n      <td>715</td>\n    </tr>\n    <tr>\n      <th>2</th>\n      <td>Alderwood</td>\n      <td>12,054</td>\n      <td>NaN</td>\n      <td>NaN</td>\n      <td>1980</td>\n      <td>39,159</td>\n      <td>355</td>\n      <td>410</td>\n      <td>455</td>\n      <td>350</td>\n      <td>430</td>\n      <td>450</td>\n    </tr>\n    <tr>\n      <th>3</th>\n      <td>Annex</td>\n      <td>30,526</td>\n      <td>NaN</td>\n      <td>NaN</td>\n      <td>12640</td>\n      <td>80,138</td>\n      <td>2080</td>\n      <td>1610</td>\n      <td>1055</td>\n      <td>2265</td>\n      <td>1675</td>\n      <td>1040</td>\n    </tr>\n    <tr>\n      <th>4</th>\n      <td>Banbury-Don Mills</td>\n      <td>27,695</td>\n      <td>NaN</td>\n      <td>NaN</td>\n      <td>8060</td>\n      <td>51,874</td>\n      <td>645</td>\n      <td>735</td>\n      <td>735</td>\n      <td>745</td>\n      <td>860</td>\n      <td>895</td>\n    </tr>\n  </tbody>\n</table>\n</div>", 
                        "text/plain": "                          index population male female higher_education  \\\n0               Agincourt North     29,113  NaN    NaN             4240   \n1  Agincourt South-Malvern West     23,757  NaN    NaN             4615   \n2                     Alderwood     12,054  NaN    NaN             1980   \n3                         Annex     30,526  NaN    NaN            12640   \n4             Banbury-Don Mills     27,695  NaN    NaN             8060   \n\n  after_tax_income    m2    m3    m4    f2    f3    f4  \n0           26,955  1015   835   680  1005   935   775  \n1           27,928  1045   820   625   975   835   715  \n2           39,159   355   410   455   350   430   450  \n3           80,138  2080  1610  1055  2265  1675  1040  \n4           51,874   645   735   735   745   860   895  "
                    }, 
                    "output_type": "execute_result"
                }
            ], 
            "source": "toronto_hoods = pd.DataFrame(index=neighborhoods, columns=[\"population\", \"male\", \"female\",'higher_education', \"after_tax_income\"])\n\n# population = Population 2016 per Census Profile 98-316-X2016001\n# m2 = Male: 25 to 29 years\n# m3 = Male: 30 to 34 years\n# m4 = Male: 35 to 39 years\n# f2 = Female: 25 to 29 years\n# f3 = Female: 30 to 34 years\n# f4 = Female: 35 to 39 years\n# higher_education = Total - University certificate, diploma or degree at bachelor level or above for the population aged 25 to 64 years in private households - 25% sample data\n# after_tax_income =   After-tax income: Average amount ($)\n\nfor index, row in toronto_hoods.iterrows():\n    toronto_hoods.at[index, 'population'] = df[index][2]\n    toronto_hoods.at[index, 'm2'] = df[index][20]\n    toronto_hoods.at[index, 'm3'] = df[index][21]\n    toronto_hoods.at[index, 'm4'] = df[index][22]\n    toronto_hoods.at[index, 'f2'] = df[index][41]\n    toronto_hoods.at[index, 'f3'] = df[index][42]\n    toronto_hoods.at[index, 'f4'] = df[index][43]\n    toronto_hoods.at[index, 'higher_education'] = df[index][1723]\n    toronto_hoods.at[index, 'after_tax_income'] = df[index][2354]\ntoronto_hoods.reset_index(inplace=True)\ntoronto_hoods.head()"
        }, 
        {
            "execution_count": 36, 
            "cell_type": "code", 
            "metadata": {}, 
            "outputs": [
                {
                    "execution_count": 36, 
                    "metadata": {}, 
                    "data": {
                        "text/html": "<div>\n<style scoped>\n    .dataframe tbody tr th:only-of-type {\n        vertical-align: middle;\n    }\n\n    .dataframe tbody tr th {\n        vertical-align: top;\n    }\n\n    .dataframe thead th {\n        text-align: right;\n    }\n</style>\n<table border=\"1\" class=\"dataframe\">\n  <thead>\n    <tr style=\"text-align: right;\">\n      <th></th>\n      <th>neighborhood</th>\n      <th>population</th>\n      <th>male</th>\n      <th>female</th>\n      <th>higher_education</th>\n      <th>after_tax_income</th>\n      <th>m2</th>\n      <th>m3</th>\n      <th>m4</th>\n      <th>f2</th>\n      <th>f3</th>\n      <th>f4</th>\n    </tr>\n  </thead>\n  <tbody>\n    <tr>\n      <th>0</th>\n      <td>Agincourt North</td>\n      <td>29113</td>\n      <td>2530</td>\n      <td>2715</td>\n      <td>4240</td>\n      <td>26955</td>\n      <td>1015</td>\n      <td>835</td>\n      <td>680</td>\n      <td>1005</td>\n      <td>935</td>\n      <td>775</td>\n    </tr>\n    <tr>\n      <th>1</th>\n      <td>Agincourt South-Malvern West</td>\n      <td>23757</td>\n      <td>2490</td>\n      <td>2525</td>\n      <td>4615</td>\n      <td>27928</td>\n      <td>1045</td>\n      <td>820</td>\n      <td>625</td>\n      <td>975</td>\n      <td>835</td>\n      <td>715</td>\n    </tr>\n    <tr>\n      <th>2</th>\n      <td>Alderwood</td>\n      <td>12054</td>\n      <td>1220</td>\n      <td>1230</td>\n      <td>1980</td>\n      <td>39159</td>\n      <td>355</td>\n      <td>410</td>\n      <td>455</td>\n      <td>350</td>\n      <td>430</td>\n      <td>450</td>\n    </tr>\n    <tr>\n      <th>3</th>\n      <td>Annex</td>\n      <td>30526</td>\n      <td>4745</td>\n      <td>4980</td>\n      <td>12640</td>\n      <td>80138</td>\n      <td>2080</td>\n      <td>1610</td>\n      <td>1055</td>\n      <td>2265</td>\n      <td>1675</td>\n      <td>1040</td>\n    </tr>\n    <tr>\n      <th>4</th>\n      <td>Banbury-Don Mills</td>\n      <td>27695</td>\n      <td>2115</td>\n      <td>2500</td>\n      <td>8060</td>\n      <td>51874</td>\n      <td>645</td>\n      <td>735</td>\n      <td>735</td>\n      <td>745</td>\n      <td>860</td>\n      <td>895</td>\n    </tr>\n  </tbody>\n</table>\n</div>", 
                        "text/plain": "                   neighborhood  population  male  female  higher_education  \\\n0               Agincourt North       29113  2530    2715              4240   \n1  Agincourt South-Malvern West       23757  2490    2525              4615   \n2                     Alderwood       12054  1220    1230              1980   \n3                         Annex       30526  4745    4980             12640   \n4             Banbury-Don Mills       27695  2115    2500              8060   \n\n   after_tax_income    m2    m3    m4    f2    f3    f4  \n0             26955  1015   835   680  1005   935   775  \n1             27928  1045   820   625   975   835   715  \n2             39159   355   410   455   350   430   450  \n3             80138  2080  1610  1055  2265  1675  1040  \n4             51874   645   735   735   745   860   895  "
                    }, 
                    "output_type": "execute_result"
                }
            ], 
            "source": "toronto_hoods.columns = toronto_hoods.columns.str.replace('index', 'neighborhood')\ntoronto_hoods['population'] = toronto_hoods['population'].str.replace(',','').astype(int)\ntoronto_hoods['male'] = (toronto_hoods['m2'].astype(int) + toronto_hoods['m3'].astype(int) + toronto_hoods['m4'].astype(int))\ntoronto_hoods['female'] = (toronto_hoods['f2'].astype(int) + toronto_hoods['f3'].astype(int) + toronto_hoods['f4'].astype(int))\ntoronto_hoods['higher_education'] = toronto_hoods['higher_education'].astype(int)\ntoronto_hoods['after_tax_income'] = toronto_hoods['after_tax_income'].str.replace(',','').astype(int)\ntoronto_hoods.head()"
        }, 
        {
            "source": "Combine male age group demoographics and female age group demographics into male and female categories", 
            "cell_type": "markdown", 
            "metadata": {}
        }, 
        {
            "execution_count": 37, 
            "cell_type": "code", 
            "metadata": {}, 
            "outputs": [
                {
                    "execution_count": 37, 
                    "metadata": {}, 
                    "data": {
                        "text/html": "<div>\n<style scoped>\n    .dataframe tbody tr th:only-of-type {\n        vertical-align: middle;\n    }\n\n    .dataframe tbody tr th {\n        vertical-align: top;\n    }\n\n    .dataframe thead th {\n        text-align: right;\n    }\n</style>\n<table border=\"1\" class=\"dataframe\">\n  <thead>\n    <tr style=\"text-align: right;\">\n      <th></th>\n      <th>neighborhood</th>\n      <th>population</th>\n      <th>male</th>\n      <th>female</th>\n      <th>higher_education</th>\n      <th>after_tax_income</th>\n    </tr>\n  </thead>\n  <tbody>\n    <tr>\n      <th>0</th>\n      <td>Agincourt North</td>\n      <td>29113</td>\n      <td>2530</td>\n      <td>2715</td>\n      <td>4240</td>\n      <td>26955</td>\n    </tr>\n    <tr>\n      <th>1</th>\n      <td>Agincourt South-Malvern West</td>\n      <td>23757</td>\n      <td>2490</td>\n      <td>2525</td>\n      <td>4615</td>\n      <td>27928</td>\n    </tr>\n    <tr>\n      <th>2</th>\n      <td>Alderwood</td>\n      <td>12054</td>\n      <td>1220</td>\n      <td>1230</td>\n      <td>1980</td>\n      <td>39159</td>\n    </tr>\n    <tr>\n      <th>3</th>\n      <td>Annex</td>\n      <td>30526</td>\n      <td>4745</td>\n      <td>4980</td>\n      <td>12640</td>\n      <td>80138</td>\n    </tr>\n    <tr>\n      <th>4</th>\n      <td>Banbury-Don Mills</td>\n      <td>27695</td>\n      <td>2115</td>\n      <td>2500</td>\n      <td>8060</td>\n      <td>51874</td>\n    </tr>\n  </tbody>\n</table>\n</div>", 
                        "text/plain": "                   neighborhood  population  male  female  higher_education  \\\n0               Agincourt North       29113  2530    2715              4240   \n1  Agincourt South-Malvern West       23757  2490    2525              4615   \n2                     Alderwood       12054  1220    1230              1980   \n3                         Annex       30526  4745    4980             12640   \n4             Banbury-Don Mills       27695  2115    2500              8060   \n\n   after_tax_income  \n0             26955  \n1             27928  \n2             39159  \n3             80138  \n4             51874  "
                    }, 
                    "output_type": "execute_result"
                }
            ], 
            "source": "toronto_hoods = toronto_hoods.drop(['m2', 'm3', 'm4', 'f2', 'f3', 'f4'], axis=1)\ntoronto_hoods.head()"
        }, 
        {
            "source": "Web scrapping borough data from Wikipedia page via BeautifulSoup", 
            "cell_type": "markdown", 
            "metadata": {}
        }, 
        {
            "execution_count": 38, 
            "cell_type": "code", 
            "metadata": {}, 
            "outputs": [], 
            "source": "# Wikipedia for Toronto Neighborhood Borough Designation\nurl = requests.get('https://en.wikipedia.org/wiki/List_of_city-designated_neighbourhoods_in_Toronto').text\nsoup = BeautifulSoup(url,'lxml')"
        }, 
        {
            "execution_count": 39, 
            "cell_type": "code", 
            "metadata": {}, 
            "outputs": [
                {
                    "execution_count": 39, 
                    "metadata": {}, 
                    "data": {
                        "text/html": "<div>\n<style scoped>\n    .dataframe tbody tr th:only-of-type {\n        vertical-align: middle;\n    }\n\n    .dataframe tbody tr th {\n        vertical-align: top;\n    }\n\n    .dataframe thead th {\n        text-align: right;\n    }\n</style>\n<table border=\"1\" class=\"dataframe\">\n  <thead>\n    <tr style=\"text-align: right;\">\n      <th></th>\n      <th>neighborhood</th>\n      <th>borough</th>\n    </tr>\n  </thead>\n  <tbody>\n    <tr>\n      <th>0</th>\n      <td>Agincourt North</td>\n      <td>Scarborough</td>\n    </tr>\n    <tr>\n      <th>1</th>\n      <td>Agincourt South-Malvern West</td>\n      <td>Scarborough</td>\n    </tr>\n    <tr>\n      <th>2</th>\n      <td>Alderwood</td>\n      <td>Etobicoke</td>\n    </tr>\n    <tr>\n      <th>3</th>\n      <td>Annex</td>\n      <td>Old City of Toronto</td>\n    </tr>\n    <tr>\n      <th>4</th>\n      <td>Banbury-Don Mills</td>\n      <td>North York</td>\n    </tr>\n  </tbody>\n</table>\n</div>", 
                        "text/plain": "                   neighborhood              borough\n0               Agincourt North          Scarborough\n1  Agincourt South-Malvern West          Scarborough\n2                     Alderwood            Etobicoke\n3                         Annex  Old City of Toronto\n4             Banbury-Don Mills           North York"
                    }, 
                    "output_type": "execute_result"
                }
            ], 
            "source": "table_post = soup.find('table')\nfields = table_post.find_all('td')\n\nCDN_number = []\ncity_designated_area = []\nformer_city_borough = []\n\n\nfor i in range(0, len(fields), 5):\n    CDN_number.append(fields[i].text.strip())\n    city_designated_area.append(fields[i+1].text.strip())\n    former_city_borough.append(fields[i+2].text.strip())\n            \ndf_pc = pd.DataFrame(data=[CDN_number, city_designated_area, former_city_borough]).transpose()\ndf_pc.columns = ['CDN', 'neighborhood', 'borough']\ndf_pc = df_pc.drop(['CDN'], axis=1)\ndf_pc.reset_index()\ndf_pc.head()"
        }, 
        {
            "execution_count": 40, 
            "cell_type": "code", 
            "metadata": {}, 
            "outputs": [
                {
                    "execution_count": 40, 
                    "metadata": {}, 
                    "data": {
                        "text/html": "<div>\n<style scoped>\n    .dataframe tbody tr th:only-of-type {\n        vertical-align: middle;\n    }\n\n    .dataframe tbody tr th {\n        vertical-align: top;\n    }\n\n    .dataframe thead th {\n        text-align: right;\n    }\n</style>\n<table border=\"1\" class=\"dataframe\">\n  <thead>\n    <tr style=\"text-align: right;\">\n      <th></th>\n      <th>neighborhood</th>\n      <th>borough</th>\n      <th>population</th>\n      <th>male</th>\n      <th>female</th>\n      <th>higher_education</th>\n      <th>after_tax_income</th>\n    </tr>\n  </thead>\n  <tbody>\n    <tr>\n      <th>0</th>\n      <td>Agincourt North</td>\n      <td>Scarborough</td>\n      <td>29113</td>\n      <td>2530</td>\n      <td>2715</td>\n      <td>4240</td>\n      <td>26955</td>\n    </tr>\n    <tr>\n      <th>1</th>\n      <td>Agincourt South-Malvern West</td>\n      <td>Scarborough</td>\n      <td>23757</td>\n      <td>2490</td>\n      <td>2525</td>\n      <td>4615</td>\n      <td>27928</td>\n    </tr>\n    <tr>\n      <th>2</th>\n      <td>Alderwood</td>\n      <td>Etobicoke</td>\n      <td>12054</td>\n      <td>1220</td>\n      <td>1230</td>\n      <td>1980</td>\n      <td>39159</td>\n    </tr>\n    <tr>\n      <th>3</th>\n      <td>Annex</td>\n      <td>Old City of Toronto</td>\n      <td>30526</td>\n      <td>4745</td>\n      <td>4980</td>\n      <td>12640</td>\n      <td>80138</td>\n    </tr>\n    <tr>\n      <th>4</th>\n      <td>Banbury-Don Mills</td>\n      <td>North York</td>\n      <td>27695</td>\n      <td>2115</td>\n      <td>2500</td>\n      <td>8060</td>\n      <td>51874</td>\n    </tr>\n  </tbody>\n</table>\n</div>", 
                        "text/plain": "                   neighborhood              borough  population  male  \\\n0               Agincourt North          Scarborough       29113  2530   \n1  Agincourt South-Malvern West          Scarborough       23757  2490   \n2                     Alderwood            Etobicoke       12054  1220   \n3                         Annex  Old City of Toronto       30526  4745   \n4             Banbury-Don Mills           North York       27695  2115   \n\n   female  higher_education  after_tax_income  \n0    2715              4240             26955  \n1    2525              4615             27928  \n2    1230              1980             39159  \n3    4980             12640             80138  \n4    2500              8060             51874  "
                    }, 
                    "output_type": "execute_result"
                }
            ], 
            "source": "df_xy = pd.merge(df_pc, toronto_hoods, left_index=True, right_index=True, how='inner')\ndf_xy = df_xy.drop(['neighborhood_y'], axis=1)\ndf_xy = df_xy.rename(columns={'neighborhood_x':'neighborhood'})\ndf_xy.head()"
        }, 
        {
            "source": "Pull in the Toronto shape data file, create a dataframe, sort by AREA_NAME", 
            "cell_type": "markdown", 
            "metadata": {}
        }, 
        {
            "execution_count": 41, 
            "cell_type": "code", 
            "metadata": {}, 
            "outputs": [
                {
                    "execution_count": 41, 
                    "metadata": {}, 
                    "data": {
                        "text/html": "<div>\n<style scoped>\n    .dataframe tbody tr th:only-of-type {\n        vertical-align: middle;\n    }\n\n    .dataframe tbody tr th {\n        vertical-align: top;\n    }\n\n    .dataframe thead th {\n        text-align: right;\n    }\n</style>\n<table border=\"1\" class=\"dataframe\">\n  <thead>\n    <tr style=\"text-align: right;\">\n      <th></th>\n      <th>_id</th>\n      <th>AREA_ID</th>\n      <th>AREA_ATTR_ID</th>\n      <th>PARENT_AREA_ID</th>\n      <th>AREA_SHORT_CODE</th>\n      <th>AREA_LONG_CODE</th>\n      <th>AREA_NAME</th>\n      <th>AREA_DESC</th>\n      <th>X</th>\n      <th>Y</th>\n      <th>LONGITUDE</th>\n      <th>LATITUDE</th>\n      <th>OBJECTID</th>\n      <th>Shape__Area</th>\n      <th>Shape__Length</th>\n      <th>geometry</th>\n    </tr>\n  </thead>\n  <tbody>\n    <tr>\n      <th>74</th>\n      <td>1335</td>\n      <td>25886428</td>\n      <td>25926736</td>\n      <td>49885</td>\n      <td>129</td>\n      <td>129</td>\n      <td>Agincourt North (129)</td>\n      <td>Agincourt North (129)</td>\n      <td>NaN</td>\n      <td>NaN</td>\n      <td>-79.266712</td>\n      <td>43.805441</td>\n      <td>16492689</td>\n      <td>1.395145e+07</td>\n      <td>17159.740667</td>\n      <td>{u'type': u'Polygon', u'coordinates': (((-79.2...</td>\n    </tr>\n    <tr>\n      <th>75</th>\n      <td>1336</td>\n      <td>25886449</td>\n      <td>25926737</td>\n      <td>49885</td>\n      <td>128</td>\n      <td>128</td>\n      <td>Agincourt South-Malvern West (128)</td>\n      <td>Agincourt South-Malvern West (128)</td>\n      <td>NaN</td>\n      <td>NaN</td>\n      <td>-79.265612</td>\n      <td>43.788658</td>\n      <td>16492705</td>\n      <td>1.511736e+07</td>\n      <td>21320.849547</td>\n      <td>{u'type': u'Polygon', u'coordinates': (((-79.2...</td>\n    </tr>\n    <tr>\n      <th>76</th>\n      <td>1337</td>\n      <td>25886794</td>\n      <td>25926738</td>\n      <td>49885</td>\n      <td>20</td>\n      <td>20</td>\n      <td>Alderwood (20)</td>\n      <td>Alderwood (20)</td>\n      <td>NaN</td>\n      <td>NaN</td>\n      <td>-79.541611</td>\n      <td>43.604937</td>\n      <td>16492721</td>\n      <td>9.502180e+06</td>\n      <td>12667.013917</td>\n      <td>{u'type': u'Polygon', u'coordinates': (((-79.5...</td>\n    </tr>\n    <tr>\n      <th>77</th>\n      <td>1338</td>\n      <td>25886874</td>\n      <td>25926739</td>\n      <td>49885</td>\n      <td>95</td>\n      <td>95</td>\n      <td>Annex (95)</td>\n      <td>Annex (95)</td>\n      <td>NaN</td>\n      <td>NaN</td>\n      <td>-79.404001</td>\n      <td>43.671585</td>\n      <td>16492737</td>\n      <td>5.337192e+06</td>\n      <td>10513.883143</td>\n      <td>{u'type': u'Polygon', u'coordinates': (((-79.3...</td>\n    </tr>\n    <tr>\n      <th>78</th>\n      <td>1339</td>\n      <td>25886643</td>\n      <td>25926740</td>\n      <td>49885</td>\n      <td>42</td>\n      <td>42</td>\n      <td>Banbury-Don Mills (42)</td>\n      <td>Banbury-Don Mills (42)</td>\n      <td>NaN</td>\n      <td>NaN</td>\n      <td>-79.349718</td>\n      <td>43.737657</td>\n      <td>16492753</td>\n      <td>1.924897e+07</td>\n      <td>25141.572290</td>\n      <td>{u'type': u'Polygon', u'coordinates': (((-79.3...</td>\n    </tr>\n  </tbody>\n</table>\n</div>", 
                        "text/plain": "     _id   AREA_ID  AREA_ATTR_ID  PARENT_AREA_ID  AREA_SHORT_CODE  \\\n74  1335  25886428      25926736           49885              129   \n75  1336  25886449      25926737           49885              128   \n76  1337  25886794      25926738           49885               20   \n77  1338  25886874      25926739           49885               95   \n78  1339  25886643      25926740           49885               42   \n\n    AREA_LONG_CODE                           AREA_NAME  \\\n74             129               Agincourt North (129)   \n75             128  Agincourt South-Malvern West (128)   \n76              20                      Alderwood (20)   \n77              95                          Annex (95)   \n78              42              Banbury-Don Mills (42)   \n\n                             AREA_DESC   X   Y  LONGITUDE   LATITUDE  \\\n74               Agincourt North (129) NaN NaN -79.266712  43.805441   \n75  Agincourt South-Malvern West (128) NaN NaN -79.265612  43.788658   \n76                      Alderwood (20) NaN NaN -79.541611  43.604937   \n77                          Annex (95) NaN NaN -79.404001  43.671585   \n78              Banbury-Don Mills (42) NaN NaN -79.349718  43.737657   \n\n    OBJECTID   Shape__Area  Shape__Length  \\\n74  16492689  1.395145e+07   17159.740667   \n75  16492705  1.511736e+07   21320.849547   \n76  16492721  9.502180e+06   12667.013917   \n77  16492737  5.337192e+06   10513.883143   \n78  16492753  1.924897e+07   25141.572290   \n\n                                             geometry  \n74  {u'type': u'Polygon', u'coordinates': (((-79.2...  \n75  {u'type': u'Polygon', u'coordinates': (((-79.2...  \n76  {u'type': u'Polygon', u'coordinates': (((-79.5...  \n77  {u'type': u'Polygon', u'coordinates': (((-79.3...  \n78  {u'type': u'Polygon', u'coordinates': (((-79.3...  "
                    }, 
                    "output_type": "execute_result"
                }
            ], 
            "source": "path2 = 'https://ckan0.cf.opendata.inter.sandbox-toronto.ca/download_resource/1d02b0f0-d735-4469-8f71-ea6d96b319e4?format=csv&projection=4326'\ndf_2 = pd.read_csv(path2,encoding='latin1')\ndf_2.sort_values('AREA_NAME').head()"
        }, 
        {
            "source": "Remove unnessary data and sort our dataframe", 
            "cell_type": "markdown", 
            "metadata": {}
        }, 
        {
            "execution_count": 42, 
            "cell_type": "code", 
            "metadata": {}, 
            "outputs": [
                {
                    "execution_count": 42, 
                    "metadata": {}, 
                    "data": {
                        "text/html": "<div>\n<style scoped>\n    .dataframe tbody tr th:only-of-type {\n        vertical-align: middle;\n    }\n\n    .dataframe tbody tr th {\n        vertical-align: top;\n    }\n\n    .dataframe thead th {\n        text-align: right;\n    }\n</style>\n<table border=\"1\" class=\"dataframe\">\n  <thead>\n    <tr style=\"text-align: right;\">\n      <th></th>\n      <th>neighborhood</th>\n      <th>area_desc</th>\n      <th>longitude</th>\n      <th>latitude</th>\n    </tr>\n  </thead>\n  <tbody>\n    <tr>\n      <th>0</th>\n      <td>Agincourt North</td>\n      <td>Agincourt North (129)</td>\n      <td>-79.266712</td>\n      <td>43.805441</td>\n    </tr>\n    <tr>\n      <th>1</th>\n      <td>Agincourt South-Malvern West</td>\n      <td>Agincourt South-Malvern West (128)</td>\n      <td>-79.265612</td>\n      <td>43.788658</td>\n    </tr>\n    <tr>\n      <th>2</th>\n      <td>Alderwood</td>\n      <td>Alderwood (20)</td>\n      <td>-79.541611</td>\n      <td>43.604937</td>\n    </tr>\n    <tr>\n      <th>3</th>\n      <td>Annex</td>\n      <td>Annex (95)</td>\n      <td>-79.404001</td>\n      <td>43.671585</td>\n    </tr>\n    <tr>\n      <th>4</th>\n      <td>Banbury-Don Mills</td>\n      <td>Banbury-Don Mills (42)</td>\n      <td>-79.349718</td>\n      <td>43.737657</td>\n    </tr>\n  </tbody>\n</table>\n</div>", 
                        "text/plain": "                    neighborhood                           area_desc  \\\n0               Agincourt North                Agincourt North (129)   \n1  Agincourt South-Malvern West   Agincourt South-Malvern West (128)   \n2                     Alderwood                       Alderwood (20)   \n3                         Annex                           Annex (95)   \n4             Banbury-Don Mills               Banbury-Don Mills (42)   \n\n   longitude   latitude  \n0 -79.266712  43.805441  \n1 -79.265612  43.788658  \n2 -79.541611  43.604937  \n3 -79.404001  43.671585  \n4 -79.349718  43.737657  "
                    }, 
                    "output_type": "execute_result"
                }
            ], 
            "source": "\ndf_3 = df_2.filter(['AREA_NAME','AREA_DESC','LONGITUDE','LATITUDE'], axis=1)\ndf_3['AREA_NAME'] = df_3['AREA_NAME'].str.replace('\\d+','').str.replace(\"(\",\"\").str.replace(')', '')\ndf_3.columns = map(str.lower, df_3.columns)\ndf_3.columns = df_3.columns.str.replace('area_name', 'neighborhood')\ndf_3 = df_3.sort_values(by=['neighborhood'])\ndf_3 = df_3.reset_index()\ndf_3 = df_3.drop(['index'], axis=1)\ndf_3.head()"
        }, 
        {
            "source": "Merge the two dataframes together to get a working dataframe", 
            "cell_type": "markdown", 
            "metadata": {}
        }, 
        {
            "execution_count": 43, 
            "cell_type": "code", 
            "metadata": {}, 
            "outputs": [
                {
                    "execution_count": 43, 
                    "metadata": {}, 
                    "data": {
                        "text/html": "<div>\n<style scoped>\n    .dataframe tbody tr th:only-of-type {\n        vertical-align: middle;\n    }\n\n    .dataframe tbody tr th {\n        vertical-align: top;\n    }\n\n    .dataframe thead th {\n        text-align: right;\n    }\n</style>\n<table border=\"1\" class=\"dataframe\">\n  <thead>\n    <tr style=\"text-align: right;\">\n      <th></th>\n      <th>borough</th>\n      <th>neighborhood</th>\n      <th>longitude</th>\n      <th>latitude</th>\n      <th>population</th>\n      <th>male</th>\n      <th>female</th>\n      <th>higher_education</th>\n      <th>after_tax_income</th>\n    </tr>\n  </thead>\n  <tbody>\n    <tr>\n      <th>0</th>\n      <td>Scarborough</td>\n      <td>Agincourt North (129)</td>\n      <td>-79.266712</td>\n      <td>43.805441</td>\n      <td>29113</td>\n      <td>2530</td>\n      <td>2715</td>\n      <td>4240</td>\n      <td>26955</td>\n    </tr>\n    <tr>\n      <th>1</th>\n      <td>Scarborough</td>\n      <td>Agincourt South-Malvern West (128)</td>\n      <td>-79.265612</td>\n      <td>43.788658</td>\n      <td>23757</td>\n      <td>2490</td>\n      <td>2525</td>\n      <td>4615</td>\n      <td>27928</td>\n    </tr>\n    <tr>\n      <th>2</th>\n      <td>Etobicoke</td>\n      <td>Alderwood (20)</td>\n      <td>-79.541611</td>\n      <td>43.604937</td>\n      <td>12054</td>\n      <td>1220</td>\n      <td>1230</td>\n      <td>1980</td>\n      <td>39159</td>\n    </tr>\n    <tr>\n      <th>3</th>\n      <td>Old City of Toronto</td>\n      <td>Annex (95)</td>\n      <td>-79.404001</td>\n      <td>43.671585</td>\n      <td>30526</td>\n      <td>4745</td>\n      <td>4980</td>\n      <td>12640</td>\n      <td>80138</td>\n    </tr>\n    <tr>\n      <th>4</th>\n      <td>North York</td>\n      <td>Banbury-Don Mills (42)</td>\n      <td>-79.349718</td>\n      <td>43.737657</td>\n      <td>27695</td>\n      <td>2115</td>\n      <td>2500</td>\n      <td>8060</td>\n      <td>51874</td>\n    </tr>\n  </tbody>\n</table>\n</div>", 
                        "text/plain": "               borough                        neighborhood  longitude  \\\n0          Scarborough               Agincourt North (129) -79.266712   \n1          Scarborough  Agincourt South-Malvern West (128) -79.265612   \n2            Etobicoke                      Alderwood (20) -79.541611   \n3  Old City of Toronto                          Annex (95) -79.404001   \n4           North York              Banbury-Don Mills (42) -79.349718   \n\n    latitude  population  male  female  higher_education  after_tax_income  \n0  43.805441       29113  2530    2715              4240             26955  \n1  43.788658       23757  2490    2525              4615             27928  \n2  43.604937       12054  1220    1230              1980             39159  \n3  43.671585       30526  4745    4980             12640             80138  \n4  43.737657       27695  2115    2500              8060             51874  "
                    }, 
                    "output_type": "execute_result"
                }
            ], 
            "source": "df_pos = pd.merge(df_3, df_xy, left_index=True, right_index=True, how='inner')\ndf_pos = df_pos.drop(['neighborhood_y'], axis=1)\ndf_pos.columns = df_pos.columns.str.replace('neighborhood_x', 'neighborhood')\ndf_pos = df_pos[['borough','neighborhood','area_desc', 'longitude','latitude','population', 'male', 'female', 'higher_education', 'after_tax_income']]\ndf_pos = df_pos.drop(['neighborhood'], axis=1)\ndf_pos.columns = df_pos.columns.str.replace('area_desc', 'neighborhood') \ndf_pos.head()"
        }, 
        {
            "source": "Calculate medians for Toronto neighborhoods to assist in creating the scoring system", 
            "cell_type": "markdown", 
            "metadata": {}
        }, 
        {
            "execution_count": 44, 
            "cell_type": "code", 
            "metadata": {}, 
            "outputs": [
                {
                    "output_type": "stream", 
                    "name": "stdout", 
                    "text": "Median Population: 16749.5\nMedian Male:  1800.0\nMedian Female:  1952.5\nMedian Higher Education:  4122.5\nMedian After Tax Income:  36538.5\n"
                }
            ], 
            "source": "pop_med = df_pos['population'].median()\nmale_med = df_pos['male'].median()\nfemale_med = df_pos['female'].median()\nedu_med = df_pos['higher_education'].median()\nincome_med = df_pos['after_tax_income'].median()\n\nprint('Median Population:',pop_med)\nprint('Median Male: ',male_med)\nprint('Median Female: ',female_med)\nprint('Median Higher Education: ',edu_med)\nprint('Median After Tax Income: ',income_med)"
        }, 
        {
            "source": "Calculate Neighboorhood Scores based off Toronto neighboorhood medians\n   Scores are calulated based on the importance of each category established by the investor group", 
            "cell_type": "markdown", 
            "metadata": {}
        }, 
        {
            "execution_count": 45, 
            "cell_type": "code", 
            "metadata": {}, 
            "outputs": [
                {
                    "execution_count": 45, 
                    "metadata": {}, 
                    "data": {
                        "text/html": "<div>\n<style scoped>\n    .dataframe tbody tr th:only-of-type {\n        vertical-align: middle;\n    }\n\n    .dataframe tbody tr th {\n        vertical-align: top;\n    }\n\n    .dataframe thead th {\n        text-align: right;\n    }\n</style>\n<table border=\"1\" class=\"dataframe\">\n  <thead>\n    <tr style=\"text-align: right;\">\n      <th></th>\n      <th>neighborhood</th>\n      <th>pop_score</th>\n      <th>male_score</th>\n      <th>female_score</th>\n      <th>edu_score</th>\n      <th>income_score</th>\n      <th>total_score</th>\n    </tr>\n  </thead>\n  <tbody>\n    <tr>\n      <th>0</th>\n      <td>Agincourt North (129)</td>\n      <td>0.260721</td>\n      <td>0.351389</td>\n      <td>0.347631</td>\n      <td>0.154275</td>\n      <td>0.147543</td>\n      <td>1.26</td>\n    </tr>\n    <tr>\n      <th>1</th>\n      <td>Agincourt South-Malvern West (128)</td>\n      <td>0.212756</td>\n      <td>0.345833</td>\n      <td>0.323303</td>\n      <td>0.167920</td>\n      <td>0.152869</td>\n      <td>1.20</td>\n    </tr>\n    <tr>\n      <th>2</th>\n      <td>Alderwood (20)</td>\n      <td>0.107949</td>\n      <td>0.169444</td>\n      <td>0.157490</td>\n      <td>0.072044</td>\n      <td>0.214344</td>\n      <td>0.72</td>\n    </tr>\n    <tr>\n      <th>3</th>\n      <td>Annex (95)</td>\n      <td>0.273375</td>\n      <td>0.659028</td>\n      <td>0.637644</td>\n      <td>0.459915</td>\n      <td>0.438650</td>\n      <td>2.47</td>\n    </tr>\n    <tr>\n      <th>4</th>\n      <td>Banbury-Don Mills (42)</td>\n      <td>0.248022</td>\n      <td>0.293750</td>\n      <td>0.320102</td>\n      <td>0.293269</td>\n      <td>0.283942</td>\n      <td>1.44</td>\n    </tr>\n  </tbody>\n</table>\n</div>", 
                        "text/plain": "                         neighborhood  pop_score  male_score  female_score  \\\n0               Agincourt North (129)   0.260721    0.351389      0.347631   \n1  Agincourt South-Malvern West (128)   0.212756    0.345833      0.323303   \n2                      Alderwood (20)   0.107949    0.169444      0.157490   \n3                          Annex (95)   0.273375    0.659028      0.637644   \n4              Banbury-Don Mills (42)   0.248022    0.293750      0.320102   \n\n   edu_score  income_score  total_score  \n0   0.154275      0.147543         1.26  \n1   0.167920      0.152869         1.20  \n2   0.072044      0.214344         0.72  \n3   0.459915      0.438650         2.47  \n4   0.293269      0.283942         1.44  "
                    }, 
                    "output_type": "execute_result"
                }
            ], 
            "source": "df_score = pd.DataFrame(columns=[\"neighborhood\",\"pop_score\", \"male_score\", \"female_score\", \"edu_score\", \"income_score\", \"total_score\"])\ndf_score['neighborhood'] = df_pos['neighborhood']\n\n# Each score category was derived by taking the value of the category, dividing by the median of said category, \n# and multiplying value by the importance factor given by the investors. \n\npop_score = [] # 15% importance\nfor x in df_pos['population']:\n  if x / pop_med >0:\n    pop_score.append((x / pop_med)*.15)\n  else:\n    pop_score.append(0)\ndf_score['pop_score'] = pop_score\n\nmale_score = [] # 25% importance\nfor z in df_pos['male']:\n  if z / male_med >0:\n    male_score.append((z / male_med)*.25)\n  else:\n    male_score.append(0)\ndf_score['male_score'] = male_score\n\nfemale_score = [] # 25% importance\nfor z in df_pos['female']:\n  if z / female_med >0:\n    female_score.append((z / female_med)*.25)\n  else:\n    female_score.append(0)\ndf_score['female_score'] = female_score\n\nedu_score = [] # 15% importance\nfor z in df_pos['higher_education']:\n  if z / edu_med >0:\n    edu_score.append((z / edu_med)*.15)\n  else:\n    edu_score.append(0)\ndf_score['edu_score'] = edu_score\n\nincome_score = [] # 20% importance\nfor z in df_pos['after_tax_income']:\n  if z / income_med >0:\n    income_score.append((z / income_med)*.2)\n  else:\n    income_score.append(0)\ndf_score['income_score'] = income_score\n\n# Add each category to get overall neighborhood score\ndf_score['total_score'] = round(df_score.iloc[:,-7:].sum(axis=1),2)\n\ndf_score.head()"
        }, 
        {
            "source": "Merge Into full Toronto neighborhoods working dataframe and drop unnecessary data", 
            "cell_type": "markdown", 
            "metadata": {}
        }, 
        {
            "execution_count": 46, 
            "cell_type": "code", 
            "metadata": {}, 
            "outputs": [
                {
                    "execution_count": 46, 
                    "metadata": {}, 
                    "data": {
                        "text/html": "<div>\n<style scoped>\n    .dataframe tbody tr th:only-of-type {\n        vertical-align: middle;\n    }\n\n    .dataframe tbody tr th {\n        vertical-align: top;\n    }\n\n    .dataframe thead th {\n        text-align: right;\n    }\n</style>\n<table border=\"1\" class=\"dataframe\">\n  <thead>\n    <tr style=\"text-align: right;\">\n      <th></th>\n      <th>borough</th>\n      <th>neighborhood</th>\n      <th>longitude</th>\n      <th>latitude</th>\n      <th>pop_score</th>\n      <th>male_score</th>\n      <th>female_score</th>\n      <th>edu_score</th>\n      <th>income_score</th>\n      <th>total_score</th>\n    </tr>\n  </thead>\n  <tbody>\n    <tr>\n      <th>0</th>\n      <td>Scarborough</td>\n      <td>Agincourt North (129)</td>\n      <td>-79.266712</td>\n      <td>43.805441</td>\n      <td>0.260721</td>\n      <td>0.351389</td>\n      <td>0.347631</td>\n      <td>0.154275</td>\n      <td>0.147543</td>\n      <td>1.26</td>\n    </tr>\n    <tr>\n      <th>1</th>\n      <td>Scarborough</td>\n      <td>Agincourt South-Malvern West (128)</td>\n      <td>-79.265612</td>\n      <td>43.788658</td>\n      <td>0.212756</td>\n      <td>0.345833</td>\n      <td>0.323303</td>\n      <td>0.167920</td>\n      <td>0.152869</td>\n      <td>1.20</td>\n    </tr>\n    <tr>\n      <th>2</th>\n      <td>Etobicoke</td>\n      <td>Alderwood (20)</td>\n      <td>-79.541611</td>\n      <td>43.604937</td>\n      <td>0.107949</td>\n      <td>0.169444</td>\n      <td>0.157490</td>\n      <td>0.072044</td>\n      <td>0.214344</td>\n      <td>0.72</td>\n    </tr>\n    <tr>\n      <th>3</th>\n      <td>Old City of Toronto</td>\n      <td>Annex (95)</td>\n      <td>-79.404001</td>\n      <td>43.671585</td>\n      <td>0.273375</td>\n      <td>0.659028</td>\n      <td>0.637644</td>\n      <td>0.459915</td>\n      <td>0.438650</td>\n      <td>2.47</td>\n    </tr>\n    <tr>\n      <th>4</th>\n      <td>North York</td>\n      <td>Banbury-Don Mills (42)</td>\n      <td>-79.349718</td>\n      <td>43.737657</td>\n      <td>0.248022</td>\n      <td>0.293750</td>\n      <td>0.320102</td>\n      <td>0.293269</td>\n      <td>0.283942</td>\n      <td>1.44</td>\n    </tr>\n  </tbody>\n</table>\n</div>", 
                        "text/plain": "               borough                        neighborhood  longitude  \\\n0          Scarborough               Agincourt North (129) -79.266712   \n1          Scarborough  Agincourt South-Malvern West (128) -79.265612   \n2            Etobicoke                      Alderwood (20) -79.541611   \n3  Old City of Toronto                          Annex (95) -79.404001   \n4           North York              Banbury-Don Mills (42) -79.349718   \n\n    latitude  pop_score  male_score  female_score  edu_score  income_score  \\\n0  43.805441   0.260721    0.351389      0.347631   0.154275      0.147543   \n1  43.788658   0.212756    0.345833      0.323303   0.167920      0.152869   \n2  43.604937   0.107949    0.169444      0.157490   0.072044      0.214344   \n3  43.671585   0.273375    0.659028      0.637644   0.459915      0.438650   \n4  43.737657   0.248022    0.293750      0.320102   0.293269      0.283942   \n\n   total_score  \n0         1.26  \n1         1.20  \n2         0.72  \n3         2.47  \n4         1.44  "
                    }, 
                    "output_type": "execute_result"
                }
            ], 
            "source": "df_final = pd.merge(df_pos, df_score, left_index=True, right_index=True, how='inner')\ndf_final = df_final.drop(['neighborhood_y'], axis=1)\ndf_final.columns = df_final.columns.str.replace('neighborhood_x', 'neighborhood')\ndf_final = df_final.drop(columns = ['population','male','female','higher_education','after_tax_income'])\ndf_final.head()"
        }, 
        {
            "source": "Create a map to evaluate neighborhood scores", 
            "cell_type": "markdown", 
            "metadata": {}
        }, 
        {
            "execution_count": 47, 
            "cell_type": "code", 
            "metadata": {}, 
            "outputs": [
                {
                    "output_type": "stream", 
                    "name": "stdout", 
                    "text": "GeoJSON file downloaded!\n"
                }
            ], 
            "source": "!wget --quiet https://ckan0.cf.opendata.inter.sandbox-toronto.ca/download_resource/1d02b0f0-d735-4469-8f71-ea6d96b319e4?format=geojson&projection=4326 \nprint('GeoJSON file downloaded!')"
        }, 
        {
            "execution_count": 48, 
            "cell_type": "code", 
            "metadata": {}, 
            "outputs": [], 
            "source": "toronto_geo = r'Neighbourhoods.geojson'\n\naddress = 'Toronto'\n\ngeolocator = Nominatim(user_agent=\"torcan_explorer\")\nlocation = geolocator.geocode(address)\nlatitude = location.latitude\nlongitude = location.longitude\n\nmap_toronto = folium.Map(location=[latitude, longitude], zoom_start=10.5, tiles = 'Mapbox Bright')"
        }, 
        {
            "execution_count": 49, 
            "cell_type": "code", 
            "metadata": {}, 
            "outputs": [
                {
                    "ename": "FileNotFoundError", 
                    "evalue": "[Errno 2] No such file or directory: 'Neighbourhoods.geojson'", 
                    "traceback": [
                        "\u001b[0;31m---------------------------------------------------------------------------\u001b[0m", 
                        "\u001b[0;31mFileNotFoundError\u001b[0m                         Traceback (most recent call last)", 
                        "\u001b[0;32m<ipython-input-49-1780485a618a>\u001b[0m in \u001b[0;36m<module>\u001b[0;34m()\u001b[0m\n\u001b[1;32m     17\u001b[0m     \u001b[0mline_opacity\u001b[0m\u001b[0;34m=\u001b[0m\u001b[0;36m0.5\u001b[0m\u001b[0;34m,\u001b[0m\u001b[0;34m\u001b[0m\u001b[0m\n\u001b[1;32m     18\u001b[0m     \u001b[0mlegend_name\u001b[0m\u001b[0;34m=\u001b[0m\u001b[0;34m'Toronto Neighborhood Scores'\u001b[0m\u001b[0;34m,\u001b[0m\u001b[0;34m\u001b[0m\u001b[0m\n\u001b[0;32m---> 19\u001b[0;31m     \u001b[0mreset\u001b[0m\u001b[0;34m=\u001b[0m\u001b[0;32mTrue\u001b[0m\u001b[0;34m\u001b[0m\u001b[0m\n\u001b[0m\u001b[1;32m     20\u001b[0m )\n\u001b[1;32m     21\u001b[0m \u001b[0;34m\u001b[0m\u001b[0m\n", 
                        "\u001b[0;32m/opt/conda/envs/DSX-Python35/lib/python3.5/site-packages/folium/folium.py\u001b[0m in \u001b[0;36mchoropleth\u001b[0;34m(self, geo_data, data, columns, key_on, threshold_scale, fill_color, fill_opacity, line_color, line_weight, line_opacity, name, legend_name, topojson, reset, smooth_factor, highlight)\u001b[0m\n\u001b[1;32m    325\u001b[0m                 \u001b[0mstyle_function\u001b[0m\u001b[0;34m=\u001b[0m\u001b[0mstyle_function\u001b[0m\u001b[0;34m,\u001b[0m\u001b[0;34m\u001b[0m\u001b[0m\n\u001b[1;32m    326\u001b[0m                 \u001b[0msmooth_factor\u001b[0m\u001b[0;34m=\u001b[0m\u001b[0msmooth_factor\u001b[0m\u001b[0;34m,\u001b[0m\u001b[0;34m\u001b[0m\u001b[0m\n\u001b[0;32m--> 327\u001b[0;31m                 highlight_function=highlight_function if highlight else None)\n\u001b[0m\u001b[1;32m    328\u001b[0m \u001b[0;34m\u001b[0m\u001b[0m\n\u001b[1;32m    329\u001b[0m         \u001b[0mself\u001b[0m\u001b[0;34m.\u001b[0m\u001b[0madd_child\u001b[0m\u001b[0;34m(\u001b[0m\u001b[0mgeo_json\u001b[0m\u001b[0;34m)\u001b[0m\u001b[0;34m\u001b[0m\u001b[0m\n", 
                        "\u001b[0;32m/opt/conda/envs/DSX-Python35/lib/python3.5/site-packages/folium/features.py\u001b[0m in \u001b[0;36m__init__\u001b[0;34m(self, data, style_function, name, overlay, control, smooth_factor, highlight_function)\u001b[0m\n\u001b[1;32m    479\u001b[0m                 \u001b[0mself\u001b[0m\u001b[0;34m.\u001b[0m\u001b[0mdata\u001b[0m \u001b[0;34m=\u001b[0m \u001b[0mjson\u001b[0m\u001b[0;34m.\u001b[0m\u001b[0mloads\u001b[0m\u001b[0;34m(\u001b[0m\u001b[0mdata\u001b[0m\u001b[0;34m)\u001b[0m\u001b[0;34m\u001b[0m\u001b[0m\n\u001b[1;32m    480\u001b[0m             \u001b[0;32melse\u001b[0m\u001b[0;34m:\u001b[0m  \u001b[0;31m# This is a filename\u001b[0m\u001b[0;34m\u001b[0m\u001b[0m\n\u001b[0;32m--> 481\u001b[0;31m                 \u001b[0;32mwith\u001b[0m \u001b[0mopen\u001b[0m\u001b[0;34m(\u001b[0m\u001b[0mdata\u001b[0m\u001b[0;34m)\u001b[0m \u001b[0;32mas\u001b[0m \u001b[0mf\u001b[0m\u001b[0;34m:\u001b[0m\u001b[0;34m\u001b[0m\u001b[0m\n\u001b[0m\u001b[1;32m    482\u001b[0m                     \u001b[0mself\u001b[0m\u001b[0;34m.\u001b[0m\u001b[0mdata\u001b[0m \u001b[0;34m=\u001b[0m \u001b[0mjson\u001b[0m\u001b[0;34m.\u001b[0m\u001b[0mloads\u001b[0m\u001b[0;34m(\u001b[0m\u001b[0mf\u001b[0m\u001b[0;34m.\u001b[0m\u001b[0mread\u001b[0m\u001b[0;34m(\u001b[0m\u001b[0;34m)\u001b[0m\u001b[0;34m)\u001b[0m\u001b[0;34m\u001b[0m\u001b[0m\n\u001b[1;32m    483\u001b[0m         \u001b[0;32melif\u001b[0m \u001b[0mdata\u001b[0m\u001b[0;34m.\u001b[0m\u001b[0m__class__\u001b[0m\u001b[0;34m.\u001b[0m\u001b[0m__name__\u001b[0m \u001b[0;32min\u001b[0m \u001b[0;34m[\u001b[0m\u001b[0;34m'GeoDataFrame'\u001b[0m\u001b[0;34m,\u001b[0m \u001b[0;34m'GeoSeries'\u001b[0m\u001b[0;34m]\u001b[0m\u001b[0;34m:\u001b[0m\u001b[0;34m\u001b[0m\u001b[0m\n", 
                        "\u001b[0;31mFileNotFoundError\u001b[0m: [Errno 2] No such file or directory: 'Neighbourhoods.geojson'"
                    ], 
                    "output_type": "error"
                }
            ], 
            "source": "# create a numpy array of length 5 and has linear spacing from the minium total score to the maximum total score\nthreshold_scale = np.linspace(df_final['total_score'].min(),\n                              df_final['total_score'].max(),\n                              5, dtype=float)\nthreshold_scale = threshold_scale.tolist() # change the numpy array to a list\nthreshold_scale[-1] = threshold_scale[-1] + 1 # make sure that the last value of the list is greater than the maximum score\n\n# let Folium determine the scale.\nmap_toronto.choropleth(\n    geo_data=toronto_geo,\n    data=df_final,\n    columns=['neighborhood', 'total_score'],\n    key_on='feature.properties.AREA_NAME',\n    threshold_scale=threshold_scale,\n    fill_color='Blues', \n    fill_opacity=0.8, \n    line_opacity=0.5,\n    legend_name='Toronto Neighborhood Scores',\n    reset=True\n)\n\nfor lat, lng, neighborhood, total_score in zip(df_final['latitude'], df_final['longitude'], df_final['neighborhood'], df_final['total_score']):\n    label = '{}, Total Score: {}'.format(neighborhood, total_score)\n    label = folium.Popup(label, parse_html=True)\n    folium.CircleMarker(\n        [lat, lng],\n        radius=1,\n        popup=label,\n        color='#071521',\n        fill=False,\n        fill_color='#071521',\n        fill_opacity=0.1,\n        parse_html=False).add_to(map_toronto) \n    \n    map_toronto"
        }, 
        {
            "source": "Create dataframe to review the top 15 of the neighborhood scores", 
            "cell_type": "markdown", 
            "metadata": {}
        }, 
        {
            "execution_count": 50, 
            "cell_type": "code", 
            "metadata": {}, 
            "outputs": [
                {
                    "execution_count": 50, 
                    "metadata": {}, 
                    "data": {
                        "text/html": "<div>\n<style scoped>\n    .dataframe tbody tr th:only-of-type {\n        vertical-align: middle;\n    }\n\n    .dataframe tbody tr th {\n        vertical-align: top;\n    }\n\n    .dataframe thead th {\n        text-align: right;\n    }\n</style>\n<table border=\"1\" class=\"dataframe\">\n  <thead>\n    <tr style=\"text-align: right;\">\n      <th></th>\n      <th>borough</th>\n      <th>neighborhood</th>\n      <th>longitude</th>\n      <th>latitude</th>\n      <th>pop_score</th>\n      <th>male_score</th>\n      <th>female_score</th>\n      <th>edu_score</th>\n      <th>income_score</th>\n      <th>total_score</th>\n    </tr>\n  </thead>\n  <tbody>\n    <tr>\n      <th>0</th>\n      <td>Old City of Toronto</td>\n      <td>Waterfront Communities-The Island (77)</td>\n      <td>-79.377202</td>\n      <td>43.633880</td>\n      <td>0.590283</td>\n      <td>2.525000</td>\n      <td>2.151729</td>\n      <td>1.298059</td>\n      <td>0.297177</td>\n      <td>6.86</td>\n    </tr>\n    <tr>\n      <th>1</th>\n      <td>North York</td>\n      <td>Niagara (82)</td>\n      <td>-79.412420</td>\n      <td>43.636681</td>\n      <td>0.279232</td>\n      <td>1.230556</td>\n      <td>1.142125</td>\n      <td>0.573257</td>\n      <td>0.299974</td>\n      <td>3.53</td>\n    </tr>\n    <tr>\n      <th>2</th>\n      <td>North York</td>\n      <td>Willowdale East (51)</td>\n      <td>-79.401484</td>\n      <td>43.770602</td>\n      <td>0.451661</td>\n      <td>1.027083</td>\n      <td>1.013444</td>\n      <td>0.771195</td>\n      <td>0.201103</td>\n      <td>3.46</td>\n    </tr>\n    <tr>\n      <th>3</th>\n      <td>Old City of Toronto</td>\n      <td>Church-Yonge Corridor (75)</td>\n      <td>-79.379017</td>\n      <td>43.659649</td>\n      <td>0.280665</td>\n      <td>0.961806</td>\n      <td>0.748399</td>\n      <td>0.500849</td>\n      <td>0.235582</td>\n      <td>2.73</td>\n    </tr>\n    <tr>\n      <th>4</th>\n      <td>Scarborough</td>\n      <td>Islington-City Centre West (14)</td>\n      <td>-79.543317</td>\n      <td>43.633463</td>\n      <td>0.393728</td>\n      <td>0.796528</td>\n      <td>0.748399</td>\n      <td>0.455549</td>\n      <td>0.232905</td>\n      <td>2.63</td>\n    </tr>\n    <tr>\n      <th>5</th>\n      <td>Scarborough</td>\n      <td>Dovercourt-Wallace Emerson-Junction (93)</td>\n      <td>-79.438541</td>\n      <td>43.665677</td>\n      <td>0.327995</td>\n      <td>0.831944</td>\n      <td>0.781690</td>\n      <td>0.352213</td>\n      <td>0.184884</td>\n      <td>2.48</td>\n    </tr>\n    <tr>\n      <th>6</th>\n      <td>Old City of Toronto</td>\n      <td>Mount Pleasant West (104)</td>\n      <td>-79.393360</td>\n      <td>43.704435</td>\n      <td>0.265602</td>\n      <td>0.743750</td>\n      <td>0.756722</td>\n      <td>0.462644</td>\n      <td>0.248729</td>\n      <td>2.48</td>\n    </tr>\n    <tr>\n      <th>7</th>\n      <td>Old City of Toronto</td>\n      <td>Annex (95)</td>\n      <td>-79.404001</td>\n      <td>43.671585</td>\n      <td>0.273375</td>\n      <td>0.659028</td>\n      <td>0.637644</td>\n      <td>0.459915</td>\n      <td>0.438650</td>\n      <td>2.47</td>\n    </tr>\n    <tr>\n      <th>8</th>\n      <td>Scarborough</td>\n      <td>Woburn (137)</td>\n      <td>-79.228586</td>\n      <td>43.766740</td>\n      <td>0.478984</td>\n      <td>0.739583</td>\n      <td>0.762484</td>\n      <td>0.318011</td>\n      <td>0.149656</td>\n      <td>2.45</td>\n    </tr>\n    <tr>\n      <th>9</th>\n      <td>Scarborough</td>\n      <td>Mimico (includes Humber Bay Shores) (17)</td>\n      <td>-79.500137</td>\n      <td>43.615924</td>\n      <td>0.304164</td>\n      <td>0.711806</td>\n      <td>0.659411</td>\n      <td>0.352577</td>\n      <td>0.240683</td>\n      <td>2.27</td>\n    </tr>\n    <tr>\n      <th>10</th>\n      <td>Old City of Toronto</td>\n      <td>Bay Street Corridor (76)</td>\n      <td>-79.385721</td>\n      <td>43.657511</td>\n      <td>0.231025</td>\n      <td>0.669444</td>\n      <td>0.628681</td>\n      <td>0.424257</td>\n      <td>0.237705</td>\n      <td>2.19</td>\n    </tr>\n    <tr>\n      <th>11</th>\n      <td>Old City of Toronto</td>\n      <td>Rouge (131)</td>\n      <td>-79.186343</td>\n      <td>43.821201</td>\n      <td>0.416395</td>\n      <td>0.597222</td>\n      <td>0.586428</td>\n      <td>0.269072</td>\n      <td>0.184660</td>\n      <td>2.05</td>\n    </tr>\n    <tr>\n      <th>12</th>\n      <td>Etobicoke</td>\n      <td>Malvern (132)</td>\n      <td>-79.222517</td>\n      <td>43.803658</td>\n      <td>0.392197</td>\n      <td>0.579861</td>\n      <td>0.592830</td>\n      <td>0.212310</td>\n      <td>0.145080</td>\n      <td>1.92</td>\n    </tr>\n    <tr>\n      <th>13</th>\n      <td>Scarborough</td>\n      <td>South Riverdale (70)</td>\n      <td>-79.335651</td>\n      <td>43.649292</td>\n      <td>0.249643</td>\n      <td>0.547222</td>\n      <td>0.540973</td>\n      <td>0.313281</td>\n      <td>0.236994</td>\n      <td>1.89</td>\n    </tr>\n    <tr>\n      <th>14</th>\n      <td>Scarborough</td>\n      <td>Lambton Baby Point (114)</td>\n      <td>-79.496045</td>\n      <td>43.657420</td>\n      <td>0.393979</td>\n      <td>0.527083</td>\n      <td>0.517286</td>\n      <td>0.273257</td>\n      <td>0.152956</td>\n      <td>1.86</td>\n    </tr>\n  </tbody>\n</table>\n</div>", 
                        "text/plain": "                borough                              neighborhood  longitude  \\\n0   Old City of Toronto    Waterfront Communities-The Island (77) -79.377202   \n1            North York                              Niagara (82) -79.412420   \n2            North York                      Willowdale East (51) -79.401484   \n3   Old City of Toronto                Church-Yonge Corridor (75) -79.379017   \n4           Scarborough           Islington-City Centre West (14) -79.543317   \n5           Scarborough  Dovercourt-Wallace Emerson-Junction (93) -79.438541   \n6   Old City of Toronto                 Mount Pleasant West (104) -79.393360   \n7   Old City of Toronto                                Annex (95) -79.404001   \n8           Scarborough                              Woburn (137) -79.228586   \n9           Scarborough  Mimico (includes Humber Bay Shores) (17) -79.500137   \n10  Old City of Toronto                  Bay Street Corridor (76) -79.385721   \n11  Old City of Toronto                               Rouge (131) -79.186343   \n12            Etobicoke                             Malvern (132) -79.222517   \n13          Scarborough                      South Riverdale (70) -79.335651   \n14          Scarborough                  Lambton Baby Point (114) -79.496045   \n\n     latitude  pop_score  male_score  female_score  edu_score  income_score  \\\n0   43.633880   0.590283    2.525000      2.151729   1.298059      0.297177   \n1   43.636681   0.279232    1.230556      1.142125   0.573257      0.299974   \n2   43.770602   0.451661    1.027083      1.013444   0.771195      0.201103   \n3   43.659649   0.280665    0.961806      0.748399   0.500849      0.235582   \n4   43.633463   0.393728    0.796528      0.748399   0.455549      0.232905   \n5   43.665677   0.327995    0.831944      0.781690   0.352213      0.184884   \n6   43.704435   0.265602    0.743750      0.756722   0.462644      0.248729   \n7   43.671585   0.273375    0.659028      0.637644   0.459915      0.438650   \n8   43.766740   0.478984    0.739583      0.762484   0.318011      0.149656   \n9   43.615924   0.304164    0.711806      0.659411   0.352577      0.240683   \n10  43.657511   0.231025    0.669444      0.628681   0.424257      0.237705   \n11  43.821201   0.416395    0.597222      0.586428   0.269072      0.184660   \n12  43.803658   0.392197    0.579861      0.592830   0.212310      0.145080   \n13  43.649292   0.249643    0.547222      0.540973   0.313281      0.236994   \n14  43.657420   0.393979    0.527083      0.517286   0.273257      0.152956   \n\n    total_score  \n0          6.86  \n1          3.53  \n2          3.46  \n3          2.73  \n4          2.63  \n5          2.48  \n6          2.48  \n7          2.47  \n8          2.45  \n9          2.27  \n10         2.19  \n11         2.05  \n12         1.92  \n13         1.89  \n14         1.86  "
                    }, 
                    "output_type": "execute_result"
                }
            ], 
            "source": "top15_hoods = df_final.sort_values(by=['total_score'],ascending=False).head(15)\ntop15_hoods = top15_hoods.reset_index().drop('index', axis=1)\ntop15_hoods"
        }, 
        {
            "source": "Define Foursquare credentials and version", 
            "cell_type": "markdown", 
            "metadata": {}
        }, 
        {
            "execution_count": 51, 
            "cell_type": "code", 
            "metadata": {}, 
            "outputs": [
                {
                    "output_type": "stream", 
                    "name": "stdout", 
                    "text": "Your credentails:\nCLIENT_ID: \nCLIENT_SECRET:\n"
                }
            ], 
            "source": "CLIENT_ID = '' # your Foursquare ID\nCLIENT_SECRET = '' # your Foursquare Secret\nVERSION = '20180605' # Foursquare API version\n\nprint('Your credentails:')\nprint('CLIENT_ID: ' + CLIENT_ID)\nprint('CLIENT_SECRET:' + CLIENT_SECRET)"
        }, 
        {
            "source": "Get the top venues for all neighborhoods within a radius of 1610 meters", 
            "cell_type": "markdown", 
            "metadata": {}
        }, 
        {
            "execution_count": 56, 
            "cell_type": "code", 
            "metadata": {}, 
            "outputs": [], 
            "source": "def getNearbyVenues(names, latitudes, longitudes, LIMIT = 100, radius=1610): # 1610 meters = 1.00 mile\n    \n    venues_list=[]\n    for name, lat, lng in zip(names, latitudes, longitudes):\n        print(name)\n            \n        # create the API request URL\n        url = 'https://api.foursquare.com/v2/venues/explore?&client_id={}&client_secret={}&v={}&ll={},{}&radius={}&limit={}'.format(\n            CLIENT_ID, \n            CLIENT_SECRET, \n            VERSION, \n            lat, \n            lng, \n            radius, \n            LIMIT)\n            \n        # make the GET request\n        results = requests.get(url).json()[\"response\"]['groups'][0]['items']\n        \n        # return only relevant information for each nearby venue\n        venues_list.append([(\n            name, \n            lat, \n            lng, \n            v['venue']['name'], \n            v['venue']['location']['lat'], \n            v['venue']['location']['lng'],  \n            v['venue']['categories'][0]['name']) for v in results])\n\n    nearby_venues = pd.DataFrame([item for venue_list in venues_list for item in venue_list])\n    nearby_venues.columns = ['neighborhood', \n                  'neighborhood_latitude', \n                  'neighborhood_longitude', \n                  'venue', \n                  'venue_latitude', \n                  'venue_longitude', \n                  'venue_category']\n    return(nearby_venues)"
        }, 
        {
            "execution_count": null, 
            "cell_type": "code", 
            "metadata": {}, 
            "outputs": [], 
            "source": ""
        }, 
        {
            "execution_count": null, 
            "cell_type": "code", 
            "metadata": {}, 
            "outputs": [], 
            "source": ""
        }
    ], 
    "metadata": {
        "kernelspec": {
            "display_name": "Python 3.5", 
            "name": "python3", 
            "language": "python"
        }, 
        "language_info": {
            "mimetype": "text/x-python", 
            "nbconvert_exporter": "python", 
            "version": "3.5.5", 
            "name": "python", 
            "file_extension": ".py", 
            "pygments_lexer": "ipython3", 
            "codemirror_mode": {
                "version": 3, 
                "name": "ipython"
            }
        }
    }, 
    "nbformat": 4
}